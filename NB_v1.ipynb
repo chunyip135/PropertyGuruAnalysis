{
 "cells": [
  {
   "cell_type": "code",
   "execution_count": 1,
   "id": "ebb6fcdd",
   "metadata": {},
   "outputs": [],
   "source": [
    "from pipeline import Pipeline\n",
    "import missingno as msno\n",
    "import matplotlib.pyplot as plt\n",
    "import seaborn as sns\n",
    "\n",
    "import pandas as pd\n",
    "pd.options.display.float_format = '{:.5f}'.format\n",
    "\n",
    "from sklearn.pipeline import make_pipeline\n",
    "from sklearn.linear_model import LinearRegression, Lasso, Ridge\n",
    "from sklearn.preprocessing import StandardScaler"
   ]
  },
  {
   "cell_type": "code",
   "execution_count": 2,
   "id": "47fd5a11",
   "metadata": {},
   "outputs": [
    {
     "name": "stdout",
     "output_type": "stream",
     "text": [
      "/Users/samuelwong/Projects/PropertyGuru Analysis/Web Scraping/Working\n"
     ]
    }
   ],
   "source": [
    "pipeline = Pipeline()\n",
    "df = pipeline.run_pipeline()"
   ]
  },
  {
   "cell_type": "code",
   "execution_count": 3,
   "id": "93d03293",
   "metadata": {},
   "outputs": [
    {
     "name": "stdout",
     "output_type": "stream",
     "text": [
      "<class 'pandas.core.frame.DataFrame'>\n",
      "Int64Index: 4390 entries, 0 to 5489\n",
      "Data columns (total 15 columns):\n",
      " #   Column               Non-Null Count  Dtype  \n",
      "---  ------               --------------  -----  \n",
      " 0   id                   4390 non-null   int64  \n",
      " 1   price                4380 non-null   float64\n",
      " 2   sqft                 4350 non-null   float64\n",
      " 3   bedrooms             4326 non-null   float64\n",
      " 4   bathrooms            4318 non-null   float64\n",
      " 5   listing_tags         4390 non-null   object \n",
      " 6   furnishing           3227 non-null   object \n",
      " 7   tenure               3850 non-null   object \n",
      " 8   state                4390 non-null   object \n",
      " 9   district             4390 non-null   object \n",
      " 10  landed_vs_high_rise  4390 non-null   object \n",
      " 11  pool                 4390 non-null   bool   \n",
      " 12  fitness              4390 non-null   bool   \n",
      " 13  balcony              4390 non-null   bool   \n",
      " 14  log_price            4380 non-null   float64\n",
      "dtypes: bool(3), float64(5), int64(1), object(6)\n",
      "memory usage: 458.7+ KB\n"
     ]
    }
   ],
   "source": [
    "df.info()"
   ]
  },
  {
   "cell_type": "code",
   "execution_count": 4,
   "id": "c9a43151",
   "metadata": {},
   "outputs": [],
   "source": [
    "df.set_index('id', inplace = True)"
   ]
  },
  {
   "cell_type": "code",
   "execution_count": 5,
   "id": "879051ca",
   "metadata": {},
   "outputs": [],
   "source": [
    "df_ori = df.copy()"
   ]
  },
  {
   "cell_type": "code",
   "execution_count": 6,
   "id": "ceff23ae",
   "metadata": {},
   "outputs": [],
   "source": [
    "df['price_div'] = df.price.div(1000)"
   ]
  },
  {
   "cell_type": "code",
   "execution_count": 7,
   "id": "8f2acb45",
   "metadata": {},
   "outputs": [
    {
     "data": {
      "text/html": [
       "<div>\n",
       "<style scoped>\n",
       "    .dataframe tbody tr th:only-of-type {\n",
       "        vertical-align: middle;\n",
       "    }\n",
       "\n",
       "    .dataframe tbody tr th {\n",
       "        vertical-align: top;\n",
       "    }\n",
       "\n",
       "    .dataframe thead th {\n",
       "        text-align: right;\n",
       "    }\n",
       "</style>\n",
       "<table border=\"1\" class=\"dataframe\">\n",
       "  <thead>\n",
       "    <tr style=\"text-align: right;\">\n",
       "      <th></th>\n",
       "      <th>price</th>\n",
       "      <th>sqft</th>\n",
       "      <th>bedrooms</th>\n",
       "      <th>bathrooms</th>\n",
       "      <th>listing_tags</th>\n",
       "      <th>furnishing</th>\n",
       "      <th>tenure</th>\n",
       "      <th>state</th>\n",
       "      <th>district</th>\n",
       "      <th>landed_vs_high_rise</th>\n",
       "      <th>pool</th>\n",
       "      <th>fitness</th>\n",
       "      <th>balcony</th>\n",
       "      <th>log_price</th>\n",
       "      <th>price_div</th>\n",
       "    </tr>\n",
       "    <tr>\n",
       "      <th>id</th>\n",
       "      <th></th>\n",
       "      <th></th>\n",
       "      <th></th>\n",
       "      <th></th>\n",
       "      <th></th>\n",
       "      <th></th>\n",
       "      <th></th>\n",
       "      <th></th>\n",
       "      <th></th>\n",
       "      <th></th>\n",
       "      <th></th>\n",
       "      <th></th>\n",
       "      <th></th>\n",
       "      <th></th>\n",
       "      <th></th>\n",
       "    </tr>\n",
       "  </thead>\n",
       "  <tbody>\n",
       "    <tr>\n",
       "      <th>1</th>\n",
       "      <td>1288000.00000</td>\n",
       "      <td>2622.00000</td>\n",
       "      <td>5.00000</td>\n",
       "      <td>5.00000</td>\n",
       "      <td>2-storey Terraced House</td>\n",
       "      <td>Partially Furnished</td>\n",
       "      <td>Leasehold</td>\n",
       "      <td>Selangor</td>\n",
       "      <td>Kuala Langat</td>\n",
       "      <td>landed</td>\n",
       "      <td>True</td>\n",
       "      <td>True</td>\n",
       "      <td>True</td>\n",
       "      <td>14.06860</td>\n",
       "      <td>1288.00000</td>\n",
       "    </tr>\n",
       "    <tr>\n",
       "      <th>2</th>\n",
       "      <td>1600000.00000</td>\n",
       "      <td>1847.00000</td>\n",
       "      <td>5.00000</td>\n",
       "      <td>5.00000</td>\n",
       "      <td>3-storey Terraced House</td>\n",
       "      <td>Unfurnished</td>\n",
       "      <td>Leasehold</td>\n",
       "      <td>Selangor</td>\n",
       "      <td>Puchong</td>\n",
       "      <td>landed</td>\n",
       "      <td>True</td>\n",
       "      <td>False</td>\n",
       "      <td>True</td>\n",
       "      <td>14.28551</td>\n",
       "      <td>1600.00000</td>\n",
       "    </tr>\n",
       "    <tr>\n",
       "      <th>3</th>\n",
       "      <td>400000.00000</td>\n",
       "      <td>1100.00000</td>\n",
       "      <td>3.00000</td>\n",
       "      <td>2.00000</td>\n",
       "      <td>Condominium</td>\n",
       "      <td>Partially Furnished</td>\n",
       "      <td>Leasehold</td>\n",
       "      <td>Selangor</td>\n",
       "      <td>Ampang</td>\n",
       "      <td>high-rise</td>\n",
       "      <td>False</td>\n",
       "      <td>False</td>\n",
       "      <td>True</td>\n",
       "      <td>12.89922</td>\n",
       "      <td>400.00000</td>\n",
       "    </tr>\n",
       "    <tr>\n",
       "      <th>4</th>\n",
       "      <td>665000.00000</td>\n",
       "      <td>1535.00000</td>\n",
       "      <td>4.00000</td>\n",
       "      <td>3.00000</td>\n",
       "      <td>2-storey Terraced House</td>\n",
       "      <td>Unfurnished</td>\n",
       "      <td>Freehold</td>\n",
       "      <td>Selangor</td>\n",
       "      <td>Klang</td>\n",
       "      <td>landed</td>\n",
       "      <td>False</td>\n",
       "      <td>False</td>\n",
       "      <td>False</td>\n",
       "      <td>13.40754</td>\n",
       "      <td>665.00000</td>\n",
       "    </tr>\n",
       "    <tr>\n",
       "      <th>5</th>\n",
       "      <td>599000.00000</td>\n",
       "      <td>1900.00000</td>\n",
       "      <td>4.00000</td>\n",
       "      <td>3.00000</td>\n",
       "      <td>2-storey Terraced House</td>\n",
       "      <td>Unfurnished</td>\n",
       "      <td>Leasehold</td>\n",
       "      <td>Selangor</td>\n",
       "      <td>Bangi</td>\n",
       "      <td>landed</td>\n",
       "      <td>True</td>\n",
       "      <td>False</td>\n",
       "      <td>False</td>\n",
       "      <td>13.30302</td>\n",
       "      <td>599.00000</td>\n",
       "    </tr>\n",
       "    <tr>\n",
       "      <th>...</th>\n",
       "      <td>...</td>\n",
       "      <td>...</td>\n",
       "      <td>...</td>\n",
       "      <td>...</td>\n",
       "      <td>...</td>\n",
       "      <td>...</td>\n",
       "      <td>...</td>\n",
       "      <td>...</td>\n",
       "      <td>...</td>\n",
       "      <td>...</td>\n",
       "      <td>...</td>\n",
       "      <td>...</td>\n",
       "      <td>...</td>\n",
       "      <td>...</td>\n",
       "      <td>...</td>\n",
       "    </tr>\n",
       "    <tr>\n",
       "      <th>4386</th>\n",
       "      <td>980000.00000</td>\n",
       "      <td>2750.00000</td>\n",
       "      <td>5.00000</td>\n",
       "      <td>5.00000</td>\n",
       "      <td>Cluster House</td>\n",
       "      <td>NaN</td>\n",
       "      <td>Freehold</td>\n",
       "      <td>Selangor</td>\n",
       "      <td>Semenyih</td>\n",
       "      <td>landed</td>\n",
       "      <td>True</td>\n",
       "      <td>True</td>\n",
       "      <td>False</td>\n",
       "      <td>13.79531</td>\n",
       "      <td>980.00000</td>\n",
       "    </tr>\n",
       "    <tr>\n",
       "      <th>4387</th>\n",
       "      <td>880000.00000</td>\n",
       "      <td>1084.00000</td>\n",
       "      <td>3.00000</td>\n",
       "      <td>2.00000</td>\n",
       "      <td>Service Residence</td>\n",
       "      <td>Partially Furnished</td>\n",
       "      <td>Leasehold</td>\n",
       "      <td>Selangor</td>\n",
       "      <td>Damansara</td>\n",
       "      <td>high-rise</td>\n",
       "      <td>True</td>\n",
       "      <td>True</td>\n",
       "      <td>False</td>\n",
       "      <td>13.68768</td>\n",
       "      <td>880.00000</td>\n",
       "    </tr>\n",
       "    <tr>\n",
       "      <th>4388</th>\n",
       "      <td>2100000.00000</td>\n",
       "      <td>3530.00000</td>\n",
       "      <td>6.00000</td>\n",
       "      <td>5.00000</td>\n",
       "      <td>Semi-Detached House</td>\n",
       "      <td>Unfurnished</td>\n",
       "      <td>Leasehold</td>\n",
       "      <td>Selangor</td>\n",
       "      <td>Ampang</td>\n",
       "      <td>landed</td>\n",
       "      <td>True</td>\n",
       "      <td>True</td>\n",
       "      <td>False</td>\n",
       "      <td>14.55745</td>\n",
       "      <td>2100.00000</td>\n",
       "    </tr>\n",
       "    <tr>\n",
       "      <th>4389</th>\n",
       "      <td>1700000.00000</td>\n",
       "      <td>6000.00000</td>\n",
       "      <td>5.00000</td>\n",
       "      <td>6.00000</td>\n",
       "      <td>Bungalow House</td>\n",
       "      <td>Unfurnished</td>\n",
       "      <td>Freehold</td>\n",
       "      <td>Selangor</td>\n",
       "      <td>Sungai Buloh</td>\n",
       "      <td>landed</td>\n",
       "      <td>False</td>\n",
       "      <td>False</td>\n",
       "      <td>False</td>\n",
       "      <td>14.34614</td>\n",
       "      <td>1700.00000</td>\n",
       "    </tr>\n",
       "    <tr>\n",
       "      <th>4390</th>\n",
       "      <td>270000.00000</td>\n",
       "      <td>550.00000</td>\n",
       "      <td>2.00000</td>\n",
       "      <td>1.00000</td>\n",
       "      <td>Service Residence</td>\n",
       "      <td>NaN</td>\n",
       "      <td>Leasehold</td>\n",
       "      <td>Selangor</td>\n",
       "      <td>Damansara</td>\n",
       "      <td>high-rise</td>\n",
       "      <td>True</td>\n",
       "      <td>True</td>\n",
       "      <td>False</td>\n",
       "      <td>12.50618</td>\n",
       "      <td>270.00000</td>\n",
       "    </tr>\n",
       "  </tbody>\n",
       "</table>\n",
       "<p>4390 rows × 15 columns</p>\n",
       "</div>"
      ],
      "text/plain": [
       "             price       sqft  bedrooms  bathrooms             listing_tags  \\\n",
       "id                                                                            \n",
       "1    1288000.00000 2622.00000   5.00000    5.00000  2-storey Terraced House   \n",
       "2    1600000.00000 1847.00000   5.00000    5.00000  3-storey Terraced House   \n",
       "3     400000.00000 1100.00000   3.00000    2.00000              Condominium   \n",
       "4     665000.00000 1535.00000   4.00000    3.00000  2-storey Terraced House   \n",
       "5     599000.00000 1900.00000   4.00000    3.00000  2-storey Terraced House   \n",
       "...            ...        ...       ...        ...                      ...   \n",
       "4386  980000.00000 2750.00000   5.00000    5.00000            Cluster House   \n",
       "4387  880000.00000 1084.00000   3.00000    2.00000        Service Residence   \n",
       "4388 2100000.00000 3530.00000   6.00000    5.00000      Semi-Detached House   \n",
       "4389 1700000.00000 6000.00000   5.00000    6.00000           Bungalow House   \n",
       "4390  270000.00000  550.00000   2.00000    1.00000        Service Residence   \n",
       "\n",
       "               furnishing     tenure      state      district  \\\n",
       "id                                                              \n",
       "1     Partially Furnished  Leasehold   Selangor  Kuala Langat   \n",
       "2             Unfurnished  Leasehold   Selangor       Puchong   \n",
       "3     Partially Furnished  Leasehold   Selangor        Ampang   \n",
       "4             Unfurnished   Freehold   Selangor         Klang   \n",
       "5             Unfurnished  Leasehold   Selangor         Bangi   \n",
       "...                   ...        ...        ...           ...   \n",
       "4386                  NaN   Freehold   Selangor      Semenyih   \n",
       "4387  Partially Furnished  Leasehold   Selangor     Damansara   \n",
       "4388          Unfurnished  Leasehold   Selangor        Ampang   \n",
       "4389          Unfurnished   Freehold   Selangor  Sungai Buloh   \n",
       "4390                  NaN  Leasehold   Selangor     Damansara   \n",
       "\n",
       "     landed_vs_high_rise   pool  fitness  balcony  log_price  price_div  \n",
       "id                                                                       \n",
       "1                 landed   True     True     True   14.06860 1288.00000  \n",
       "2                 landed   True    False     True   14.28551 1600.00000  \n",
       "3              high-rise  False    False     True   12.89922  400.00000  \n",
       "4                 landed  False    False    False   13.40754  665.00000  \n",
       "5                 landed   True    False    False   13.30302  599.00000  \n",
       "...                  ...    ...      ...      ...        ...        ...  \n",
       "4386              landed   True     True    False   13.79531  980.00000  \n",
       "4387           high-rise   True     True    False   13.68768  880.00000  \n",
       "4388              landed   True     True    False   14.55745 2100.00000  \n",
       "4389              landed  False    False    False   14.34614 1700.00000  \n",
       "4390           high-rise   True     True    False   12.50618  270.00000  \n",
       "\n",
       "[4390 rows x 15 columns]"
      ]
     },
     "execution_count": 7,
     "metadata": {},
     "output_type": "execute_result"
    }
   ],
   "source": [
    "df"
   ]
  },
  {
   "cell_type": "markdown",
   "id": "53c3e47f",
   "metadata": {},
   "source": [
    "## Impute missing values"
   ]
  },
  {
   "cell_type": "code",
   "execution_count": 8,
   "id": "c4ce3c92",
   "metadata": {},
   "outputs": [
    {
     "data": {
      "text/plain": [
       "furnishing            26.49203\n",
       "tenure                12.30068\n",
       "bathrooms              1.64009\n",
       "bedrooms               1.45786\n",
       "sqft                   0.91116\n",
       "price                  0.22779\n",
       "log_price              0.22779\n",
       "price_div              0.22779\n",
       "listing_tags           0.00000\n",
       "state                  0.00000\n",
       "district               0.00000\n",
       "landed_vs_high_rise    0.00000\n",
       "pool                   0.00000\n",
       "fitness                0.00000\n",
       "balcony                0.00000\n",
       "dtype: float64"
      ]
     },
     "execution_count": 8,
     "metadata": {},
     "output_type": "execute_result"
    }
   ],
   "source": [
    "missing_prop = (df.isna().sum()) / df.shape[0] * 100\n",
    "missing_prop.sort_values(ascending = False)"
   ]
  },
  {
   "cell_type": "code",
   "execution_count": 9,
   "id": "00d2ac11",
   "metadata": {},
   "outputs": [],
   "source": [
    "target_cols = missing_prop[(missing_prop <= 2)].index.tolist()"
   ]
  },
  {
   "cell_type": "code",
   "execution_count": 10,
   "id": "e593d4f9",
   "metadata": {},
   "outputs": [],
   "source": [
    "df = df.dropna(axis = 0, how = 'any', subset = target_cols)"
   ]
  },
  {
   "cell_type": "code",
   "execution_count": 11,
   "id": "707f5204",
   "metadata": {},
   "outputs": [
    {
     "name": "stdout",
     "output_type": "stream",
     "text": [
      "<class 'pandas.core.frame.DataFrame'>\n",
      "Int64Index: 4290 entries, 1 to 4390\n",
      "Data columns (total 15 columns):\n",
      " #   Column               Non-Null Count  Dtype  \n",
      "---  ------               --------------  -----  \n",
      " 0   price                4290 non-null   float64\n",
      " 1   sqft                 4290 non-null   float64\n",
      " 2   bedrooms             4290 non-null   float64\n",
      " 3   bathrooms            4290 non-null   float64\n",
      " 4   listing_tags         4290 non-null   object \n",
      " 5   furnishing           3205 non-null   object \n",
      " 6   tenure               3762 non-null   object \n",
      " 7   state                4290 non-null   object \n",
      " 8   district             4290 non-null   object \n",
      " 9   landed_vs_high_rise  4290 non-null   object \n",
      " 10  pool                 4290 non-null   bool   \n",
      " 11  fitness              4290 non-null   bool   \n",
      " 12  balcony              4290 non-null   bool   \n",
      " 13  log_price            4290 non-null   float64\n",
      " 14  price_div            4290 non-null   float64\n",
      "dtypes: bool(3), float64(6), object(6)\n",
      "memory usage: 448.3+ KB\n"
     ]
    }
   ],
   "source": [
    "df.info()"
   ]
  },
  {
   "cell_type": "code",
   "execution_count": 12,
   "id": "d9684ab0",
   "metadata": {},
   "outputs": [
    {
     "name": "stdout",
     "output_type": "stream",
     "text": [
      "Number of rows removed: 100\n"
     ]
    }
   ],
   "source": [
    "print(f'Number of rows removed: {df_ori.shape[0] - df.shape[0]}')"
   ]
  },
  {
   "cell_type": "markdown",
   "id": "421c61ec",
   "metadata": {},
   "source": [
    "### Furnishing"
   ]
  },
  {
   "cell_type": "code",
   "execution_count": 13,
   "id": "66f969bf",
   "metadata": {},
   "outputs": [
    {
     "data": {
      "text/plain": [
       "<AxesSubplot:>"
      ]
     },
     "execution_count": 13,
     "metadata": {},
     "output_type": "execute_result"
    },
    {
     "data": {
      "image/png": "[encoded data removed]",
      "text/plain": [
       "<Figure size 1800x720 with 2 Axes>"
      ]
     },
     "metadata": {
      "needs_background": "light"
     },
     "output_type": "display_data"
    }
   ],
   "source": [
    "msno.matrix(df.sort_values(by = 'landed_vs_high_rise'))"
   ]
  },
  {
   "cell_type": "code",
   "execution_count": 14,
   "id": "550a01ca",
   "metadata": {},
   "outputs": [],
   "source": [
    "df_landed = df[df.landed_vs_high_rise == 'landed']\n",
    "df_high_rise = df[df.landed_vs_high_rise == 'high-rise']"
   ]
  },
  {
   "cell_type": "code",
   "execution_count": 15,
   "id": "957de2c3",
   "metadata": {},
   "outputs": [
    {
     "data": {
      "text/plain": [
       "0    Unfurnished\n",
       "Name: furnishing, dtype: object"
      ]
     },
     "execution_count": 15,
     "metadata": {},
     "output_type": "execute_result"
    }
   ],
   "source": [
    "df_landed['furnishing'].mode()"
   ]
  },
  {
   "cell_type": "code",
   "execution_count": 16,
   "id": "264a4374",
   "metadata": {},
   "outputs": [
    {
     "data": {
      "text/plain": [
       "0    Partially Furnished\n",
       "Name: furnishing, dtype: object"
      ]
     },
     "execution_count": 16,
     "metadata": {},
     "output_type": "execute_result"
    }
   ],
   "source": [
    "df_high_rise['furnishing'].mode()"
   ]
  },
  {
   "cell_type": "code",
   "execution_count": 17,
   "id": "99e2042f",
   "metadata": {},
   "outputs": [
    {
     "data": {
      "text/plain": [
       "'Partially Furnished'"
      ]
     },
     "execution_count": 17,
     "metadata": {},
     "output_type": "execute_result"
    }
   ],
   "source": [
    "df['furnishing'].mode().values[0]"
   ]
  },
  {
   "cell_type": "code",
   "execution_count": 18,
   "id": "a8f19d15",
   "metadata": {},
   "outputs": [
    {
     "data": {
      "text/plain": [
       "id\n",
       "1       False\n",
       "2       False\n",
       "4       False\n",
       "5       False\n",
       "6        True\n",
       "        ...  \n",
       "4384    False\n",
       "4385    False\n",
       "4386     True\n",
       "4388    False\n",
       "4389    False\n",
       "Name: furnishing, Length: 3065, dtype: bool"
      ]
     },
     "execution_count": 18,
     "metadata": {},
     "output_type": "execute_result"
    }
   ],
   "source": [
    "df[df.landed_vs_high_rise == 'landed']['furnishing'].isna()"
   ]
  },
  {
   "cell_type": "code",
   "execution_count": 19,
   "id": "a4c6ea6c",
   "metadata": {},
   "outputs": [],
   "source": [
    "furn_id_na = df[df['furnishing'].isna()].index.tolist()"
   ]
  },
  {
   "cell_type": "code",
   "execution_count": 20,
   "id": "5fdbb7f8",
   "metadata": {},
   "outputs": [],
   "source": [
    "for i, row in df.iterrows():\n",
    "    if i in furn_id_na:\n",
    "        if row['landed_vs_high_rise'] == 'landed':\n",
    "            df.loc[i,'furnishing'] = df_landed['furnishing'].mode().values[0]\n",
    "        elif row['landed_vs_high_rise'] == 'high-rise':\n",
    "            df.loc[i,'furnishing'] = df_high_rise['furnishing'].mode().values[0]\n",
    "    else:\n",
    "        pass"
   ]
  },
  {
   "cell_type": "code",
   "execution_count": 21,
   "id": "97be8378",
   "metadata": {},
   "outputs": [
    {
     "name": "stdout",
     "output_type": "stream",
     "text": [
      "<class 'pandas.core.frame.DataFrame'>\n",
      "Int64Index: 4290 entries, 1 to 4390\n",
      "Data columns (total 15 columns):\n",
      " #   Column               Non-Null Count  Dtype  \n",
      "---  ------               --------------  -----  \n",
      " 0   price                4290 non-null   float64\n",
      " 1   sqft                 4290 non-null   float64\n",
      " 2   bedrooms             4290 non-null   float64\n",
      " 3   bathrooms            4290 non-null   float64\n",
      " 4   listing_tags         4290 non-null   object \n",
      " 5   furnishing           4290 non-null   object \n",
      " 6   tenure               3762 non-null   object \n",
      " 7   state                4290 non-null   object \n",
      " 8   district             4290 non-null   object \n",
      " 9   landed_vs_high_rise  4290 non-null   object \n",
      " 10  pool                 4290 non-null   bool   \n",
      " 11  fitness              4290 non-null   bool   \n",
      " 12  balcony              4290 non-null   bool   \n",
      " 13  log_price            4290 non-null   float64\n",
      " 14  price_div            4290 non-null   float64\n",
      "dtypes: bool(3), float64(6), object(6)\n",
      "memory usage: 577.3+ KB\n"
     ]
    }
   ],
   "source": [
    "df.info()"
   ]
  },
  {
   "cell_type": "markdown",
   "id": "1b3cd771",
   "metadata": {},
   "source": [
    "we can see that the number of missing furnishing values in landed is more 4 times more than the the high-rise listings.\n",
    "\n",
    "- First option => impute the mode class\n",
    "- 2nd option => impute based on the price range"
   ]
  },
  {
   "cell_type": "code",
   "execution_count": 22,
   "id": "86e88f7d",
   "metadata": {},
   "outputs": [
    {
     "name": "stderr",
     "output_type": "stream",
     "text": [
      "/var/folders/ss/52sqv29j2zdgspf8_wh7wppm0000gn/T/ipykernel_791/3836525955.py:1: SettingWithCopyWarning: \n",
      "A value is trying to be set on a copy of a slice from a DataFrame\n",
      "\n",
      "See the caveats in the documentation: https://pandas.pydata.org/pandas-docs/stable/user_guide/indexing.html#returning-a-view-versus-a-copy\n",
      "  df['tenure'].fillna(df['tenure'].mode().values[0], inplace = True)\n"
     ]
    }
   ],
   "source": [
    "df['tenure'].fillna(df['tenure'].mode().values[0], inplace = True)"
   ]
  },
  {
   "cell_type": "code",
   "execution_count": 23,
   "id": "f0ab4c6a",
   "metadata": {},
   "outputs": [
    {
     "data": {
      "text/plain": [
       "price                  0\n",
       "sqft                   0\n",
       "bedrooms               0\n",
       "bathrooms              0\n",
       "listing_tags           0\n",
       "furnishing             0\n",
       "tenure                 0\n",
       "state                  0\n",
       "district               0\n",
       "landed_vs_high_rise    0\n",
       "pool                   0\n",
       "fitness                0\n",
       "balcony                0\n",
       "log_price              0\n",
       "price_div              0\n",
       "dtype: int64"
      ]
     },
     "execution_count": 23,
     "metadata": {},
     "output_type": "execute_result"
    }
   ],
   "source": [
    "df.isna().sum()"
   ]
  },
  {
   "cell_type": "markdown",
   "id": "42c09a5f",
   "metadata": {},
   "source": [
    "# EDA"
   ]
  },
  {
   "cell_type": "code",
   "execution_count": 24,
   "id": "6368ab6e",
   "metadata": {},
   "outputs": [],
   "source": [
    "## Target class"
   ]
  },
  {
   "cell_type": "code",
   "execution_count": 25,
   "id": "7674b064",
   "metadata": {},
   "outputs": [
    {
     "data": {
      "text/plain": [
       "<AxesSubplot:xlabel='price', ylabel='Count'>"
      ]
     },
     "execution_count": 25,
     "metadata": {},
     "output_type": "execute_result"
    },
    {
     "data": {
      "image/png": "[encoded data removed]",
      "text/plain": [
       "<Figure size 432x288 with 1 Axes>"
      ]
     },
     "metadata": {
      "needs_background": "light"
     },
     "output_type": "display_data"
    }
   ],
   "source": [
    "sns.histplot(data = df, x = 'price', bins = 10)"
   ]
  },
  {
   "cell_type": "markdown",
   "id": "538bef52",
   "metadata": {},
   "source": [
    "We can see that there is an outlier with extremely high house price"
   ]
  },
  {
   "cell_type": "code",
   "execution_count": 26,
   "id": "51c9c129",
   "metadata": {},
   "outputs": [
    {
     "data": {
      "text/html": [
       "<div>\n",
       "<style scoped>\n",
       "    .dataframe tbody tr th:only-of-type {\n",
       "        vertical-align: middle;\n",
       "    }\n",
       "\n",
       "    .dataframe tbody tr th {\n",
       "        vertical-align: top;\n",
       "    }\n",
       "\n",
       "    .dataframe thead th {\n",
       "        text-align: right;\n",
       "    }\n",
       "</style>\n",
       "<table border=\"1\" class=\"dataframe\">\n",
       "  <thead>\n",
       "    <tr style=\"text-align: right;\">\n",
       "      <th></th>\n",
       "      <th>price</th>\n",
       "      <th>sqft</th>\n",
       "      <th>bedrooms</th>\n",
       "      <th>bathrooms</th>\n",
       "      <th>listing_tags</th>\n",
       "      <th>furnishing</th>\n",
       "      <th>tenure</th>\n",
       "      <th>state</th>\n",
       "      <th>district</th>\n",
       "      <th>landed_vs_high_rise</th>\n",
       "      <th>pool</th>\n",
       "      <th>fitness</th>\n",
       "      <th>balcony</th>\n",
       "      <th>log_price</th>\n",
       "      <th>price_div</th>\n",
       "    </tr>\n",
       "    <tr>\n",
       "      <th>id</th>\n",
       "      <th></th>\n",
       "      <th></th>\n",
       "      <th></th>\n",
       "      <th></th>\n",
       "      <th></th>\n",
       "      <th></th>\n",
       "      <th></th>\n",
       "      <th></th>\n",
       "      <th></th>\n",
       "      <th></th>\n",
       "      <th></th>\n",
       "      <th></th>\n",
       "      <th></th>\n",
       "      <th></th>\n",
       "      <th></th>\n",
       "    </tr>\n",
       "  </thead>\n",
       "  <tbody>\n",
       "    <tr>\n",
       "      <th>2470</th>\n",
       "      <td>1280000000.00000</td>\n",
       "      <td>2407.00000</td>\n",
       "      <td>4.00000</td>\n",
       "      <td>4.00000</td>\n",
       "      <td>Semi-Detached House</td>\n",
       "      <td>Unfurnished</td>\n",
       "      <td>Freehold</td>\n",
       "      <td>Selangor</td>\n",
       "      <td>Puchong</td>\n",
       "      <td>landed</td>\n",
       "      <td>False</td>\n",
       "      <td>False</td>\n",
       "      <td>False</td>\n",
       "      <td>20.97013</td>\n",
       "      <td>1280000.00000</td>\n",
       "    </tr>\n",
       "    <tr>\n",
       "      <th>2479</th>\n",
       "      <td>1280000000.00000</td>\n",
       "      <td>2407.00000</td>\n",
       "      <td>4.00000</td>\n",
       "      <td>4.00000</td>\n",
       "      <td>Semi-Detached House</td>\n",
       "      <td>Unfurnished</td>\n",
       "      <td>Freehold</td>\n",
       "      <td>Selangor</td>\n",
       "      <td>Puchong</td>\n",
       "      <td>landed</td>\n",
       "      <td>False</td>\n",
       "      <td>False</td>\n",
       "      <td>False</td>\n",
       "      <td>20.97013</td>\n",
       "      <td>1280000.00000</td>\n",
       "    </tr>\n",
       "    <tr>\n",
       "      <th>2010</th>\n",
       "      <td>12000000.00000</td>\n",
       "      <td>17000.00000</td>\n",
       "      <td>8.00000</td>\n",
       "      <td>8.00000</td>\n",
       "      <td>Bungalow House</td>\n",
       "      <td>Unfurnished</td>\n",
       "      <td>Freehold</td>\n",
       "      <td>Selangor</td>\n",
       "      <td>Ampang</td>\n",
       "      <td>landed</td>\n",
       "      <td>False</td>\n",
       "      <td>False</td>\n",
       "      <td>False</td>\n",
       "      <td>16.30042</td>\n",
       "      <td>12000.00000</td>\n",
       "    </tr>\n",
       "    <tr>\n",
       "      <th>1938</th>\n",
       "      <td>12000000.00000</td>\n",
       "      <td>17000.00000</td>\n",
       "      <td>8.00000</td>\n",
       "      <td>8.00000</td>\n",
       "      <td>Bungalow House</td>\n",
       "      <td>Unfurnished</td>\n",
       "      <td>Freehold</td>\n",
       "      <td>Selangor</td>\n",
       "      <td>Ampang</td>\n",
       "      <td>landed</td>\n",
       "      <td>False</td>\n",
       "      <td>False</td>\n",
       "      <td>False</td>\n",
       "      <td>16.30042</td>\n",
       "      <td>12000.00000</td>\n",
       "    </tr>\n",
       "    <tr>\n",
       "      <th>704</th>\n",
       "      <td>11500000.00000</td>\n",
       "      <td>20000.00000</td>\n",
       "      <td>9.00000</td>\n",
       "      <td>9.00000</td>\n",
       "      <td>Bungalow House</td>\n",
       "      <td>Partially Furnished</td>\n",
       "      <td>Freehold</td>\n",
       "      <td>Selangor</td>\n",
       "      <td>Kajang</td>\n",
       "      <td>landed</td>\n",
       "      <td>False</td>\n",
       "      <td>False</td>\n",
       "      <td>True</td>\n",
       "      <td>16.25786</td>\n",
       "      <td>11500.00000</td>\n",
       "    </tr>\n",
       "    <tr>\n",
       "      <th>...</th>\n",
       "      <td>...</td>\n",
       "      <td>...</td>\n",
       "      <td>...</td>\n",
       "      <td>...</td>\n",
       "      <td>...</td>\n",
       "      <td>...</td>\n",
       "      <td>...</td>\n",
       "      <td>...</td>\n",
       "      <td>...</td>\n",
       "      <td>...</td>\n",
       "      <td>...</td>\n",
       "      <td>...</td>\n",
       "      <td>...</td>\n",
       "      <td>...</td>\n",
       "      <td>...</td>\n",
       "    </tr>\n",
       "    <tr>\n",
       "      <th>4193</th>\n",
       "      <td>95000.00000</td>\n",
       "      <td>650.00000</td>\n",
       "      <td>3.00000</td>\n",
       "      <td>2.00000</td>\n",
       "      <td>Apartment</td>\n",
       "      <td>Partially Furnished</td>\n",
       "      <td>Freehold</td>\n",
       "      <td>Selangor</td>\n",
       "      <td>Sungai Buloh</td>\n",
       "      <td>high-rise</td>\n",
       "      <td>False</td>\n",
       "      <td>False</td>\n",
       "      <td>False</td>\n",
       "      <td>11.46163</td>\n",
       "      <td>95.00000</td>\n",
       "    </tr>\n",
       "    <tr>\n",
       "      <th>162</th>\n",
       "      <td>88000.00000</td>\n",
       "      <td>889.00000</td>\n",
       "      <td>2.00000</td>\n",
       "      <td>2.00000</td>\n",
       "      <td>Condominium</td>\n",
       "      <td>Partially Furnished</td>\n",
       "      <td>Freehold</td>\n",
       "      <td>Selangor</td>\n",
       "      <td>Cyberjaya</td>\n",
       "      <td>high-rise</td>\n",
       "      <td>False</td>\n",
       "      <td>False</td>\n",
       "      <td>False</td>\n",
       "      <td>11.38509</td>\n",
       "      <td>88.00000</td>\n",
       "    </tr>\n",
       "    <tr>\n",
       "      <th>454</th>\n",
       "      <td>88000.00000</td>\n",
       "      <td>889.00000</td>\n",
       "      <td>2.00000</td>\n",
       "      <td>2.00000</td>\n",
       "      <td>Condominium</td>\n",
       "      <td>Partially Furnished</td>\n",
       "      <td>Freehold</td>\n",
       "      <td>Selangor</td>\n",
       "      <td>Cyberjaya</td>\n",
       "      <td>high-rise</td>\n",
       "      <td>False</td>\n",
       "      <td>False</td>\n",
       "      <td>False</td>\n",
       "      <td>11.38509</td>\n",
       "      <td>88.00000</td>\n",
       "    </tr>\n",
       "    <tr>\n",
       "      <th>2226</th>\n",
       "      <td>1500.00000</td>\n",
       "      <td>718.00000</td>\n",
       "      <td>2.00000</td>\n",
       "      <td>1.00000</td>\n",
       "      <td>Service Residence</td>\n",
       "      <td>Partially Furnished</td>\n",
       "      <td>Leasehold</td>\n",
       "      <td>Selangor</td>\n",
       "      <td>Petaling Jaya</td>\n",
       "      <td>high-rise</td>\n",
       "      <td>True</td>\n",
       "      <td>True</td>\n",
       "      <td>False</td>\n",
       "      <td>7.31322</td>\n",
       "      <td>1.50000</td>\n",
       "    </tr>\n",
       "    <tr>\n",
       "      <th>1964</th>\n",
       "      <td>1500.00000</td>\n",
       "      <td>718.00000</td>\n",
       "      <td>2.00000</td>\n",
       "      <td>1.00000</td>\n",
       "      <td>Service Residence</td>\n",
       "      <td>Partially Furnished</td>\n",
       "      <td>Leasehold</td>\n",
       "      <td>Selangor</td>\n",
       "      <td>Petaling Jaya</td>\n",
       "      <td>high-rise</td>\n",
       "      <td>True</td>\n",
       "      <td>True</td>\n",
       "      <td>False</td>\n",
       "      <td>7.31322</td>\n",
       "      <td>1.50000</td>\n",
       "    </tr>\n",
       "  </tbody>\n",
       "</table>\n",
       "<p>4290 rows × 15 columns</p>\n",
       "</div>"
      ],
      "text/plain": [
       "                price        sqft  bedrooms  bathrooms         listing_tags  \\\n",
       "id                                                                            \n",
       "2470 1280000000.00000  2407.00000   4.00000    4.00000  Semi-Detached House   \n",
       "2479 1280000000.00000  2407.00000   4.00000    4.00000  Semi-Detached House   \n",
       "2010   12000000.00000 17000.00000   8.00000    8.00000       Bungalow House   \n",
       "1938   12000000.00000 17000.00000   8.00000    8.00000       Bungalow House   \n",
       "704    11500000.00000 20000.00000   9.00000    9.00000       Bungalow House   \n",
       "...               ...         ...       ...        ...                  ...   \n",
       "4193      95000.00000   650.00000   3.00000    2.00000            Apartment   \n",
       "162       88000.00000   889.00000   2.00000    2.00000          Condominium   \n",
       "454       88000.00000   889.00000   2.00000    2.00000          Condominium   \n",
       "2226       1500.00000   718.00000   2.00000    1.00000    Service Residence   \n",
       "1964       1500.00000   718.00000   2.00000    1.00000    Service Residence   \n",
       "\n",
       "               furnishing     tenure      state       district  \\\n",
       "id                                                               \n",
       "2470          Unfurnished   Freehold   Selangor        Puchong   \n",
       "2479          Unfurnished   Freehold   Selangor        Puchong   \n",
       "2010          Unfurnished   Freehold   Selangor         Ampang   \n",
       "1938          Unfurnished   Freehold   Selangor         Ampang   \n",
       "704   Partially Furnished   Freehold   Selangor         Kajang   \n",
       "...                   ...        ...        ...            ...   \n",
       "4193  Partially Furnished   Freehold   Selangor   Sungai Buloh   \n",
       "162   Partially Furnished   Freehold   Selangor      Cyberjaya   \n",
       "454   Partially Furnished   Freehold   Selangor      Cyberjaya   \n",
       "2226  Partially Furnished  Leasehold   Selangor  Petaling Jaya   \n",
       "1964  Partially Furnished  Leasehold   Selangor  Petaling Jaya   \n",
       "\n",
       "     landed_vs_high_rise   pool  fitness  balcony  log_price     price_div  \n",
       "id                                                                          \n",
       "2470              landed  False    False    False   20.97013 1280000.00000  \n",
       "2479              landed  False    False    False   20.97013 1280000.00000  \n",
       "2010              landed  False    False    False   16.30042   12000.00000  \n",
       "1938              landed  False    False    False   16.30042   12000.00000  \n",
       "704               landed  False    False     True   16.25786   11500.00000  \n",
       "...                  ...    ...      ...      ...        ...           ...  \n",
       "4193           high-rise  False    False    False   11.46163      95.00000  \n",
       "162            high-rise  False    False    False   11.38509      88.00000  \n",
       "454            high-rise  False    False    False   11.38509      88.00000  \n",
       "2226           high-rise   True     True    False    7.31322       1.50000  \n",
       "1964           high-rise   True     True    False    7.31322       1.50000  \n",
       "\n",
       "[4290 rows x 15 columns]"
      ]
     },
     "execution_count": 26,
     "metadata": {},
     "output_type": "execute_result"
    }
   ],
   "source": [
    "df.sort_values(by = 'price', ascending = False)"
   ]
  },
  {
   "cell_type": "markdown",
   "id": "9f2a0a6a",
   "metadata": {},
   "source": [
    "Can assume that the listings are wrong"
   ]
  },
  {
   "cell_type": "code",
   "execution_count": 27,
   "id": "f4f3d5d4",
   "metadata": {},
   "outputs": [],
   "source": [
    "drop_rows = df[df.price > 100_000_000].index.tolist()\n",
    "\n",
    "df = df.drop(drop_rows)"
   ]
  },
  {
   "cell_type": "code",
   "execution_count": 28,
   "id": "5be78d06",
   "metadata": {},
   "outputs": [
    {
     "data": {
      "text/plain": [
       "<AxesSubplot:xlabel='price', ylabel='Count'>"
      ]
     },
     "execution_count": 28,
     "metadata": {},
     "output_type": "execute_result"
    },
    {
     "data": {
      "image/png": "[encoded data removed]",
      "text/plain": [
       "<Figure size 432x288 with 1 Axes>"
      ]
     },
     "metadata": {
      "needs_background": "light"
     },
     "output_type": "display_data"
    }
   ],
   "source": [
    "sns.histplot(data = df, x = 'price')"
   ]
  },
  {
   "cell_type": "markdown",
   "id": "8622aadb",
   "metadata": {},
   "source": [
    "can see that the distribution of house price is extremely skewed, can apply log transformation"
   ]
  },
  {
   "cell_type": "code",
   "execution_count": 29,
   "id": "d60a3130",
   "metadata": {},
   "outputs": [
    {
     "data": {
      "text/plain": [
       "<AxesSubplot:xlabel='log_price', ylabel='Count'>"
      ]
     },
     "execution_count": 29,
     "metadata": {},
     "output_type": "execute_result"
    },
    {
     "data": {
      "image/png": "[encoded data removed]",
      "text/plain": [
       "<Figure size 432x288 with 1 Axes>"
      ]
     },
     "metadata": {
      "needs_background": "light"
     },
     "output_type": "display_data"
    }
   ],
   "source": [
    "sns.histplot(data = df, x = 'log_price')"
   ]
  },
  {
   "cell_type": "code",
   "execution_count": 30,
   "id": "273b81ac",
   "metadata": {},
   "outputs": [
    {
     "data": {
      "text/plain": [
       "<AxesSubplot:>"
      ]
     },
     "execution_count": 30,
     "metadata": {},
     "output_type": "execute_result"
    },
    {
     "data": {
      "image/png": "[encoded data removed]",
      "text/plain": [
       "<Figure size 720x576 with 2 Axes>"
      ]
     },
     "metadata": {
      "needs_background": "light"
     },
     "output_type": "display_data"
    }
   ],
   "source": [
    "fig, ax = plt.subplots(figsize = (10,8))\n",
    "\n",
    "sns.heatmap(df.corr(), annot=True, linewidths=2, center=0, vmax=1, vmin = -1)"
   ]
  },
  {
   "cell_type": "code",
   "execution_count": 31,
   "id": "f206bb85",
   "metadata": {},
   "outputs": [
    {
     "data": {
      "text/plain": [
       "<AxesSubplot:xlabel='sqft', ylabel='price'>"
      ]
     },
     "execution_count": 31,
     "metadata": {},
     "output_type": "execute_result"
    },
    {
     "data": {
      "image/png": "[encoded data removed]",
      "text/plain": [
       "<Figure size 432x288 with 1 Axes>"
      ]
     },
     "metadata": {
      "needs_background": "light"
     },
     "output_type": "display_data"
    }
   ],
   "source": [
    "sns.scatterplot(data=df, x = 'sqft', y = 'price')"
   ]
  },
  {
   "cell_type": "code",
   "execution_count": 32,
   "id": "e0d36fe9",
   "metadata": {},
   "outputs": [
    {
     "data": {
      "text/plain": [
       "<AxesSubplot:xlabel='bedrooms'>"
      ]
     },
     "execution_count": 32,
     "metadata": {},
     "output_type": "execute_result"
    },
    {
     "data": {
      "image/png": "[encoded data removed]",
      "text/plain": [
       "<Figure size 432x288 with 1 Axes>"
      ]
     },
     "metadata": {
      "needs_background": "light"
     },
     "output_type": "display_data"
    }
   ],
   "source": [
    "df.groupby('bedrooms')['price'].mean().plot(kind= 'bar')"
   ]
  },
  {
   "cell_type": "code",
   "execution_count": 33,
   "id": "a37c9240",
   "metadata": {},
   "outputs": [
    {
     "data": {
      "text/plain": [
       "<AxesSubplot:xlabel='bathrooms'>"
      ]
     },
     "execution_count": 33,
     "metadata": {},
     "output_type": "execute_result"
    },
    {
     "data": {
      "image/png": "[encoded data removed]",
      "text/plain": [
       "<Figure size 432x288 with 1 Axes>"
      ]
     },
     "metadata": {
      "needs_background": "light"
     },
     "output_type": "display_data"
    }
   ],
   "source": [
    "df.groupby('bathrooms')['price'].mean().plot(kind= 'bar')"
   ]
  },
  {
   "cell_type": "code",
   "execution_count": 34,
   "id": "663a65af",
   "metadata": {},
   "outputs": [
    {
     "data": {
      "text/plain": [
       "<AxesSubplot:>"
      ]
     },
     "execution_count": 34,
     "metadata": {},
     "output_type": "execute_result"
    },
    {
     "data": {
      "image/png": "[encoded data removed]",
      "text/plain": [
       "<Figure size 720x576 with 2 Axes>"
      ]
     },
     "metadata": {
      "needs_background": "light"
     },
     "output_type": "display_data"
    }
   ],
   "source": [
    "fig, ax = plt.subplots(figsize = (10,8))\n",
    "\n",
    "sns.heatmap(df.drop(columns = ['price', 'price_div', 'log_price']).corr(), annot=True, linewidths=2, center=0, vmax=1, vmin = -1)"
   ]
  },
  {
   "cell_type": "code",
   "execution_count": 35,
   "id": "6aab7196",
   "metadata": {},
   "outputs": [
    {
     "data": {
      "text/plain": [
       "2-storey Terraced House      1592\n",
       "Condominium                   644\n",
       "Semi-Detached House           496\n",
       "Bungalow House                432\n",
       "Service Residence             252\n",
       "Apartment                     199\n",
       "3-storey Terraced House       149\n",
       "Terraced House                122\n",
       "1-storey Terraced House       104\n",
       "2.5-storey Terraced House      80\n",
       "Townhouse                      56\n",
       "Cluster House                  38\n",
       "Flat                           26\n",
       "Duplex                         26\n",
       "1.5-storey Terraced House      16\n",
       "Zero-Lot Bungalow              12\n",
       "Link Bungalow                  10\n",
       "Penthouse                      10\n",
       "Studio                          8\n",
       "Twin Courtyard Villa            6\n",
       "Townhouse Condo                 4\n",
       "4.5-storey Terraced House       4\n",
       "Twin Villa                      2\n",
       "Name: listing_tags, dtype: int64"
      ]
     },
     "execution_count": 35,
     "metadata": {},
     "output_type": "execute_result"
    }
   ],
   "source": [
    "df['listing_tags'].value_counts()"
   ]
  },
  {
   "cell_type": "code",
   "execution_count": 36,
   "id": "921bb99b",
   "metadata": {},
   "outputs": [
    {
     "data": {
      "text/plain": [
       "{'2-storey Terraced House': '2-storey Terraced House',\n",
       " '3-storey Terraced House': '3-storey Terraced House',\n",
       " 'Condominium': 'Condominium',\n",
       " '1-storey Terraced House': '1-storey Terraced House',\n",
       " 'Apartment': 'Apartment',\n",
       " 'Bungalow House': 'Bungalow House',\n",
       " 'Service Residence': 'Service Residence',\n",
       " 'Semi-Detached House': 'Semi-Detached House',\n",
       " '2.5-storey Terraced House': '2.5-storey Terraced House',\n",
       " 'Terraced House': 'Terraced House',\n",
       " 'Townhouse': 'Townhouse',\n",
       " 'Duplex': 'Duplex',\n",
       " '1.5-storey Terraced House': '1.5-storey Terraced House',\n",
       " 'Zero-Lot Bungalow': 'Zero-Lot Bungalow',\n",
       " 'Cluster House': 'Cluster House',\n",
       " 'Studio': 'Studio',\n",
       " 'Flat': 'Flat',\n",
       " 'Link Bungalow': 'Link Bungalow',\n",
       " 'Twin Villa': 'Twin Villa',\n",
       " 'Twin Courtyard Villa': 'Twin Courtyard Villa',\n",
       " 'Townhouse Condo': 'Townhouse Condo',\n",
       " 'Penthouse': 'Penthouse',\n",
       " '4.5-storey Terraced House': '4.5-storey Terraced House'}"
      ]
     },
     "execution_count": 36,
     "metadata": {},
     "output_type": "execute_result"
    }
   ],
   "source": [
    "a = {}\n",
    "\n",
    "for val in df['listing_tags'].unique():\n",
    "    a[val] = val\n",
    "    \n",
    "a"
   ]
  },
  {
   "cell_type": "code",
   "execution_count": 37,
   "id": "cd627b1d",
   "metadata": {},
   "outputs": [],
   "source": [
    "listings_tag_map = {\n",
    "     '2-storey Terraced House': '2-storey Terraced House',\n",
    "     '3-storey Terraced House': '3-storey Terraced House',\n",
    "     'Condominium': 'Condominium',\n",
    "     '1-storey Terraced House': '1-storey Terraced House',\n",
    "     'Apartment': 'Apartment',\n",
    "     'Bungalow House': 'Bungalow House',\n",
    "     'Service Residence': 'Service Residence',\n",
    "     'Semi-Detached House': 'Semi-Detached House',\n",
    "     '2.5-storey Terraced House': '2.5-storey Terraced House',\n",
    "     'Terraced House': 'Terraced House',\n",
    "     'Townhouse': 'Townhouse',\n",
    "     'Duplex': 'Duplex',\n",
    "     '1.5-storey Terraced House': '1.5-storey Terraced House',\n",
    "     'Zero-Lot Bungalow': 'Zero-Lot Bungalow',\n",
    "     'Cluster House': 'Cluster House',\n",
    "     'Studio': 'Studio',\n",
    "     'Flat': 'Flat',\n",
    "     'Link Bungalow': 'Link Bungalow',\n",
    "     'Twin Villa': 'Villa',\n",
    "     'Twin Courtyard Villa': 'Villa',\n",
    "     'Townhouse Condo': 'Townhouse',\n",
    "     'Penthouse': 'Penthouse',\n",
    "     '4.5-storey Terraced House': '4.5-storey Terraced House'\n",
    "}\n",
    "\n",
    "df['listing_tags'] = df['listing_tags'].map(listings_tag_map)"
   ]
  },
  {
   "cell_type": "code",
   "execution_count": 38,
   "id": "bd48bfe2",
   "metadata": {},
   "outputs": [
    {
     "data": {
      "text/plain": [
       "listing_tags\n",
       "Bungalow House              3067540.64815\n",
       "Villa                       2827700.00000\n",
       "Link Bungalow               2284000.00000\n",
       "4.5-storey Terraced House   2280000.00000\n",
       "Zero-Lot Bungalow           2251666.66667\n",
       "Semi-Detached House         1671104.35081\n",
       "3-storey Terraced House     1141380.67114\n",
       "2.5-storey Terraced House   1128864.20000\n",
       "Cluster House                917651.57895\n",
       "Penthouse                    804599.80000\n",
       "Terraced House               795072.31148\n",
       "2-storey Terraced House      681888.44347\n",
       "Townhouse                    648410.00000\n",
       "Duplex                       637415.38462\n",
       "Service Residence            548882.17460\n",
       "1.5-storey Terraced House    500124.87500\n",
       "Condominium                  495680.00311\n",
       "1-storey Terraced House      435940.13462\n",
       "Studio                       386722.00000\n",
       "Apartment                    360626.12060\n",
       "Flat                         149846.15385\n",
       "Name: price, dtype: float64"
      ]
     },
     "execution_count": 38,
     "metadata": {},
     "output_type": "execute_result"
    }
   ],
   "source": [
    "df.groupby('listing_tags')['price'].mean().sort_values(ascending = False)"
   ]
  },
  {
   "cell_type": "code",
   "execution_count": 39,
   "id": "84e45cc9",
   "metadata": {},
   "outputs": [
    {
     "data": {
      "text/html": [
       "<div>\n",
       "<style scoped>\n",
       "    .dataframe tbody tr th:only-of-type {\n",
       "        vertical-align: middle;\n",
       "    }\n",
       "\n",
       "    .dataframe tbody tr th {\n",
       "        vertical-align: top;\n",
       "    }\n",
       "\n",
       "    .dataframe thead th {\n",
       "        text-align: right;\n",
       "    }\n",
       "</style>\n",
       "<table border=\"1\" class=\"dataframe\">\n",
       "  <thead>\n",
       "    <tr style=\"text-align: right;\">\n",
       "      <th></th>\n",
       "      <th>price</th>\n",
       "      <th>sqft</th>\n",
       "      <th>bedrooms</th>\n",
       "      <th>bathrooms</th>\n",
       "      <th>log_price</th>\n",
       "      <th>price_div</th>\n",
       "    </tr>\n",
       "  </thead>\n",
       "  <tbody>\n",
       "    <tr>\n",
       "      <th>count</th>\n",
       "      <td>4288.00000</td>\n",
       "      <td>4288.00000</td>\n",
       "      <td>4288.00000</td>\n",
       "      <td>4288.00000</td>\n",
       "      <td>4288.00000</td>\n",
       "      <td>4288.00000</td>\n",
       "    </tr>\n",
       "    <tr>\n",
       "      <th>mean</th>\n",
       "      <td>1018332.91325</td>\n",
       "      <td>2589.10354</td>\n",
       "      <td>4.11101</td>\n",
       "      <td>3.57020</td>\n",
       "      <td>13.50732</td>\n",
       "      <td>1018.33291</td>\n",
       "    </tr>\n",
       "    <tr>\n",
       "      <th>std</th>\n",
       "      <td>1069185.51603</td>\n",
       "      <td>2223.03636</td>\n",
       "      <td>1.26417</td>\n",
       "      <td>1.57725</td>\n",
       "      <td>0.76640</td>\n",
       "      <td>1069.18552</td>\n",
       "    </tr>\n",
       "    <tr>\n",
       "      <th>min</th>\n",
       "      <td>1500.00000</td>\n",
       "      <td>120.00000</td>\n",
       "      <td>0.00000</td>\n",
       "      <td>0.00000</td>\n",
       "      <td>7.31322</td>\n",
       "      <td>1.50000</td>\n",
       "    </tr>\n",
       "    <tr>\n",
       "      <th>25%</th>\n",
       "      <td>425000.00000</td>\n",
       "      <td>1266.00000</td>\n",
       "      <td>3.00000</td>\n",
       "      <td>2.00000</td>\n",
       "      <td>12.95984</td>\n",
       "      <td>425.00000</td>\n",
       "    </tr>\n",
       "    <tr>\n",
       "      <th>50%</th>\n",
       "      <td>670000.00000</td>\n",
       "      <td>2000.00000</td>\n",
       "      <td>4.00000</td>\n",
       "      <td>3.00000</td>\n",
       "      <td>13.41503</td>\n",
       "      <td>670.00000</td>\n",
       "    </tr>\n",
       "    <tr>\n",
       "      <th>75%</th>\n",
       "      <td>1200000.00000</td>\n",
       "      <td>3050.00000</td>\n",
       "      <td>5.00000</td>\n",
       "      <td>4.00000</td>\n",
       "      <td>13.99783</td>\n",
       "      <td>1200.00000</td>\n",
       "    </tr>\n",
       "    <tr>\n",
       "      <th>max</th>\n",
       "      <td>12000000.00000</td>\n",
       "      <td>23725.00000</td>\n",
       "      <td>10.00000</td>\n",
       "      <td>9.00000</td>\n",
       "      <td>16.30042</td>\n",
       "      <td>12000.00000</td>\n",
       "    </tr>\n",
       "  </tbody>\n",
       "</table>\n",
       "</div>"
      ],
      "text/plain": [
       "               price        sqft   bedrooms  bathrooms  log_price   price_div\n",
       "count     4288.00000  4288.00000 4288.00000 4288.00000 4288.00000  4288.00000\n",
       "mean   1018332.91325  2589.10354    4.11101    3.57020   13.50732  1018.33291\n",
       "std    1069185.51603  2223.03636    1.26417    1.57725    0.76640  1069.18552\n",
       "min       1500.00000   120.00000    0.00000    0.00000    7.31322     1.50000\n",
       "25%     425000.00000  1266.00000    3.00000    2.00000   12.95984   425.00000\n",
       "50%     670000.00000  2000.00000    4.00000    3.00000   13.41503   670.00000\n",
       "75%    1200000.00000  3050.00000    5.00000    4.00000   13.99783  1200.00000\n",
       "max   12000000.00000 23725.00000   10.00000    9.00000   16.30042 12000.00000"
      ]
     },
     "execution_count": 39,
     "metadata": {},
     "output_type": "execute_result"
    }
   ],
   "source": [
    "df.describe()"
   ]
  },
  {
   "cell_type": "code",
   "execution_count": 40,
   "id": "7a662e9a",
   "metadata": {},
   "outputs": [
    {
     "data": {
      "text/plain": [
       "district\n",
       "Hulu Kelang      2771400.00000\n",
       "Ampang           2034380.92424\n",
       "Ulu Klang        1352800.00000\n",
       "Sungai Buloh     1341442.75862\n",
       "Beranang         1280000.00000\n",
       "Subang Jaya      1261509.97761\n",
       "Shah Alam        1247047.83045\n",
       "Damansara        1137636.20833\n",
       "Kajang           1135257.47449\n",
       "Petaling Jaya    1082618.91979\n",
       "Subang           1013369.15385\n",
       "Kuala Langat      847843.75000\n",
       "Cheras            830242.62295\n",
       "Puchong           821683.49164\n",
       "Kuala Selangor    809700.00000\n",
       "Bangi             794953.49438\n",
       "Klang             726052.59477\n",
       "Seri Kembangan    707344.62385\n",
       "Gombak            692406.21875\n",
       "Cyberjaya         662360.70455\n",
       "Semenyih          644306.87324\n",
       "Rawang            615635.55000\n",
       "Putrajaya         579986.00000\n",
       "Sepang            559951.73869\n",
       "Hulu Langat       515000.00000\n",
       "Hulu Selangor     494549.37500\n",
       "Sabak Bernam      300000.00000\n",
       "Nilai             298694.28571\n",
       "Name: price, dtype: float64"
      ]
     },
     "execution_count": 40,
     "metadata": {},
     "output_type": "execute_result"
    }
   ],
   "source": [
    "df.groupby('district')['price'].mean().sort_values(ascending = False)"
   ]
  },
  {
   "cell_type": "markdown",
   "id": "ba7bc19d",
   "metadata": {},
   "source": [
    "- linear models will use OneHotEncoder as OrdinalEncoder will introduce ordered's relationship between classes\n",
    "- for tree-based models like RandomForest or GradientBoosting method will use OrdinalEncoder"
   ]
  },
  {
   "cell_type": "code",
   "execution_count": 41,
   "id": "a5181b7e",
   "metadata": {},
   "outputs": [],
   "source": [
    "df.drop(columns = ['log_price', 'price_div', 'state']).to_csv('clean_data.csv')"
   ]
  },
  {
   "cell_type": "code",
   "execution_count": 42,
   "id": "1a7f8dab",
   "metadata": {},
   "outputs": [],
   "source": [
    "target = 'log_price'\n",
    "y = df[target]\n",
    "X = df.drop(columns = ['price','log_price', 'price_div', 'state'])"
   ]
  },
  {
   "cell_type": "code",
   "execution_count": 43,
   "id": "01e88fb6",
   "metadata": {},
   "outputs": [],
   "source": [
    "X = pd.get_dummies(X)"
   ]
  },
  {
   "cell_type": "code",
   "execution_count": 44,
   "id": "6f74f49e",
   "metadata": {},
   "outputs": [
    {
     "name": "stdout",
     "output_type": "stream",
     "text": [
      "<class 'pandas.core.frame.DataFrame'>\n",
      "Int64Index: 4288 entries, 1 to 4390\n",
      "Data columns (total 65 columns):\n",
      " #   Column                                  Non-Null Count  Dtype  \n",
      "---  ------                                  --------------  -----  \n",
      " 0   sqft                                    4288 non-null   float64\n",
      " 1   bedrooms                                4288 non-null   float64\n",
      " 2   bathrooms                               4288 non-null   float64\n",
      " 3   pool                                    4288 non-null   bool   \n",
      " 4   fitness                                 4288 non-null   bool   \n",
      " 5   balcony                                 4288 non-null   bool   \n",
      " 6   listing_tags_1-storey Terraced House    4288 non-null   uint8  \n",
      " 7   listing_tags_1.5-storey Terraced House  4288 non-null   uint8  \n",
      " 8   listing_tags_2-storey Terraced House    4288 non-null   uint8  \n",
      " 9   listing_tags_2.5-storey Terraced House  4288 non-null   uint8  \n",
      " 10  listing_tags_3-storey Terraced House    4288 non-null   uint8  \n",
      " 11  listing_tags_4.5-storey Terraced House  4288 non-null   uint8  \n",
      " 12  listing_tags_Apartment                  4288 non-null   uint8  \n",
      " 13  listing_tags_Bungalow House             4288 non-null   uint8  \n",
      " 14  listing_tags_Cluster House              4288 non-null   uint8  \n",
      " 15  listing_tags_Condominium                4288 non-null   uint8  \n",
      " 16  listing_tags_Duplex                     4288 non-null   uint8  \n",
      " 17  listing_tags_Flat                       4288 non-null   uint8  \n",
      " 18  listing_tags_Link Bungalow              4288 non-null   uint8  \n",
      " 19  listing_tags_Penthouse                  4288 non-null   uint8  \n",
      " 20  listing_tags_Semi-Detached House        4288 non-null   uint8  \n",
      " 21  listing_tags_Service Residence          4288 non-null   uint8  \n",
      " 22  listing_tags_Studio                     4288 non-null   uint8  \n",
      " 23  listing_tags_Terraced House             4288 non-null   uint8  \n",
      " 24  listing_tags_Townhouse                  4288 non-null   uint8  \n",
      " 25  listing_tags_Villa                      4288 non-null   uint8  \n",
      " 26  listing_tags_Zero-Lot Bungalow          4288 non-null   uint8  \n",
      " 27  furnishing_Fully Furnished              4288 non-null   uint8  \n",
      " 28  furnishing_Partially Furnished          4288 non-null   uint8  \n",
      " 29  furnishing_Unfurnished                  4288 non-null   uint8  \n",
      " 30  tenure_99-year Leasehold                4288 non-null   uint8  \n",
      " 31  tenure_Bumi Lot                         4288 non-null   uint8  \n",
      " 32  tenure_Freehold                         4288 non-null   uint8  \n",
      " 33  tenure_Leasehold                        4288 non-null   uint8  \n",
      " 34  tenure_Malay Reserved Land              4288 non-null   uint8  \n",
      " 35  district_Ampang                         4288 non-null   uint8  \n",
      " 36  district_Bangi                          4288 non-null   uint8  \n",
      " 37  district_Beranang                       4288 non-null   uint8  \n",
      " 38  district_Cheras                         4288 non-null   uint8  \n",
      " 39  district_Cyberjaya                      4288 non-null   uint8  \n",
      " 40  district_Damansara                      4288 non-null   uint8  \n",
      " 41  district_Gombak                         4288 non-null   uint8  \n",
      " 42  district_Hulu Kelang                    4288 non-null   uint8  \n",
      " 43  district_Hulu Langat                    4288 non-null   uint8  \n",
      " 44  district_Hulu Selangor                  4288 non-null   uint8  \n",
      " 45  district_Kajang                         4288 non-null   uint8  \n",
      " 46  district_Klang                          4288 non-null   uint8  \n",
      " 47  district_Kuala Langat                   4288 non-null   uint8  \n",
      " 48  district_Kuala Selangor                 4288 non-null   uint8  \n",
      " 49  district_Nilai                          4288 non-null   uint8  \n",
      " 50  district_Petaling Jaya                  4288 non-null   uint8  \n",
      " 51  district_Puchong                        4288 non-null   uint8  \n",
      " 52  district_Putrajaya                      4288 non-null   uint8  \n",
      " 53  district_Rawang                         4288 non-null   uint8  \n",
      " 54  district_Sabak Bernam                   4288 non-null   uint8  \n",
      " 55  district_Semenyih                       4288 non-null   uint8  \n",
      " 56  district_Sepang                         4288 non-null   uint8  \n",
      " 57  district_Seri Kembangan                 4288 non-null   uint8  \n",
      " 58  district_Shah Alam                      4288 non-null   uint8  \n",
      " 59  district_Subang                         4288 non-null   uint8  \n",
      " 60  district_Subang Jaya                    4288 non-null   uint8  \n",
      " 61  district_Sungai Buloh                   4288 non-null   uint8  \n",
      " 62  district_Ulu Klang                      4288 non-null   uint8  \n",
      " 63  landed_vs_high_rise_high-rise           4288 non-null   uint8  \n",
      " 64  landed_vs_high_rise_landed              4288 non-null   uint8  \n",
      "dtypes: bool(3), float64(3), uint8(59)\n",
      "memory usage: 393.6 KB\n"
     ]
    }
   ],
   "source": [
    "X.info()"
   ]
  },
  {
   "cell_type": "code",
   "execution_count": 45,
   "id": "df4eee69",
   "metadata": {},
   "outputs": [
    {
     "data": {
      "text/html": [
       "<style>#sk-container-id-1 {color: black;background-color: white;}#sk-container-id-1 pre{padding: 0;}#sk-container-id-1 div.sk-toggleable {background-color: white;}#sk-container-id-1 label.sk-toggleable__label {cursor: pointer;display: block;width: 100%;margin-bottom: 0;padding: 0.3em;box-sizing: border-box;text-align: center;}#sk-container-id-1 label.sk-toggleable__label-arrow:before {content: \"▸\";float: left;margin-right: 0.25em;color: #696969;}#sk-container-id-1 label.sk-toggleable__label-arrow:hover:before {color: black;}#sk-container-id-1 div.sk-estimator:hover label.sk-toggleable__label-arrow:before {color: black;}#sk-container-id-1 div.sk-toggleable__content {max-height: 0;max-width: 0;overflow: hidden;text-align: left;background-color: #f0f8ff;}#sk-container-id-1 div.sk-toggleable__content pre {margin: 0.2em;color: black;border-radius: 0.25em;background-color: #f0f8ff;}#sk-container-id-1 input.sk-toggleable__control:checked~div.sk-toggleable__content {max-height: 200px;max-width: 100%;overflow: auto;}#sk-container-id-1 input.sk-toggleable__control:checked~label.sk-toggleable__label-arrow:before {content: \"▾\";}#sk-container-id-1 div.sk-estimator input.sk-toggleable__control:checked~label.sk-toggleable__label {background-color: #d4ebff;}#sk-container-id-1 div.sk-label input.sk-toggleable__control:checked~label.sk-toggleable__label {background-color: #d4ebff;}#sk-container-id-1 input.sk-hidden--visually {border: 0;clip: rect(1px 1px 1px 1px);clip: rect(1px, 1px, 1px, 1px);height: 1px;margin: -1px;overflow: hidden;padding: 0;position: absolute;width: 1px;}#sk-container-id-1 div.sk-estimator {font-family: monospace;background-color: #f0f8ff;border: 1px dotted black;border-radius: 0.25em;box-sizing: border-box;margin-bottom: 0.5em;}#sk-container-id-1 div.sk-estimator:hover {background-color: #d4ebff;}#sk-container-id-1 div.sk-parallel-item::after {content: \"\";width: 100%;border-bottom: 1px solid gray;flex-grow: 1;}#sk-container-id-1 div.sk-label:hover label.sk-toggleable__label {background-color: #d4ebff;}#sk-container-id-1 div.sk-serial::before {content: \"\";position: absolute;border-left: 1px solid gray;box-sizing: border-box;top: 0;bottom: 0;left: 50%;z-index: 0;}#sk-container-id-1 div.sk-serial {display: flex;flex-direction: column;align-items: center;background-color: white;padding-right: 0.2em;padding-left: 0.2em;position: relative;}#sk-container-id-1 div.sk-item {position: relative;z-index: 1;}#sk-container-id-1 div.sk-parallel {display: flex;align-items: stretch;justify-content: center;background-color: white;position: relative;}#sk-container-id-1 div.sk-item::before, #sk-container-id-1 div.sk-parallel-item::before {content: \"\";position: absolute;border-left: 1px solid gray;box-sizing: border-box;top: 0;bottom: 0;left: 50%;z-index: -1;}#sk-container-id-1 div.sk-parallel-item {display: flex;flex-direction: column;z-index: 1;position: relative;background-color: white;}#sk-container-id-1 div.sk-parallel-item:first-child::after {align-self: flex-end;width: 50%;}#sk-container-id-1 div.sk-parallel-item:last-child::after {align-self: flex-start;width: 50%;}#sk-container-id-1 div.sk-parallel-item:only-child::after {width: 0;}#sk-container-id-1 div.sk-dashed-wrapped {border: 1px dashed gray;margin: 0 0.4em 0.5em 0.4em;box-sizing: border-box;padding-bottom: 0.4em;background-color: white;}#sk-container-id-1 div.sk-label label {font-family: monospace;font-weight: bold;display: inline-block;line-height: 1.2em;}#sk-container-id-1 div.sk-label-container {text-align: center;}#sk-container-id-1 div.sk-container {/* jupyter's `normalize.less` sets `[hidden] { display: none; }` but bootstrap.min.css set `[hidden] { display: none !important; }` so we also need the `!important` here to be able to override the default hidden behavior on the sphinx rendered scikit-learn.org. See: https://github.com/scikit-learn/scikit-learn/issues/21755 */display: inline-block !important;position: relative;}#sk-container-id-1 div.sk-text-repr-fallback {display: none;}</style><div id=\"sk-container-id-1\" class=\"sk-top-container\"><div class=\"sk-text-repr-fallback\"><pre>Pipeline(steps=[(&#x27;standardscaler&#x27;, StandardScaler()),\n",
       "                (&#x27;linearregression&#x27;, LinearRegression(n_jobs=-1))])</pre><b>In a Jupyter environment, please rerun this cell to show the HTML representation or trust the notebook. <br />On GitHub, the HTML representation is unable to render, please try loading this page with nbviewer.org.</b></div><div class=\"sk-container\" hidden><div class=\"sk-item sk-dashed-wrapped\"><div class=\"sk-label-container\"><div class=\"sk-label sk-toggleable\"><input class=\"sk-toggleable__control sk-hidden--visually\" id=\"sk-estimator-id-1\" type=\"checkbox\" ><label for=\"sk-estimator-id-1\" class=\"sk-toggleable__label sk-toggleable__label-arrow\">Pipeline</label><div class=\"sk-toggleable__content\"><pre>Pipeline(steps=[(&#x27;standardscaler&#x27;, StandardScaler()),\n",
       "                (&#x27;linearregression&#x27;, LinearRegression(n_jobs=-1))])</pre></div></div></div><div class=\"sk-serial\"><div class=\"sk-item\"><div class=\"sk-estimator sk-toggleable\"><input class=\"sk-toggleable__control sk-hidden--visually\" id=\"sk-estimator-id-2\" type=\"checkbox\" ><label for=\"sk-estimator-id-2\" class=\"sk-toggleable__label sk-toggleable__label-arrow\">StandardScaler</label><div class=\"sk-toggleable__content\"><pre>StandardScaler()</pre></div></div></div><div class=\"sk-item\"><div class=\"sk-estimator sk-toggleable\"><input class=\"sk-toggleable__control sk-hidden--visually\" id=\"sk-estimator-id-3\" type=\"checkbox\" ><label for=\"sk-estimator-id-3\" class=\"sk-toggleable__label sk-toggleable__label-arrow\">LinearRegression</label><div class=\"sk-toggleable__content\"><pre>LinearRegression(n_jobs=-1)</pre></div></div></div></div></div></div></div>"
      ],
      "text/plain": [
       "Pipeline(steps=[('standardscaler', StandardScaler()),\n",
       "                ('linearregression', LinearRegression(n_jobs=-1))])"
      ]
     },
     "execution_count": 45,
     "metadata": {},
     "output_type": "execute_result"
    }
   ],
   "source": [
    "from sklearn.preprocessing import OneHotEncoder\n",
    "\n",
    "lr = make_pipeline(StandardScaler(), LinearRegression(n_jobs = -1))\n",
    "lr"
   ]
  },
  {
   "cell_type": "code",
   "execution_count": 46,
   "id": "d30841ee",
   "metadata": {},
   "outputs": [],
   "source": [
    "from sklearn.model_selection import train_test_split\n",
    "from sklearn.metrics import mean_absolute_error, mean_squared_error, r2_score"
   ]
  },
  {
   "cell_type": "code",
   "execution_count": 47,
   "id": "8c81c8a4",
   "metadata": {},
   "outputs": [],
   "source": [
    "X_train, X_test, y_train, y_test = train_test_split(X, y, test_size=0.2, random_state=42)\n",
    "X_train, X_valid, y_train, y_valid = train_test_split(X_train, y_train, test_size=0.2, random_state=42)"
   ]
  },
  {
   "cell_type": "code",
   "execution_count": 48,
   "id": "c6a40a22",
   "metadata": {},
   "outputs": [
    {
     "data": {
      "text/html": [
       "<style>#sk-container-id-2 {color: black;background-color: white;}#sk-container-id-2 pre{padding: 0;}#sk-container-id-2 div.sk-toggleable {background-color: white;}#sk-container-id-2 label.sk-toggleable__label {cursor: pointer;display: block;width: 100%;margin-bottom: 0;padding: 0.3em;box-sizing: border-box;text-align: center;}#sk-container-id-2 label.sk-toggleable__label-arrow:before {content: \"▸\";float: left;margin-right: 0.25em;color: #696969;}#sk-container-id-2 label.sk-toggleable__label-arrow:hover:before {color: black;}#sk-container-id-2 div.sk-estimator:hover label.sk-toggleable__label-arrow:before {color: black;}#sk-container-id-2 div.sk-toggleable__content {max-height: 0;max-width: 0;overflow: hidden;text-align: left;background-color: #f0f8ff;}#sk-container-id-2 div.sk-toggleable__content pre {margin: 0.2em;color: black;border-radius: 0.25em;background-color: #f0f8ff;}#sk-container-id-2 input.sk-toggleable__control:checked~div.sk-toggleable__content {max-height: 200px;max-width: 100%;overflow: auto;}#sk-container-id-2 input.sk-toggleable__control:checked~label.sk-toggleable__label-arrow:before {content: \"▾\";}#sk-container-id-2 div.sk-estimator input.sk-toggleable__control:checked~label.sk-toggleable__label {background-color: #d4ebff;}#sk-container-id-2 div.sk-label input.sk-toggleable__control:checked~label.sk-toggleable__label {background-color: #d4ebff;}#sk-container-id-2 input.sk-hidden--visually {border: 0;clip: rect(1px 1px 1px 1px);clip: rect(1px, 1px, 1px, 1px);height: 1px;margin: -1px;overflow: hidden;padding: 0;position: absolute;width: 1px;}#sk-container-id-2 div.sk-estimator {font-family: monospace;background-color: #f0f8ff;border: 1px dotted black;border-radius: 0.25em;box-sizing: border-box;margin-bottom: 0.5em;}#sk-container-id-2 div.sk-estimator:hover {background-color: #d4ebff;}#sk-container-id-2 div.sk-parallel-item::after {content: \"\";width: 100%;border-bottom: 1px solid gray;flex-grow: 1;}#sk-container-id-2 div.sk-label:hover label.sk-toggleable__label {background-color: #d4ebff;}#sk-container-id-2 div.sk-serial::before {content: \"\";position: absolute;border-left: 1px solid gray;box-sizing: border-box;top: 0;bottom: 0;left: 50%;z-index: 0;}#sk-container-id-2 div.sk-serial {display: flex;flex-direction: column;align-items: center;background-color: white;padding-right: 0.2em;padding-left: 0.2em;position: relative;}#sk-container-id-2 div.sk-item {position: relative;z-index: 1;}#sk-container-id-2 div.sk-parallel {display: flex;align-items: stretch;justify-content: center;background-color: white;position: relative;}#sk-container-id-2 div.sk-item::before, #sk-container-id-2 div.sk-parallel-item::before {content: \"\";position: absolute;border-left: 1px solid gray;box-sizing: border-box;top: 0;bottom: 0;left: 50%;z-index: -1;}#sk-container-id-2 div.sk-parallel-item {display: flex;flex-direction: column;z-index: 1;position: relative;background-color: white;}#sk-container-id-2 div.sk-parallel-item:first-child::after {align-self: flex-end;width: 50%;}#sk-container-id-2 div.sk-parallel-item:last-child::after {align-self: flex-start;width: 50%;}#sk-container-id-2 div.sk-parallel-item:only-child::after {width: 0;}#sk-container-id-2 div.sk-dashed-wrapped {border: 1px dashed gray;margin: 0 0.4em 0.5em 0.4em;box-sizing: border-box;padding-bottom: 0.4em;background-color: white;}#sk-container-id-2 div.sk-label label {font-family: monospace;font-weight: bold;display: inline-block;line-height: 1.2em;}#sk-container-id-2 div.sk-label-container {text-align: center;}#sk-container-id-2 div.sk-container {/* jupyter's `normalize.less` sets `[hidden] { display: none; }` but bootstrap.min.css set `[hidden] { display: none !important; }` so we also need the `!important` here to be able to override the default hidden behavior on the sphinx rendered scikit-learn.org. See: https://github.com/scikit-learn/scikit-learn/issues/21755 */display: inline-block !important;position: relative;}#sk-container-id-2 div.sk-text-repr-fallback {display: none;}</style><div id=\"sk-container-id-2\" class=\"sk-top-container\"><div class=\"sk-text-repr-fallback\"><pre>Pipeline(steps=[(&#x27;standardscaler&#x27;, StandardScaler()),\n",
       "                (&#x27;linearregression&#x27;, LinearRegression(n_jobs=-1))])</pre><b>In a Jupyter environment, please rerun this cell to show the HTML representation or trust the notebook. <br />On GitHub, the HTML representation is unable to render, please try loading this page with nbviewer.org.</b></div><div class=\"sk-container\" hidden><div class=\"sk-item sk-dashed-wrapped\"><div class=\"sk-label-container\"><div class=\"sk-label sk-toggleable\"><input class=\"sk-toggleable__control sk-hidden--visually\" id=\"sk-estimator-id-4\" type=\"checkbox\" ><label for=\"sk-estimator-id-4\" class=\"sk-toggleable__label sk-toggleable__label-arrow\">Pipeline</label><div class=\"sk-toggleable__content\"><pre>Pipeline(steps=[(&#x27;standardscaler&#x27;, StandardScaler()),\n",
       "                (&#x27;linearregression&#x27;, LinearRegression(n_jobs=-1))])</pre></div></div></div><div class=\"sk-serial\"><div class=\"sk-item\"><div class=\"sk-estimator sk-toggleable\"><input class=\"sk-toggleable__control sk-hidden--visually\" id=\"sk-estimator-id-5\" type=\"checkbox\" ><label for=\"sk-estimator-id-5\" class=\"sk-toggleable__label sk-toggleable__label-arrow\">StandardScaler</label><div class=\"sk-toggleable__content\"><pre>StandardScaler()</pre></div></div></div><div class=\"sk-item\"><div class=\"sk-estimator sk-toggleable\"><input class=\"sk-toggleable__control sk-hidden--visually\" id=\"sk-estimator-id-6\" type=\"checkbox\" ><label for=\"sk-estimator-id-6\" class=\"sk-toggleable__label sk-toggleable__label-arrow\">LinearRegression</label><div class=\"sk-toggleable__content\"><pre>LinearRegression(n_jobs=-1)</pre></div></div></div></div></div></div></div>"
      ],
      "text/plain": [
       "Pipeline(steps=[('standardscaler', StandardScaler()),\n",
       "                ('linearregression', LinearRegression(n_jobs=-1))])"
      ]
     },
     "execution_count": 48,
     "metadata": {},
     "output_type": "execute_result"
    }
   ],
   "source": [
    "lr.fit(X_train, y_train)"
   ]
  },
  {
   "cell_type": "code",
   "execution_count": 49,
   "id": "f2400716",
   "metadata": {},
   "outputs": [
    {
     "name": "stdout",
     "output_type": "stream",
     "text": [
      "MAE train score : 0.24848285143982315\n"
     ]
    }
   ],
   "source": [
    "print(f'MAE train score : {mean_absolute_error(y_train, lr.predict(X_train))}')"
   ]
  },
  {
   "cell_type": "code",
   "execution_count": 50,
   "id": "1eb54d57",
   "metadata": {},
   "outputs": [
    {
     "name": "stdout",
     "output_type": "stream",
     "text": [
      "MAE valid score : 0.2541386443343688\n"
     ]
    }
   ],
   "source": [
    "print(f'MAE valid score : {mean_absolute_error(y_valid, lr.predict(X_valid))}')"
   ]
  },
  {
   "cell_type": "code",
   "execution_count": 51,
   "id": "76fb0031",
   "metadata": {},
   "outputs": [
    {
     "name": "stdout",
     "output_type": "stream",
     "text": [
      "MSE train score : 0.1172048246800363\n"
     ]
    }
   ],
   "source": [
    "import numpy as np\n",
    "print(f'MSE train score : {mean_squared_error(y_train, lr.predict(X_train))}')"
   ]
  },
  {
   "cell_type": "code",
   "execution_count": 52,
   "id": "a2fa691c",
   "metadata": {},
   "outputs": [
    {
     "name": "stdout",
     "output_type": "stream",
     "text": [
      "MSE valid score : 0.11120657326059377\n"
     ]
    }
   ],
   "source": [
    "print(f'MSE valid score : {mean_squared_error(y_valid, lr.predict(X_valid))}')"
   ]
  },
  {
   "cell_type": "code",
   "execution_count": 53,
   "id": "e1155557",
   "metadata": {},
   "outputs": [
    {
     "name": "stdout",
     "output_type": "stream",
     "text": [
      "RMSE train score : 0.3423519018203876\n"
     ]
    }
   ],
   "source": [
    "import numpy as np\n",
    "print(f'RMSE train score : {np.sqrt(mean_squared_error(y_train, lr.predict(X_train)))}')"
   ]
  },
  {
   "cell_type": "code",
   "execution_count": 54,
   "id": "8970f339",
   "metadata": {},
   "outputs": [
    {
     "name": "stdout",
     "output_type": "stream",
     "text": [
      "RMSE valid score : 0.3334764958143134\n"
     ]
    }
   ],
   "source": [
    "print(f'RMSE valid score : {np.sqrt(mean_squared_error(y_valid, lr.predict(X_valid)))}')"
   ]
  },
  {
   "cell_type": "code",
   "execution_count": 55,
   "id": "aa305101",
   "metadata": {},
   "outputs": [
    {
     "name": "stdout",
     "output_type": "stream",
     "text": [
      "R2 train score : 0.7959107214694517\n"
     ]
    }
   ],
   "source": [
    "print(f'R2 train score : {r2_score(y_train, lr.predict(X_train))}')"
   ]
  },
  {
   "cell_type": "code",
   "execution_count": 56,
   "id": "c5cc2e61",
   "metadata": {},
   "outputs": [
    {
     "name": "stdout",
     "output_type": "stream",
     "text": [
      "R2 valid score : 0.8027410785118267\n"
     ]
    }
   ],
   "source": [
    "print(f'R2 valid score : {r2_score(y_valid, lr.predict(X_valid))}')"
   ]
  },
  {
   "cell_type": "code",
   "execution_count": 57,
   "id": "d47fd7e7",
   "metadata": {},
   "outputs": [],
   "source": [
    "### Try different models\n",
    "ridge = Ridge(alpha = 10)\n",
    "lasso = Lasso(alpha = 0.1)\n",
    "lr = LinearRegression()\n",
    "\n",
    "scores = []\n",
    "models = {\n",
    "    'Linear Regression': lr,\n",
    "    'Ridge': ridge,\n",
    "    'Lasso': lasso\n",
    "}\n",
    "\n",
    "for model in models.keys():\n",
    "    reg = make_pipeline(StandardScaler(), models[model])\n",
    "    \n",
    "    reg.fit(X_train, y_train)\n",
    "    y_train_pred = reg.predict(X_train)\n",
    "    y_valid_pred = reg.predict(X_valid)\n",
    "    mae_train = mean_absolute_error(y_train, y_train_pred)\n",
    "    mae_valid = mean_absolute_error(y_valid, y_valid_pred)\n",
    "    mse_train = mean_squared_error(y_train, y_train_pred)\n",
    "    mse_valid = mean_squared_error(y_valid, y_valid_pred)\n",
    "    rmse_train = np.sqrt(mean_squared_error(y_train, y_train_pred))\n",
    "    rmse_valid = np.sqrt(mean_squared_error(y_valid, y_valid_pred))\n",
    "    r2_train = r2_score(y_train, y_train_pred)\n",
    "    r2_valid = r2_score(y_valid, y_valid_pred)\n",
    "    \n",
    "    scores.append([model, mae_train, mae_valid, mse_train, mse_valid, rmse_train, rmse_valid, r2_train, r2_valid])"
   ]
  },
  {
   "cell_type": "code",
   "execution_count": 58,
   "id": "5580f29c",
   "metadata": {},
   "outputs": [
    {
     "data": {
      "text/plain": [
       "[['Linear Regression',\n",
       "  0.24848285143982315,\n",
       "  0.2541386443343688,\n",
       "  0.1172048246800363,\n",
       "  0.11120657326059377,\n",
       "  0.3423519018203876,\n",
       "  0.3334764958143134,\n",
       "  0.7959107214694517,\n",
       "  0.8027410785118267],\n",
       " ['Ridge',\n",
       "  0.24837093346939237,\n",
       "  0.2539729146176364,\n",
       "  0.117135890743488,\n",
       "  0.11097840461934737,\n",
       "  0.3422512099956522,\n",
       "  0.3331342141229978,\n",
       "  0.7960307564374218,\n",
       "  0.8031458054876703],\n",
       " ['Lasso',\n",
       "  0.33978852121861514,\n",
       "  0.3537619337515769,\n",
       "  0.1944672358502502,\n",
       "  0.1951141084205671,\n",
       "  0.4409843941119121,\n",
       "  0.4417172267645525,\n",
       "  0.6613733438802049,\n",
       "  0.653905363094163]]"
      ]
     },
     "execution_count": 58,
     "metadata": {},
     "output_type": "execute_result"
    }
   ],
   "source": [
    "scores"
   ]
  },
  {
   "cell_type": "code",
   "execution_count": 59,
   "id": "d10dabe4",
   "metadata": {},
   "outputs": [],
   "source": [
    "### try tune ridge model\n",
    "from sklearn.model_selection import GridSearchCV\n",
    "from sklearn.preprocessing import RobustScaler, MinMaxScaler, Normalizer\n",
    "\n",
    "params = {'ridge__alpha': [0.001,0.01,0.1,0.5, 1,5, 10,15,100]}\n",
    "model = make_pipeline(MinMaxScaler(), Ridge())\n",
    "gridcv = GridSearchCV(model, params, scoring = 'neg_mean_absolute_error', n_jobs=-1, cv = 10, verbose = 1, return_train_score=True)"
   ]
  },
  {
   "cell_type": "code",
   "execution_count": 60,
   "id": "c49e8580",
   "metadata": {},
   "outputs": [
    {
     "name": "stdout",
     "output_type": "stream",
     "text": [
      "Fitting 10 folds for each of 9 candidates, totalling 90 fits\n"
     ]
    },
    {
     "data": {
      "text/html": [
       "<style>#sk-container-id-3 {color: black;background-color: white;}#sk-container-id-3 pre{padding: 0;}#sk-container-id-3 div.sk-toggleable {background-color: white;}#sk-container-id-3 label.sk-toggleable__label {cursor: pointer;display: block;width: 100%;margin-bottom: 0;padding: 0.3em;box-sizing: border-box;text-align: center;}#sk-container-id-3 label.sk-toggleable__label-arrow:before {content: \"▸\";float: left;margin-right: 0.25em;color: #696969;}#sk-container-id-3 label.sk-toggleable__label-arrow:hover:before {color: black;}#sk-container-id-3 div.sk-estimator:hover label.sk-toggleable__label-arrow:before {color: black;}#sk-container-id-3 div.sk-toggleable__content {max-height: 0;max-width: 0;overflow: hidden;text-align: left;background-color: #f0f8ff;}#sk-container-id-3 div.sk-toggleable__content pre {margin: 0.2em;color: black;border-radius: 0.25em;background-color: #f0f8ff;}#sk-container-id-3 input.sk-toggleable__control:checked~div.sk-toggleable__content {max-height: 200px;max-width: 100%;overflow: auto;}#sk-container-id-3 input.sk-toggleable__control:checked~label.sk-toggleable__label-arrow:before {content: \"▾\";}#sk-container-id-3 div.sk-estimator input.sk-toggleable__control:checked~label.sk-toggleable__label {background-color: #d4ebff;}#sk-container-id-3 div.sk-label input.sk-toggleable__control:checked~label.sk-toggleable__label {background-color: #d4ebff;}#sk-container-id-3 input.sk-hidden--visually {border: 0;clip: rect(1px 1px 1px 1px);clip: rect(1px, 1px, 1px, 1px);height: 1px;margin: -1px;overflow: hidden;padding: 0;position: absolute;width: 1px;}#sk-container-id-3 div.sk-estimator {font-family: monospace;background-color: #f0f8ff;border: 1px dotted black;border-radius: 0.25em;box-sizing: border-box;margin-bottom: 0.5em;}#sk-container-id-3 div.sk-estimator:hover {background-color: #d4ebff;}#sk-container-id-3 div.sk-parallel-item::after {content: \"\";width: 100%;border-bottom: 1px solid gray;flex-grow: 1;}#sk-container-id-3 div.sk-label:hover label.sk-toggleable__label {background-color: #d4ebff;}#sk-container-id-3 div.sk-serial::before {content: \"\";position: absolute;border-left: 1px solid gray;box-sizing: border-box;top: 0;bottom: 0;left: 50%;z-index: 0;}#sk-container-id-3 div.sk-serial {display: flex;flex-direction: column;align-items: center;background-color: white;padding-right: 0.2em;padding-left: 0.2em;position: relative;}#sk-container-id-3 div.sk-item {position: relative;z-index: 1;}#sk-container-id-3 div.sk-parallel {display: flex;align-items: stretch;justify-content: center;background-color: white;position: relative;}#sk-container-id-3 div.sk-item::before, #sk-container-id-3 div.sk-parallel-item::before {content: \"\";position: absolute;border-left: 1px solid gray;box-sizing: border-box;top: 0;bottom: 0;left: 50%;z-index: -1;}#sk-container-id-3 div.sk-parallel-item {display: flex;flex-direction: column;z-index: 1;position: relative;background-color: white;}#sk-container-id-3 div.sk-parallel-item:first-child::after {align-self: flex-end;width: 50%;}#sk-container-id-3 div.sk-parallel-item:last-child::after {align-self: flex-start;width: 50%;}#sk-container-id-3 div.sk-parallel-item:only-child::after {width: 0;}#sk-container-id-3 div.sk-dashed-wrapped {border: 1px dashed gray;margin: 0 0.4em 0.5em 0.4em;box-sizing: border-box;padding-bottom: 0.4em;background-color: white;}#sk-container-id-3 div.sk-label label {font-family: monospace;font-weight: bold;display: inline-block;line-height: 1.2em;}#sk-container-id-3 div.sk-label-container {text-align: center;}#sk-container-id-3 div.sk-container {/* jupyter's `normalize.less` sets `[hidden] { display: none; }` but bootstrap.min.css set `[hidden] { display: none !important; }` so we also need the `!important` here to be able to override the default hidden behavior on the sphinx rendered scikit-learn.org. See: https://github.com/scikit-learn/scikit-learn/issues/21755 */display: inline-block !important;position: relative;}#sk-container-id-3 div.sk-text-repr-fallback {display: none;}</style><div id=\"sk-container-id-3\" class=\"sk-top-container\"><div class=\"sk-text-repr-fallback\"><pre>GridSearchCV(cv=10,\n",
       "             estimator=Pipeline(steps=[(&#x27;minmaxscaler&#x27;, MinMaxScaler()),\n",
       "                                       (&#x27;ridge&#x27;, Ridge())]),\n",
       "             n_jobs=-1,\n",
       "             param_grid={&#x27;ridge__alpha&#x27;: [0.001, 0.01, 0.1, 0.5, 1, 5, 10, 15,\n",
       "                                          100]},\n",
       "             return_train_score=True, scoring=&#x27;neg_mean_absolute_error&#x27;,\n",
       "             verbose=1)</pre><b>In a Jupyter environment, please rerun this cell to show the HTML representation or trust the notebook. <br />On GitHub, the HTML representation is unable to render, please try loading this page with nbviewer.org.</b></div><div class=\"sk-container\" hidden><div class=\"sk-item sk-dashed-wrapped\"><div class=\"sk-label-container\"><div class=\"sk-label sk-toggleable\"><input class=\"sk-toggleable__control sk-hidden--visually\" id=\"sk-estimator-id-7\" type=\"checkbox\" ><label for=\"sk-estimator-id-7\" class=\"sk-toggleable__label sk-toggleable__label-arrow\">GridSearchCV</label><div class=\"sk-toggleable__content\"><pre>GridSearchCV(cv=10,\n",
       "             estimator=Pipeline(steps=[(&#x27;minmaxscaler&#x27;, MinMaxScaler()),\n",
       "                                       (&#x27;ridge&#x27;, Ridge())]),\n",
       "             n_jobs=-1,\n",
       "             param_grid={&#x27;ridge__alpha&#x27;: [0.001, 0.01, 0.1, 0.5, 1, 5, 10, 15,\n",
       "                                          100]},\n",
       "             return_train_score=True, scoring=&#x27;neg_mean_absolute_error&#x27;,\n",
       "             verbose=1)</pre></div></div></div><div class=\"sk-parallel\"><div class=\"sk-parallel-item\"><div class=\"sk-item\"><div class=\"sk-label-container\"><div class=\"sk-label sk-toggleable\"><input class=\"sk-toggleable__control sk-hidden--visually\" id=\"sk-estimator-id-8\" type=\"checkbox\" ><label for=\"sk-estimator-id-8\" class=\"sk-toggleable__label sk-toggleable__label-arrow\">estimator: Pipeline</label><div class=\"sk-toggleable__content\"><pre>Pipeline(steps=[(&#x27;minmaxscaler&#x27;, MinMaxScaler()), (&#x27;ridge&#x27;, Ridge())])</pre></div></div></div><div class=\"sk-serial\"><div class=\"sk-item\"><div class=\"sk-serial\"><div class=\"sk-item\"><div class=\"sk-estimator sk-toggleable\"><input class=\"sk-toggleable__control sk-hidden--visually\" id=\"sk-estimator-id-9\" type=\"checkbox\" ><label for=\"sk-estimator-id-9\" class=\"sk-toggleable__label sk-toggleable__label-arrow\">MinMaxScaler</label><div class=\"sk-toggleable__content\"><pre>MinMaxScaler()</pre></div></div></div><div class=\"sk-item\"><div class=\"sk-estimator sk-toggleable\"><input class=\"sk-toggleable__control sk-hidden--visually\" id=\"sk-estimator-id-10\" type=\"checkbox\" ><label for=\"sk-estimator-id-10\" class=\"sk-toggleable__label sk-toggleable__label-arrow\">Ridge</label><div class=\"sk-toggleable__content\"><pre>Ridge()</pre></div></div></div></div></div></div></div></div></div></div></div></div>"
      ],
      "text/plain": [
       "GridSearchCV(cv=10,\n",
       "             estimator=Pipeline(steps=[('minmaxscaler', MinMaxScaler()),\n",
       "                                       ('ridge', Ridge())]),\n",
       "             n_jobs=-1,\n",
       "             param_grid={'ridge__alpha': [0.001, 0.01, 0.1, 0.5, 1, 5, 10, 15,\n",
       "                                          100]},\n",
       "             return_train_score=True, scoring='neg_mean_absolute_error',\n",
       "             verbose=1)"
      ]
     },
     "execution_count": 60,
     "metadata": {},
     "output_type": "execute_result"
    }
   ],
   "source": [
    "gridcv.fit(X_train, y_train)"
   ]
  },
  {
   "cell_type": "code",
   "execution_count": 61,
   "id": "007a6631",
   "metadata": {},
   "outputs": [
    {
     "data": {
      "text/plain": [
       "{'ridge__alpha': 0.001}"
      ]
     },
     "execution_count": 61,
     "metadata": {},
     "output_type": "execute_result"
    }
   ],
   "source": [
    "gridcv.best_params_"
   ]
  },
  {
   "cell_type": "code",
   "execution_count": 62,
   "id": "ff17217c",
   "metadata": {},
   "outputs": [],
   "source": [
    "results = pd.DataFrame(gridcv.cv_results_)\n",
    "results = results[['mean_fit_time', 'param_ridge__alpha', 'mean_test_score','mean_train_score','rank_test_score']]"
   ]
  },
  {
   "cell_type": "code",
   "execution_count": 63,
   "id": "3af3586a",
   "metadata": {},
   "outputs": [
    {
     "data": {
      "text/html": [
       "<div>\n",
       "<style scoped>\n",
       "    .dataframe tbody tr th:only-of-type {\n",
       "        vertical-align: middle;\n",
       "    }\n",
       "\n",
       "    .dataframe tbody tr th {\n",
       "        vertical-align: top;\n",
       "    }\n",
       "\n",
       "    .dataframe thead th {\n",
       "        text-align: right;\n",
       "    }\n",
       "</style>\n",
       "<table border=\"1\" class=\"dataframe\">\n",
       "  <thead>\n",
       "    <tr style=\"text-align: right;\">\n",
       "      <th></th>\n",
       "      <th>mean_fit_time</th>\n",
       "      <th>param_ridge__alpha</th>\n",
       "      <th>mean_test_score</th>\n",
       "      <th>mean_train_score</th>\n",
       "      <th>rank_test_score</th>\n",
       "    </tr>\n",
       "  </thead>\n",
       "  <tbody>\n",
       "    <tr>\n",
       "      <th>0</th>\n",
       "      <td>0.03278</td>\n",
       "      <td>0.00100</td>\n",
       "      <td>-0.25384</td>\n",
       "      <td>-0.24808</td>\n",
       "      <td>1</td>\n",
       "    </tr>\n",
       "    <tr>\n",
       "      <th>1</th>\n",
       "      <td>0.03012</td>\n",
       "      <td>0.01000</td>\n",
       "      <td>-0.25385</td>\n",
       "      <td>-0.24809</td>\n",
       "      <td>2</td>\n",
       "    </tr>\n",
       "    <tr>\n",
       "      <th>2</th>\n",
       "      <td>0.03217</td>\n",
       "      <td>0.10000</td>\n",
       "      <td>-0.25391</td>\n",
       "      <td>-0.24819</td>\n",
       "      <td>3</td>\n",
       "    </tr>\n",
       "    <tr>\n",
       "      <th>3</th>\n",
       "      <td>0.02778</td>\n",
       "      <td>0.50000</td>\n",
       "      <td>-0.25419</td>\n",
       "      <td>-0.24861</td>\n",
       "      <td>4</td>\n",
       "    </tr>\n",
       "    <tr>\n",
       "      <th>4</th>\n",
       "      <td>0.02474</td>\n",
       "      <td>1</td>\n",
       "      <td>-0.25461</td>\n",
       "      <td>-0.24915</td>\n",
       "      <td>5</td>\n",
       "    </tr>\n",
       "    <tr>\n",
       "      <th>5</th>\n",
       "      <td>0.03139</td>\n",
       "      <td>5</td>\n",
       "      <td>-0.25898</td>\n",
       "      <td>-0.25389</td>\n",
       "      <td>6</td>\n",
       "    </tr>\n",
       "    <tr>\n",
       "      <th>6</th>\n",
       "      <td>0.03153</td>\n",
       "      <td>10</td>\n",
       "      <td>-0.26336</td>\n",
       "      <td>-0.25859</td>\n",
       "      <td>7</td>\n",
       "    </tr>\n",
       "    <tr>\n",
       "      <th>7</th>\n",
       "      <td>0.03982</td>\n",
       "      <td>15</td>\n",
       "      <td>-0.26699</td>\n",
       "      <td>-0.26245</td>\n",
       "      <td>8</td>\n",
       "    </tr>\n",
       "    <tr>\n",
       "      <th>8</th>\n",
       "      <td>0.03624</td>\n",
       "      <td>100</td>\n",
       "      <td>-0.30740</td>\n",
       "      <td>-0.30432</td>\n",
       "      <td>9</td>\n",
       "    </tr>\n",
       "  </tbody>\n",
       "</table>\n",
       "</div>"
      ],
      "text/plain": [
       "   mean_fit_time param_ridge__alpha  mean_test_score  mean_train_score  \\\n",
       "0        0.03278            0.00100         -0.25384          -0.24808   \n",
       "1        0.03012            0.01000         -0.25385          -0.24809   \n",
       "2        0.03217            0.10000         -0.25391          -0.24819   \n",
       "3        0.02778            0.50000         -0.25419          -0.24861   \n",
       "4        0.02474                  1         -0.25461          -0.24915   \n",
       "5        0.03139                  5         -0.25898          -0.25389   \n",
       "6        0.03153                 10         -0.26336          -0.25859   \n",
       "7        0.03982                 15         -0.26699          -0.26245   \n",
       "8        0.03624                100         -0.30740          -0.30432   \n",
       "\n",
       "   rank_test_score  \n",
       "0                1  \n",
       "1                2  \n",
       "2                3  \n",
       "3                4  \n",
       "4                5  \n",
       "5                6  \n",
       "6                7  \n",
       "7                8  \n",
       "8                9  "
      ]
     },
     "execution_count": 63,
     "metadata": {},
     "output_type": "execute_result"
    }
   ],
   "source": [
    "results.sort_values(by = 'rank_test_score')"
   ]
  },
  {
   "cell_type": "code",
   "execution_count": 64,
   "id": "283bc52d",
   "metadata": {},
   "outputs": [],
   "source": [
    "from sklearn.model_selection import GridSearchCV\n",
    "from sklearn.preprocessing import RobustScaler, MinMaxScaler, Normalizer\n",
    "from sklearn.ensemble import RandomForestRegressor, GradientBoostingRegressor\n",
    "\n",
    "preprocesses = {\n",
    "    'minmax': MinMaxScaler(),\n",
    "    'robust': RobustScaler(),\n",
    "    'stdscaler': StandardScaler(),\n",
    "    'Normalizer': Normalizer()\n",
    "}\n",
    "\n",
    "ridge = Ridge(alpha = 0.001, random_state=42)\n",
    "lasso = Lasso(alpha = 0.1, random_state=42)\n",
    "lr = LinearRegression()\n",
    "rf = RandomForestRegressor(random_state=42)\n",
    "gb = GradientBoostingRegressor(random_state=42)\n",
    "\n",
    "scores = []\n",
    "models = {\n",
    "    'Linear Regression': lr,\n",
    "    'Ridge': ridge,\n",
    "    'Lasso': lasso,\n",
    "    'rf': rf,\n",
    "    'gb': gb\n",
    "}\n",
    "\n",
    "for model in models.keys():\n",
    "    for preprocess in preprocesses.keys():\n",
    "        reg = make_pipeline(preprocesses[preprocess], models[model])\n",
    "\n",
    "        reg.fit(X_train, y_train)\n",
    "        y_train_pred = reg.predict(X_train)\n",
    "        y_valid_pred = reg.predict(X_valid)\n",
    "        mae_train = mean_absolute_error(y_train, y_train_pred)\n",
    "        mae_valid = mean_absolute_error(y_valid, y_valid_pred)\n",
    "        mse_train = mean_squared_error(y_train, y_train_pred)\n",
    "        mse_valid = mean_squared_error(y_valid, y_valid_pred)\n",
    "        rmse_train = np.sqrt(mean_squared_error(y_train, y_train_pred))\n",
    "        rmse_valid = np.sqrt(mean_squared_error(y_valid, y_valid_pred))\n",
    "        r2_train = r2_score(y_train, y_train_pred)\n",
    "        r2_valid = r2_score(y_valid, y_valid_pred)\n",
    "\n",
    "        scores.append([preprocess, model, mae_train, mae_valid, mse_train, mse_valid, rmse_train, rmse_valid, r2_train, r2_valid])"
   ]
  },
  {
   "cell_type": "code",
   "execution_count": 65,
   "id": "f087d414",
   "metadata": {},
   "outputs": [
    {
     "data": {
      "text/html": [
       "<div>\n",
       "<style scoped>\n",
       "    .dataframe tbody tr th:only-of-type {\n",
       "        vertical-align: middle;\n",
       "    }\n",
       "\n",
       "    .dataframe tbody tr th {\n",
       "        vertical-align: top;\n",
       "    }\n",
       "\n",
       "    .dataframe thead th {\n",
       "        text-align: right;\n",
       "    }\n",
       "</style>\n",
       "<table border=\"1\" class=\"dataframe\">\n",
       "  <thead>\n",
       "    <tr style=\"text-align: right;\">\n",
       "      <th></th>\n",
       "      <th>preprocesser</th>\n",
       "      <th>model</th>\n",
       "      <th>mae_train</th>\n",
       "      <th>mae_valid</th>\n",
       "      <th>mse_train</th>\n",
       "      <th>mse_valid</th>\n",
       "      <th>rmse_train</th>\n",
       "      <th>rmse_valid</th>\n",
       "      <th>r2_train</th>\n",
       "      <th>r2_valid</th>\n",
       "    </tr>\n",
       "  </thead>\n",
       "  <tbody>\n",
       "    <tr>\n",
       "      <th>12</th>\n",
       "      <td>minmax</td>\n",
       "      <td>rf</td>\n",
       "      <td>0.04806</td>\n",
       "      <td>0.11529</td>\n",
       "      <td>0.01365</td>\n",
       "      <td>0.03137</td>\n",
       "      <td>0.11683</td>\n",
       "      <td>0.17712</td>\n",
       "      <td>0.97623</td>\n",
       "      <td>0.94435</td>\n",
       "    </tr>\n",
       "    <tr>\n",
       "      <th>13</th>\n",
       "      <td>robust</td>\n",
       "      <td>rf</td>\n",
       "      <td>0.04809</td>\n",
       "      <td>0.11546</td>\n",
       "      <td>0.01365</td>\n",
       "      <td>0.03140</td>\n",
       "      <td>0.11685</td>\n",
       "      <td>0.17719</td>\n",
       "      <td>0.97622</td>\n",
       "      <td>0.94431</td>\n",
       "    </tr>\n",
       "    <tr>\n",
       "      <th>14</th>\n",
       "      <td>stdscaler</td>\n",
       "      <td>rf</td>\n",
       "      <td>0.04811</td>\n",
       "      <td>0.11555</td>\n",
       "      <td>0.01366</td>\n",
       "      <td>0.03143</td>\n",
       "      <td>0.11687</td>\n",
       "      <td>0.17727</td>\n",
       "      <td>0.97622</td>\n",
       "      <td>0.94426</td>\n",
       "    </tr>\n",
       "    <tr>\n",
       "      <th>15</th>\n",
       "      <td>Normalizer</td>\n",
       "      <td>rf</td>\n",
       "      <td>0.05021</td>\n",
       "      <td>0.11941</td>\n",
       "      <td>0.01431</td>\n",
       "      <td>0.03596</td>\n",
       "      <td>0.11962</td>\n",
       "      <td>0.18962</td>\n",
       "      <td>0.97508</td>\n",
       "      <td>0.93622</td>\n",
       "    </tr>\n",
       "    <tr>\n",
       "      <th>17</th>\n",
       "      <td>robust</td>\n",
       "      <td>gb</td>\n",
       "      <td>0.20475</td>\n",
       "      <td>0.22068</td>\n",
       "      <td>0.07901</td>\n",
       "      <td>0.07792</td>\n",
       "      <td>0.28109</td>\n",
       "      <td>0.27915</td>\n",
       "      <td>0.86242</td>\n",
       "      <td>0.86178</td>\n",
       "    </tr>\n",
       "    <tr>\n",
       "      <th>16</th>\n",
       "      <td>minmax</td>\n",
       "      <td>gb</td>\n",
       "      <td>0.20475</td>\n",
       "      <td>0.22068</td>\n",
       "      <td>0.07901</td>\n",
       "      <td>0.07792</td>\n",
       "      <td>0.28109</td>\n",
       "      <td>0.27915</td>\n",
       "      <td>0.86242</td>\n",
       "      <td>0.86178</td>\n",
       "    </tr>\n",
       "    <tr>\n",
       "      <th>18</th>\n",
       "      <td>stdscaler</td>\n",
       "      <td>gb</td>\n",
       "      <td>0.20475</td>\n",
       "      <td>0.22068</td>\n",
       "      <td>0.07901</td>\n",
       "      <td>0.07792</td>\n",
       "      <td>0.28109</td>\n",
       "      <td>0.27915</td>\n",
       "      <td>0.86242</td>\n",
       "      <td>0.86178</td>\n",
       "    </tr>\n",
       "    <tr>\n",
       "      <th>19</th>\n",
       "      <td>Normalizer</td>\n",
       "      <td>gb</td>\n",
       "      <td>0.20409</td>\n",
       "      <td>0.22502</td>\n",
       "      <td>0.07776</td>\n",
       "      <td>0.08167</td>\n",
       "      <td>0.27886</td>\n",
       "      <td>0.28578</td>\n",
       "      <td>0.86459</td>\n",
       "      <td>0.85514</td>\n",
       "    </tr>\n",
       "    <tr>\n",
       "      <th>1</th>\n",
       "      <td>robust</td>\n",
       "      <td>Linear Regression</td>\n",
       "      <td>0.24832</td>\n",
       "      <td>0.25392</td>\n",
       "      <td>0.11713</td>\n",
       "      <td>0.11099</td>\n",
       "      <td>0.34225</td>\n",
       "      <td>0.33315</td>\n",
       "      <td>0.79603</td>\n",
       "      <td>0.80313</td>\n",
       "    </tr>\n",
       "    <tr>\n",
       "      <th>6</th>\n",
       "      <td>stdscaler</td>\n",
       "      <td>Ridge</td>\n",
       "      <td>0.24832</td>\n",
       "      <td>0.25392</td>\n",
       "      <td>0.11713</td>\n",
       "      <td>0.11099</td>\n",
       "      <td>0.34225</td>\n",
       "      <td>0.33315</td>\n",
       "      <td>0.79603</td>\n",
       "      <td>0.80313</td>\n",
       "    </tr>\n",
       "    <tr>\n",
       "      <th>4</th>\n",
       "      <td>minmax</td>\n",
       "      <td>Ridge</td>\n",
       "      <td>0.24832</td>\n",
       "      <td>0.25392</td>\n",
       "      <td>0.11713</td>\n",
       "      <td>0.11099</td>\n",
       "      <td>0.34225</td>\n",
       "      <td>0.33315</td>\n",
       "      <td>0.79603</td>\n",
       "      <td>0.80313</td>\n",
       "    </tr>\n",
       "    <tr>\n",
       "      <th>0</th>\n",
       "      <td>minmax</td>\n",
       "      <td>Linear Regression</td>\n",
       "      <td>0.24832</td>\n",
       "      <td>0.25392</td>\n",
       "      <td>0.11713</td>\n",
       "      <td>0.11099</td>\n",
       "      <td>0.34225</td>\n",
       "      <td>0.33315</td>\n",
       "      <td>0.79603</td>\n",
       "      <td>0.80313</td>\n",
       "    </tr>\n",
       "    <tr>\n",
       "      <th>5</th>\n",
       "      <td>robust</td>\n",
       "      <td>Ridge</td>\n",
       "      <td>0.24832</td>\n",
       "      <td>0.25392</td>\n",
       "      <td>0.11713</td>\n",
       "      <td>0.11099</td>\n",
       "      <td>0.34225</td>\n",
       "      <td>0.33315</td>\n",
       "      <td>0.79603</td>\n",
       "      <td>0.80313</td>\n",
       "    </tr>\n",
       "    <tr>\n",
       "      <th>2</th>\n",
       "      <td>stdscaler</td>\n",
       "      <td>Linear Regression</td>\n",
       "      <td>0.24848</td>\n",
       "      <td>0.25414</td>\n",
       "      <td>0.11720</td>\n",
       "      <td>0.11121</td>\n",
       "      <td>0.34235</td>\n",
       "      <td>0.33348</td>\n",
       "      <td>0.79591</td>\n",
       "      <td>0.80274</td>\n",
       "    </tr>\n",
       "    <tr>\n",
       "      <th>3</th>\n",
       "      <td>Normalizer</td>\n",
       "      <td>Linear Regression</td>\n",
       "      <td>0.31570</td>\n",
       "      <td>0.33208</td>\n",
       "      <td>0.18847</td>\n",
       "      <td>0.21913</td>\n",
       "      <td>0.43414</td>\n",
       "      <td>0.46812</td>\n",
       "      <td>0.67181</td>\n",
       "      <td>0.61130</td>\n",
       "    </tr>\n",
       "    <tr>\n",
       "      <th>10</th>\n",
       "      <td>stdscaler</td>\n",
       "      <td>Lasso</td>\n",
       "      <td>0.33979</td>\n",
       "      <td>0.35376</td>\n",
       "      <td>0.19447</td>\n",
       "      <td>0.19511</td>\n",
       "      <td>0.44098</td>\n",
       "      <td>0.44172</td>\n",
       "      <td>0.66137</td>\n",
       "      <td>0.65391</td>\n",
       "    </tr>\n",
       "    <tr>\n",
       "      <th>9</th>\n",
       "      <td>robust</td>\n",
       "      <td>Lasso</td>\n",
       "      <td>0.35596</td>\n",
       "      <td>0.36926</td>\n",
       "      <td>0.20911</td>\n",
       "      <td>0.21054</td>\n",
       "      <td>0.45728</td>\n",
       "      <td>0.45885</td>\n",
       "      <td>0.63588</td>\n",
       "      <td>0.62654</td>\n",
       "    </tr>\n",
       "    <tr>\n",
       "      <th>7</th>\n",
       "      <td>Normalizer</td>\n",
       "      <td>Ridge</td>\n",
       "      <td>0.43898</td>\n",
       "      <td>0.45208</td>\n",
       "      <td>0.34048</td>\n",
       "      <td>0.32582</td>\n",
       "      <td>0.58350</td>\n",
       "      <td>0.57080</td>\n",
       "      <td>0.40713</td>\n",
       "      <td>0.42206</td>\n",
       "    </tr>\n",
       "    <tr>\n",
       "      <th>8</th>\n",
       "      <td>minmax</td>\n",
       "      <td>Lasso</td>\n",
       "      <td>0.53450</td>\n",
       "      <td>0.54261</td>\n",
       "      <td>0.45662</td>\n",
       "      <td>0.44951</td>\n",
       "      <td>0.67574</td>\n",
       "      <td>0.67046</td>\n",
       "      <td>0.20489</td>\n",
       "      <td>0.20265</td>\n",
       "    </tr>\n",
       "    <tr>\n",
       "      <th>11</th>\n",
       "      <td>Normalizer</td>\n",
       "      <td>Lasso</td>\n",
       "      <td>0.59264</td>\n",
       "      <td>0.59856</td>\n",
       "      <td>0.57428</td>\n",
       "      <td>0.56377</td>\n",
       "      <td>0.75781</td>\n",
       "      <td>0.75084</td>\n",
       "      <td>0.00000</td>\n",
       "      <td>-0.00002</td>\n",
       "    </tr>\n",
       "  </tbody>\n",
       "</table>\n",
       "</div>"
      ],
      "text/plain": [
       "   preprocesser              model  mae_train  mae_valid  mse_train  \\\n",
       "12       minmax                 rf    0.04806    0.11529    0.01365   \n",
       "13       robust                 rf    0.04809    0.11546    0.01365   \n",
       "14    stdscaler                 rf    0.04811    0.11555    0.01366   \n",
       "15   Normalizer                 rf    0.05021    0.11941    0.01431   \n",
       "17       robust                 gb    0.20475    0.22068    0.07901   \n",
       "16       minmax                 gb    0.20475    0.22068    0.07901   \n",
       "18    stdscaler                 gb    0.20475    0.22068    0.07901   \n",
       "19   Normalizer                 gb    0.20409    0.22502    0.07776   \n",
       "1        robust  Linear Regression    0.24832    0.25392    0.11713   \n",
       "6     stdscaler              Ridge    0.24832    0.25392    0.11713   \n",
       "4        minmax              Ridge    0.24832    0.25392    0.11713   \n",
       "0        minmax  Linear Regression    0.24832    0.25392    0.11713   \n",
       "5        robust              Ridge    0.24832    0.25392    0.11713   \n",
       "2     stdscaler  Linear Regression    0.24848    0.25414    0.11720   \n",
       "3    Normalizer  Linear Regression    0.31570    0.33208    0.18847   \n",
       "10    stdscaler              Lasso    0.33979    0.35376    0.19447   \n",
       "9        robust              Lasso    0.35596    0.36926    0.20911   \n",
       "7    Normalizer              Ridge    0.43898    0.45208    0.34048   \n",
       "8        minmax              Lasso    0.53450    0.54261    0.45662   \n",
       "11   Normalizer              Lasso    0.59264    0.59856    0.57428   \n",
       "\n",
       "    mse_valid  rmse_train  rmse_valid  r2_train  r2_valid  \n",
       "12    0.03137     0.11683     0.17712   0.97623   0.94435  \n",
       "13    0.03140     0.11685     0.17719   0.97622   0.94431  \n",
       "14    0.03143     0.11687     0.17727   0.97622   0.94426  \n",
       "15    0.03596     0.11962     0.18962   0.97508   0.93622  \n",
       "17    0.07792     0.28109     0.27915   0.86242   0.86178  \n",
       "16    0.07792     0.28109     0.27915   0.86242   0.86178  \n",
       "18    0.07792     0.28109     0.27915   0.86242   0.86178  \n",
       "19    0.08167     0.27886     0.28578   0.86459   0.85514  \n",
       "1     0.11099     0.34225     0.33315   0.79603   0.80313  \n",
       "6     0.11099     0.34225     0.33315   0.79603   0.80313  \n",
       "4     0.11099     0.34225     0.33315   0.79603   0.80313  \n",
       "0     0.11099     0.34225     0.33315   0.79603   0.80313  \n",
       "5     0.11099     0.34225     0.33315   0.79603   0.80313  \n",
       "2     0.11121     0.34235     0.33348   0.79591   0.80274  \n",
       "3     0.21913     0.43414     0.46812   0.67181   0.61130  \n",
       "10    0.19511     0.44098     0.44172   0.66137   0.65391  \n",
       "9     0.21054     0.45728     0.45885   0.63588   0.62654  \n",
       "7     0.32582     0.58350     0.57080   0.40713   0.42206  \n",
       "8     0.44951     0.67574     0.67046   0.20489   0.20265  \n",
       "11    0.56377     0.75781     0.75084   0.00000  -0.00002  "
      ]
     },
     "execution_count": 65,
     "metadata": {},
     "output_type": "execute_result"
    }
   ],
   "source": [
    "outputs = pd.DataFrame(scores, columns = ['preprocesser', 'model','mae_train','mae_valid','mse_train','mse_valid',\n",
    "                                    'rmse_train', 'rmse_valid','r2_train','r2_valid'])\n",
    "\n",
    "outputs.sort_values(by = 'mae_valid')"
   ]
  },
  {
   "cell_type": "markdown",
   "id": "b8136bf8",
   "metadata": {},
   "source": [
    "### Tune tree-based model with OrdinalEncoder"
   ]
  },
  {
   "cell_type": "code",
   "execution_count": 66,
   "id": "23ca9d9b",
   "metadata": {},
   "outputs": [],
   "source": [
    "### try tune ridge model\n",
    "from sklearn.model_selection import GridSearchCV\n",
    "from sklearn.preprocessing import RobustScaler, MinMaxScaler, Normalizer, OrdinalEncoder\n",
    "\n",
    "params = {\n",
    "    'randomforestregressor__n_estimators': [100,250,350,500],\n",
    "    'randomforestregressor__max_depth': [10,15,20, 25,50]}\n",
    "model = make_pipeline(MinMaxScaler(), RandomForestRegressor(n_jobs=-1, random_state=42))\n",
    "gridcv = GridSearchCV(model, params, scoring = 'neg_mean_absolute_error', n_jobs=-1, cv = 10, verbose = 1, return_train_score=True)"
   ]
  },
  {
   "cell_type": "code",
   "execution_count": 76,
   "id": "449e770d",
   "metadata": {},
   "outputs": [],
   "source": [
    "enc = OrdinalEncoder()\n",
    "X_ord = df.drop(columns = ['price','log_price', 'price_div', 'state'])\n",
    "X_ord = enc.fit_transform(X_ord)"
   ]
  },
  {
   "cell_type": "code",
   "execution_count": 77,
   "id": "8e6d28b8",
   "metadata": {},
   "outputs": [],
   "source": [
    "X_ord_train, X_ord_test, y_ord_train, y_ord_test = train_test_split(X_ord, y, test_size=0.3, random_state=42)"
   ]
  },
  {
   "cell_type": "code",
   "execution_count": 78,
   "id": "381a450d",
   "metadata": {},
   "outputs": [
    {
     "name": "stdout",
     "output_type": "stream",
     "text": [
      "Fitting 10 folds for each of 20 candidates, totalling 200 fits\n"
     ]
    },
    {
     "ename": "KeyboardInterrupt",
     "evalue": "",
     "output_type": "error",
     "traceback": [
      "\u001b[0;31m---------------------------------------------------------------------------\u001b[0m",
      "\u001b[0;31mKeyboardInterrupt\u001b[0m                         Traceback (most recent call last)",
      "Input \u001b[0;32mIn [78]\u001b[0m, in \u001b[0;36m<cell line: 1>\u001b[0;34m()\u001b[0m\n\u001b[0;32m----> 1\u001b[0m \u001b[43mgridcv\u001b[49m\u001b[38;5;241;43m.\u001b[39;49m\u001b[43mfit\u001b[49m\u001b[43m(\u001b[49m\u001b[43mX_ord_train\u001b[49m\u001b[43m,\u001b[49m\u001b[43m \u001b[49m\u001b[43my_ord_train\u001b[49m\u001b[43m)\u001b[49m\n",
      "File \u001b[0;32m~/opt/anaconda3/envs/algo_trade/lib/python3.9/site-packages/sklearn/model_selection/_search.py:875\u001b[0m, in \u001b[0;36mBaseSearchCV.fit\u001b[0;34m(self, X, y, groups, **fit_params)\u001b[0m\n\u001b[1;32m    869\u001b[0m     results \u001b[38;5;241m=\u001b[39m \u001b[38;5;28mself\u001b[39m\u001b[38;5;241m.\u001b[39m_format_results(\n\u001b[1;32m    870\u001b[0m         all_candidate_params, n_splits, all_out, all_more_results\n\u001b[1;32m    871\u001b[0m     )\n\u001b[1;32m    873\u001b[0m     \u001b[38;5;28;01mreturn\u001b[39;00m results\n\u001b[0;32m--> 875\u001b[0m \u001b[38;5;28;43mself\u001b[39;49m\u001b[38;5;241;43m.\u001b[39;49m\u001b[43m_run_search\u001b[49m\u001b[43m(\u001b[49m\u001b[43mevaluate_candidates\u001b[49m\u001b[43m)\u001b[49m\n\u001b[1;32m    877\u001b[0m \u001b[38;5;66;03m# multimetric is determined here because in the case of a callable\u001b[39;00m\n\u001b[1;32m    878\u001b[0m \u001b[38;5;66;03m# self.scoring the return type is only known after calling\u001b[39;00m\n\u001b[1;32m    879\u001b[0m first_test_score \u001b[38;5;241m=\u001b[39m all_out[\u001b[38;5;241m0\u001b[39m][\u001b[38;5;124m\"\u001b[39m\u001b[38;5;124mtest_scores\u001b[39m\u001b[38;5;124m\"\u001b[39m]\n",
      "File \u001b[0;32m~/opt/anaconda3/envs/algo_trade/lib/python3.9/site-packages/sklearn/model_selection/_search.py:1375\u001b[0m, in \u001b[0;36mGridSearchCV._run_search\u001b[0;34m(self, evaluate_candidates)\u001b[0m\n\u001b[1;32m   1373\u001b[0m \u001b[38;5;28;01mdef\u001b[39;00m \u001b[38;5;21m_run_search\u001b[39m(\u001b[38;5;28mself\u001b[39m, evaluate_candidates):\n\u001b[1;32m   1374\u001b[0m     \u001b[38;5;124;03m\"\"\"Search all candidates in param_grid\"\"\"\u001b[39;00m\n\u001b[0;32m-> 1375\u001b[0m     \u001b[43mevaluate_candidates\u001b[49m\u001b[43m(\u001b[49m\u001b[43mParameterGrid\u001b[49m\u001b[43m(\u001b[49m\u001b[38;5;28;43mself\u001b[39;49m\u001b[38;5;241;43m.\u001b[39;49m\u001b[43mparam_grid\u001b[49m\u001b[43m)\u001b[49m\u001b[43m)\u001b[49m\n",
      "File \u001b[0;32m~/opt/anaconda3/envs/algo_trade/lib/python3.9/site-packages/sklearn/model_selection/_search.py:822\u001b[0m, in \u001b[0;36mBaseSearchCV.fit.<locals>.evaluate_candidates\u001b[0;34m(candidate_params, cv, more_results)\u001b[0m\n\u001b[1;32m    814\u001b[0m \u001b[38;5;28;01mif\u001b[39;00m \u001b[38;5;28mself\u001b[39m\u001b[38;5;241m.\u001b[39mverbose \u001b[38;5;241m>\u001b[39m \u001b[38;5;241m0\u001b[39m:\n\u001b[1;32m    815\u001b[0m     \u001b[38;5;28mprint\u001b[39m(\n\u001b[1;32m    816\u001b[0m         \u001b[38;5;124m\"\u001b[39m\u001b[38;5;124mFitting \u001b[39m\u001b[38;5;132;01m{0}\u001b[39;00m\u001b[38;5;124m folds for each of \u001b[39m\u001b[38;5;132;01m{1}\u001b[39;00m\u001b[38;5;124m candidates,\u001b[39m\u001b[38;5;124m\"\u001b[39m\n\u001b[1;32m    817\u001b[0m         \u001b[38;5;124m\"\u001b[39m\u001b[38;5;124m totalling \u001b[39m\u001b[38;5;132;01m{2}\u001b[39;00m\u001b[38;5;124m fits\u001b[39m\u001b[38;5;124m\"\u001b[39m\u001b[38;5;241m.\u001b[39mformat(\n\u001b[1;32m    818\u001b[0m             n_splits, n_candidates, n_candidates \u001b[38;5;241m*\u001b[39m n_splits\n\u001b[1;32m    819\u001b[0m         )\n\u001b[1;32m    820\u001b[0m     )\n\u001b[0;32m--> 822\u001b[0m out \u001b[38;5;241m=\u001b[39m \u001b[43mparallel\u001b[49m\u001b[43m(\u001b[49m\n\u001b[1;32m    823\u001b[0m \u001b[43m    \u001b[49m\u001b[43mdelayed\u001b[49m\u001b[43m(\u001b[49m\u001b[43m_fit_and_score\u001b[49m\u001b[43m)\u001b[49m\u001b[43m(\u001b[49m\n\u001b[1;32m    824\u001b[0m \u001b[43m        \u001b[49m\u001b[43mclone\u001b[49m\u001b[43m(\u001b[49m\u001b[43mbase_estimator\u001b[49m\u001b[43m)\u001b[49m\u001b[43m,\u001b[49m\n\u001b[1;32m    825\u001b[0m \u001b[43m        \u001b[49m\u001b[43mX\u001b[49m\u001b[43m,\u001b[49m\n\u001b[1;32m    826\u001b[0m \u001b[43m        \u001b[49m\u001b[43my\u001b[49m\u001b[43m,\u001b[49m\n\u001b[1;32m    827\u001b[0m \u001b[43m        \u001b[49m\u001b[43mtrain\u001b[49m\u001b[38;5;241;43m=\u001b[39;49m\u001b[43mtrain\u001b[49m\u001b[43m,\u001b[49m\n\u001b[1;32m    828\u001b[0m \u001b[43m        \u001b[49m\u001b[43mtest\u001b[49m\u001b[38;5;241;43m=\u001b[39;49m\u001b[43mtest\u001b[49m\u001b[43m,\u001b[49m\n\u001b[1;32m    829\u001b[0m \u001b[43m        \u001b[49m\u001b[43mparameters\u001b[49m\u001b[38;5;241;43m=\u001b[39;49m\u001b[43mparameters\u001b[49m\u001b[43m,\u001b[49m\n\u001b[1;32m    830\u001b[0m \u001b[43m        \u001b[49m\u001b[43msplit_progress\u001b[49m\u001b[38;5;241;43m=\u001b[39;49m\u001b[43m(\u001b[49m\u001b[43msplit_idx\u001b[49m\u001b[43m,\u001b[49m\u001b[43m \u001b[49m\u001b[43mn_splits\u001b[49m\u001b[43m)\u001b[49m\u001b[43m,\u001b[49m\n\u001b[1;32m    831\u001b[0m \u001b[43m        \u001b[49m\u001b[43mcandidate_progress\u001b[49m\u001b[38;5;241;43m=\u001b[39;49m\u001b[43m(\u001b[49m\u001b[43mcand_idx\u001b[49m\u001b[43m,\u001b[49m\u001b[43m \u001b[49m\u001b[43mn_candidates\u001b[49m\u001b[43m)\u001b[49m\u001b[43m,\u001b[49m\n\u001b[1;32m    832\u001b[0m \u001b[43m        \u001b[49m\u001b[38;5;241;43m*\u001b[39;49m\u001b[38;5;241;43m*\u001b[39;49m\u001b[43mfit_and_score_kwargs\u001b[49m\u001b[43m,\u001b[49m\n\u001b[1;32m    833\u001b[0m \u001b[43m    \u001b[49m\u001b[43m)\u001b[49m\n\u001b[1;32m    834\u001b[0m \u001b[43m    \u001b[49m\u001b[38;5;28;43;01mfor\u001b[39;49;00m\u001b[43m \u001b[49m\u001b[43m(\u001b[49m\u001b[43mcand_idx\u001b[49m\u001b[43m,\u001b[49m\u001b[43m \u001b[49m\u001b[43mparameters\u001b[49m\u001b[43m)\u001b[49m\u001b[43m,\u001b[49m\u001b[43m \u001b[49m\u001b[43m(\u001b[49m\u001b[43msplit_idx\u001b[49m\u001b[43m,\u001b[49m\u001b[43m \u001b[49m\u001b[43m(\u001b[49m\u001b[43mtrain\u001b[49m\u001b[43m,\u001b[49m\u001b[43m \u001b[49m\u001b[43mtest\u001b[49m\u001b[43m)\u001b[49m\u001b[43m)\u001b[49m\u001b[43m \u001b[49m\u001b[38;5;129;43;01min\u001b[39;49;00m\u001b[43m \u001b[49m\u001b[43mproduct\u001b[49m\u001b[43m(\u001b[49m\n\u001b[1;32m    835\u001b[0m \u001b[43m        \u001b[49m\u001b[38;5;28;43menumerate\u001b[39;49m\u001b[43m(\u001b[49m\u001b[43mcandidate_params\u001b[49m\u001b[43m)\u001b[49m\u001b[43m,\u001b[49m\u001b[43m \u001b[49m\u001b[38;5;28;43menumerate\u001b[39;49m\u001b[43m(\u001b[49m\u001b[43mcv\u001b[49m\u001b[38;5;241;43m.\u001b[39;49m\u001b[43msplit\u001b[49m\u001b[43m(\u001b[49m\u001b[43mX\u001b[49m\u001b[43m,\u001b[49m\u001b[43m \u001b[49m\u001b[43my\u001b[49m\u001b[43m,\u001b[49m\u001b[43m \u001b[49m\u001b[43mgroups\u001b[49m\u001b[43m)\u001b[49m\u001b[43m)\u001b[49m\n\u001b[1;32m    836\u001b[0m \u001b[43m    \u001b[49m\u001b[43m)\u001b[49m\n\u001b[1;32m    837\u001b[0m \u001b[43m\u001b[49m\u001b[43m)\u001b[49m\n\u001b[1;32m    839\u001b[0m \u001b[38;5;28;01mif\u001b[39;00m \u001b[38;5;28mlen\u001b[39m(out) \u001b[38;5;241m<\u001b[39m \u001b[38;5;241m1\u001b[39m:\n\u001b[1;32m    840\u001b[0m     \u001b[38;5;28;01mraise\u001b[39;00m \u001b[38;5;167;01mValueError\u001b[39;00m(\n\u001b[1;32m    841\u001b[0m         \u001b[38;5;124m\"\u001b[39m\u001b[38;5;124mNo fits were performed. \u001b[39m\u001b[38;5;124m\"\u001b[39m\n\u001b[1;32m    842\u001b[0m         \u001b[38;5;124m\"\u001b[39m\u001b[38;5;124mWas the CV iterator empty? \u001b[39m\u001b[38;5;124m\"\u001b[39m\n\u001b[1;32m    843\u001b[0m         \u001b[38;5;124m\"\u001b[39m\u001b[38;5;124mWere there no candidates?\u001b[39m\u001b[38;5;124m\"\u001b[39m\n\u001b[1;32m    844\u001b[0m     )\n",
      "File \u001b[0;32m~/opt/anaconda3/envs/algo_trade/lib/python3.9/site-packages/joblib/parallel.py:1056\u001b[0m, in \u001b[0;36mParallel.__call__\u001b[0;34m(self, iterable)\u001b[0m\n\u001b[1;32m   1053\u001b[0m     \u001b[38;5;28mself\u001b[39m\u001b[38;5;241m.\u001b[39m_iterating \u001b[38;5;241m=\u001b[39m \u001b[38;5;28;01mFalse\u001b[39;00m\n\u001b[1;32m   1055\u001b[0m \u001b[38;5;28;01mwith\u001b[39;00m \u001b[38;5;28mself\u001b[39m\u001b[38;5;241m.\u001b[39m_backend\u001b[38;5;241m.\u001b[39mretrieval_context():\n\u001b[0;32m-> 1056\u001b[0m     \u001b[38;5;28;43mself\u001b[39;49m\u001b[38;5;241;43m.\u001b[39;49m\u001b[43mretrieve\u001b[49m\u001b[43m(\u001b[49m\u001b[43m)\u001b[49m\n\u001b[1;32m   1057\u001b[0m \u001b[38;5;66;03m# Make sure that we get a last message telling us we are done\u001b[39;00m\n\u001b[1;32m   1058\u001b[0m elapsed_time \u001b[38;5;241m=\u001b[39m time\u001b[38;5;241m.\u001b[39mtime() \u001b[38;5;241m-\u001b[39m \u001b[38;5;28mself\u001b[39m\u001b[38;5;241m.\u001b[39m_start_time\n",
      "File \u001b[0;32m~/opt/anaconda3/envs/algo_trade/lib/python3.9/site-packages/joblib/parallel.py:935\u001b[0m, in \u001b[0;36mParallel.retrieve\u001b[0;34m(self)\u001b[0m\n\u001b[1;32m    933\u001b[0m \u001b[38;5;28;01mtry\u001b[39;00m:\n\u001b[1;32m    934\u001b[0m     \u001b[38;5;28;01mif\u001b[39;00m \u001b[38;5;28mgetattr\u001b[39m(\u001b[38;5;28mself\u001b[39m\u001b[38;5;241m.\u001b[39m_backend, \u001b[38;5;124m'\u001b[39m\u001b[38;5;124msupports_timeout\u001b[39m\u001b[38;5;124m'\u001b[39m, \u001b[38;5;28;01mFalse\u001b[39;00m):\n\u001b[0;32m--> 935\u001b[0m         \u001b[38;5;28mself\u001b[39m\u001b[38;5;241m.\u001b[39m_output\u001b[38;5;241m.\u001b[39mextend(\u001b[43mjob\u001b[49m\u001b[38;5;241;43m.\u001b[39;49m\u001b[43mget\u001b[49m\u001b[43m(\u001b[49m\u001b[43mtimeout\u001b[49m\u001b[38;5;241;43m=\u001b[39;49m\u001b[38;5;28;43mself\u001b[39;49m\u001b[38;5;241;43m.\u001b[39;49m\u001b[43mtimeout\u001b[49m\u001b[43m)\u001b[49m)\n\u001b[1;32m    936\u001b[0m     \u001b[38;5;28;01melse\u001b[39;00m:\n\u001b[1;32m    937\u001b[0m         \u001b[38;5;28mself\u001b[39m\u001b[38;5;241m.\u001b[39m_output\u001b[38;5;241m.\u001b[39mextend(job\u001b[38;5;241m.\u001b[39mget())\n",
      "File \u001b[0;32m~/opt/anaconda3/envs/algo_trade/lib/python3.9/site-packages/joblib/_parallel_backends.py:542\u001b[0m, in \u001b[0;36mLokyBackend.wrap_future_result\u001b[0;34m(future, timeout)\u001b[0m\n\u001b[1;32m    539\u001b[0m \u001b[38;5;124;03m\"\"\"Wrapper for Future.result to implement the same behaviour as\u001b[39;00m\n\u001b[1;32m    540\u001b[0m \u001b[38;5;124;03mAsyncResults.get from multiprocessing.\"\"\"\u001b[39;00m\n\u001b[1;32m    541\u001b[0m \u001b[38;5;28;01mtry\u001b[39;00m:\n\u001b[0;32m--> 542\u001b[0m     \u001b[38;5;28;01mreturn\u001b[39;00m \u001b[43mfuture\u001b[49m\u001b[38;5;241;43m.\u001b[39;49m\u001b[43mresult\u001b[49m\u001b[43m(\u001b[49m\u001b[43mtimeout\u001b[49m\u001b[38;5;241;43m=\u001b[39;49m\u001b[43mtimeout\u001b[49m\u001b[43m)\u001b[49m\n\u001b[1;32m    543\u001b[0m \u001b[38;5;28;01mexcept\u001b[39;00m CfTimeoutError \u001b[38;5;28;01mas\u001b[39;00m e:\n\u001b[1;32m    544\u001b[0m     \u001b[38;5;28;01mraise\u001b[39;00m \u001b[38;5;167;01mTimeoutError\u001b[39;00m \u001b[38;5;28;01mfrom\u001b[39;00m \u001b[38;5;21;01me\u001b[39;00m\n",
      "File \u001b[0;32m~/opt/anaconda3/envs/algo_trade/lib/python3.9/concurrent/futures/_base.py:441\u001b[0m, in \u001b[0;36mFuture.result\u001b[0;34m(self, timeout)\u001b[0m\n\u001b[1;32m    438\u001b[0m \u001b[38;5;28;01melif\u001b[39;00m \u001b[38;5;28mself\u001b[39m\u001b[38;5;241m.\u001b[39m_state \u001b[38;5;241m==\u001b[39m FINISHED:\n\u001b[1;32m    439\u001b[0m     \u001b[38;5;28;01mreturn\u001b[39;00m \u001b[38;5;28mself\u001b[39m\u001b[38;5;241m.\u001b[39m__get_result()\n\u001b[0;32m--> 441\u001b[0m \u001b[38;5;28;43mself\u001b[39;49m\u001b[38;5;241;43m.\u001b[39;49m\u001b[43m_condition\u001b[49m\u001b[38;5;241;43m.\u001b[39;49m\u001b[43mwait\u001b[49m\u001b[43m(\u001b[49m\u001b[43mtimeout\u001b[49m\u001b[43m)\u001b[49m\n\u001b[1;32m    443\u001b[0m \u001b[38;5;28;01mif\u001b[39;00m \u001b[38;5;28mself\u001b[39m\u001b[38;5;241m.\u001b[39m_state \u001b[38;5;129;01min\u001b[39;00m [CANCELLED, CANCELLED_AND_NOTIFIED]:\n\u001b[1;32m    444\u001b[0m     \u001b[38;5;28;01mraise\u001b[39;00m CancelledError()\n",
      "File \u001b[0;32m~/opt/anaconda3/envs/algo_trade/lib/python3.9/threading.py:312\u001b[0m, in \u001b[0;36mCondition.wait\u001b[0;34m(self, timeout)\u001b[0m\n\u001b[1;32m    310\u001b[0m \u001b[38;5;28;01mtry\u001b[39;00m:    \u001b[38;5;66;03m# restore state no matter what (e.g., KeyboardInterrupt)\u001b[39;00m\n\u001b[1;32m    311\u001b[0m     \u001b[38;5;28;01mif\u001b[39;00m timeout \u001b[38;5;129;01mis\u001b[39;00m \u001b[38;5;28;01mNone\u001b[39;00m:\n\u001b[0;32m--> 312\u001b[0m         \u001b[43mwaiter\u001b[49m\u001b[38;5;241;43m.\u001b[39;49m\u001b[43macquire\u001b[49m\u001b[43m(\u001b[49m\u001b[43m)\u001b[49m\n\u001b[1;32m    313\u001b[0m         gotit \u001b[38;5;241m=\u001b[39m \u001b[38;5;28;01mTrue\u001b[39;00m\n\u001b[1;32m    314\u001b[0m     \u001b[38;5;28;01melse\u001b[39;00m:\n",
      "\u001b[0;31mKeyboardInterrupt\u001b[0m: "
     ]
    }
   ],
   "source": [
    "gridcv.fit(X_ord_train, y_ord_train)"
   ]
  },
  {
   "cell_type": "code",
   "execution_count": null,
   "id": "64da5867",
   "metadata": {},
   "outputs": [],
   "source": [
    "results = pd.DataFrame(gridcv.cv_results_)\n",
    "results['mean_test_score'] = results['mean_test_score'] * -1\n",
    "results['mean_train_score'] = results['mean_train_score'] * -1\n",
    "results = results[['mean_fit_time', 'param_randomforestregressor__n_estimators', \n",
    "                   'param_randomforestregressor__max_depth', 'mean_test_score',\n",
    "                   'mean_train_score','rank_test_score']]"
   ]
  },
  {
   "cell_type": "code",
   "execution_count": null,
   "id": "f0101572",
   "metadata": {},
   "outputs": [],
   "source": [
    "results.sort_values('rank_test_score')"
   ]
  },
  {
   "cell_type": "code",
   "execution_count": null,
   "id": "b2b7fd4f",
   "metadata": {},
   "outputs": [],
   "source": [
    "gridcv.predict(X_ord_test)"
   ]
  },
  {
   "cell_type": "code",
   "execution_count": null,
   "id": "887c2910",
   "metadata": {},
   "outputs": [],
   "source": [
    "y_ord_test"
   ]
  },
  {
   "cell_type": "code",
   "execution_count": null,
   "id": "7b89a907",
   "metadata": {},
   "outputs": [],
   "source": [
    "import joblib"
   ]
  },
  {
   "cell_type": "code",
   "execution_count": null,
   "id": "b04509a4",
   "metadata": {},
   "outputs": [],
   "source": [
    "joblib.dump(gridcv, 'rf_20221203.joblib')"
   ]
  },
  {
   "cell_type": "code",
   "execution_count": 81,
   "id": "dadf8324",
   "metadata": {},
   "outputs": [
    {
     "data": {
      "text/html": [
       "<div>\n",
       "<style scoped>\n",
       "    .dataframe tbody tr th:only-of-type {\n",
       "        vertical-align: middle;\n",
       "    }\n",
       "\n",
       "    .dataframe tbody tr th {\n",
       "        vertical-align: top;\n",
       "    }\n",
       "\n",
       "    .dataframe thead th {\n",
       "        text-align: right;\n",
       "    }\n",
       "</style>\n",
       "<table border=\"1\" class=\"dataframe\">\n",
       "  <thead>\n",
       "    <tr style=\"text-align: right;\">\n",
       "      <th></th>\n",
       "      <th>sqft</th>\n",
       "      <th>bedrooms</th>\n",
       "      <th>bathrooms</th>\n",
       "      <th>listing_tags</th>\n",
       "      <th>furnishing</th>\n",
       "      <th>tenure</th>\n",
       "      <th>state</th>\n",
       "      <th>district</th>\n",
       "      <th>landed_vs_high_rise</th>\n",
       "      <th>pool</th>\n",
       "      <th>fitness</th>\n",
       "      <th>balcony</th>\n",
       "    </tr>\n",
       "    <tr>\n",
       "      <th>id</th>\n",
       "      <th></th>\n",
       "      <th></th>\n",
       "      <th></th>\n",
       "      <th></th>\n",
       "      <th></th>\n",
       "      <th></th>\n",
       "      <th></th>\n",
       "      <th></th>\n",
       "      <th></th>\n",
       "      <th></th>\n",
       "      <th></th>\n",
       "      <th></th>\n",
       "    </tr>\n",
       "  </thead>\n",
       "  <tbody>\n",
       "    <tr>\n",
       "      <th>1</th>\n",
       "      <td>2622.00000</td>\n",
       "      <td>5.00000</td>\n",
       "      <td>5.00000</td>\n",
       "      <td>2-storey Terraced House</td>\n",
       "      <td>Partially Furnished</td>\n",
       "      <td>Leasehold</td>\n",
       "      <td>Selangor</td>\n",
       "      <td>Kuala Langat</td>\n",
       "      <td>landed</td>\n",
       "      <td>True</td>\n",
       "      <td>True</td>\n",
       "      <td>True</td>\n",
       "    </tr>\n",
       "    <tr>\n",
       "      <th>2</th>\n",
       "      <td>1847.00000</td>\n",
       "      <td>5.00000</td>\n",
       "      <td>5.00000</td>\n",
       "      <td>3-storey Terraced House</td>\n",
       "      <td>Unfurnished</td>\n",
       "      <td>Leasehold</td>\n",
       "      <td>Selangor</td>\n",
       "      <td>Puchong</td>\n",
       "      <td>landed</td>\n",
       "      <td>True</td>\n",
       "      <td>False</td>\n",
       "      <td>True</td>\n",
       "    </tr>\n",
       "    <tr>\n",
       "      <th>3</th>\n",
       "      <td>1100.00000</td>\n",
       "      <td>3.00000</td>\n",
       "      <td>2.00000</td>\n",
       "      <td>Condominium</td>\n",
       "      <td>Partially Furnished</td>\n",
       "      <td>Leasehold</td>\n",
       "      <td>Selangor</td>\n",
       "      <td>Ampang</td>\n",
       "      <td>high-rise</td>\n",
       "      <td>False</td>\n",
       "      <td>False</td>\n",
       "      <td>True</td>\n",
       "    </tr>\n",
       "    <tr>\n",
       "      <th>4</th>\n",
       "      <td>1535.00000</td>\n",
       "      <td>4.00000</td>\n",
       "      <td>3.00000</td>\n",
       "      <td>2-storey Terraced House</td>\n",
       "      <td>Unfurnished</td>\n",
       "      <td>Freehold</td>\n",
       "      <td>Selangor</td>\n",
       "      <td>Klang</td>\n",
       "      <td>landed</td>\n",
       "      <td>False</td>\n",
       "      <td>False</td>\n",
       "      <td>False</td>\n",
       "    </tr>\n",
       "    <tr>\n",
       "      <th>5</th>\n",
       "      <td>1900.00000</td>\n",
       "      <td>4.00000</td>\n",
       "      <td>3.00000</td>\n",
       "      <td>2-storey Terraced House</td>\n",
       "      <td>Unfurnished</td>\n",
       "      <td>Leasehold</td>\n",
       "      <td>Selangor</td>\n",
       "      <td>Bangi</td>\n",
       "      <td>landed</td>\n",
       "      <td>True</td>\n",
       "      <td>False</td>\n",
       "      <td>False</td>\n",
       "    </tr>\n",
       "    <tr>\n",
       "      <th>...</th>\n",
       "      <td>...</td>\n",
       "      <td>...</td>\n",
       "      <td>...</td>\n",
       "      <td>...</td>\n",
       "      <td>...</td>\n",
       "      <td>...</td>\n",
       "      <td>...</td>\n",
       "      <td>...</td>\n",
       "      <td>...</td>\n",
       "      <td>...</td>\n",
       "      <td>...</td>\n",
       "      <td>...</td>\n",
       "    </tr>\n",
       "    <tr>\n",
       "      <th>4386</th>\n",
       "      <td>2750.00000</td>\n",
       "      <td>5.00000</td>\n",
       "      <td>5.00000</td>\n",
       "      <td>Cluster House</td>\n",
       "      <td>Unfurnished</td>\n",
       "      <td>Freehold</td>\n",
       "      <td>Selangor</td>\n",
       "      <td>Semenyih</td>\n",
       "      <td>landed</td>\n",
       "      <td>True</td>\n",
       "      <td>True</td>\n",
       "      <td>False</td>\n",
       "    </tr>\n",
       "    <tr>\n",
       "      <th>4387</th>\n",
       "      <td>1084.00000</td>\n",
       "      <td>3.00000</td>\n",
       "      <td>2.00000</td>\n",
       "      <td>Service Residence</td>\n",
       "      <td>Partially Furnished</td>\n",
       "      <td>Leasehold</td>\n",
       "      <td>Selangor</td>\n",
       "      <td>Damansara</td>\n",
       "      <td>high-rise</td>\n",
       "      <td>True</td>\n",
       "      <td>True</td>\n",
       "      <td>False</td>\n",
       "    </tr>\n",
       "    <tr>\n",
       "      <th>4388</th>\n",
       "      <td>3530.00000</td>\n",
       "      <td>6.00000</td>\n",
       "      <td>5.00000</td>\n",
       "      <td>Semi-Detached House</td>\n",
       "      <td>Unfurnished</td>\n",
       "      <td>Leasehold</td>\n",
       "      <td>Selangor</td>\n",
       "      <td>Ampang</td>\n",
       "      <td>landed</td>\n",
       "      <td>True</td>\n",
       "      <td>True</td>\n",
       "      <td>False</td>\n",
       "    </tr>\n",
       "    <tr>\n",
       "      <th>4389</th>\n",
       "      <td>6000.00000</td>\n",
       "      <td>5.00000</td>\n",
       "      <td>6.00000</td>\n",
       "      <td>Bungalow House</td>\n",
       "      <td>Unfurnished</td>\n",
       "      <td>Freehold</td>\n",
       "      <td>Selangor</td>\n",
       "      <td>Sungai Buloh</td>\n",
       "      <td>landed</td>\n",
       "      <td>False</td>\n",
       "      <td>False</td>\n",
       "      <td>False</td>\n",
       "    </tr>\n",
       "    <tr>\n",
       "      <th>4390</th>\n",
       "      <td>550.00000</td>\n",
       "      <td>2.00000</td>\n",
       "      <td>1.00000</td>\n",
       "      <td>Service Residence</td>\n",
       "      <td>Partially Furnished</td>\n",
       "      <td>Leasehold</td>\n",
       "      <td>Selangor</td>\n",
       "      <td>Damansara</td>\n",
       "      <td>high-rise</td>\n",
       "      <td>True</td>\n",
       "      <td>True</td>\n",
       "      <td>False</td>\n",
       "    </tr>\n",
       "  </tbody>\n",
       "</table>\n",
       "<p>4288 rows × 12 columns</p>\n",
       "</div>"
      ],
      "text/plain": [
       "           sqft  bedrooms  bathrooms             listing_tags  \\\n",
       "id                                                              \n",
       "1    2622.00000   5.00000    5.00000  2-storey Terraced House   \n",
       "2    1847.00000   5.00000    5.00000  3-storey Terraced House   \n",
       "3    1100.00000   3.00000    2.00000              Condominium   \n",
       "4    1535.00000   4.00000    3.00000  2-storey Terraced House   \n",
       "5    1900.00000   4.00000    3.00000  2-storey Terraced House   \n",
       "...         ...       ...        ...                      ...   \n",
       "4386 2750.00000   5.00000    5.00000            Cluster House   \n",
       "4387 1084.00000   3.00000    2.00000        Service Residence   \n",
       "4388 3530.00000   6.00000    5.00000      Semi-Detached House   \n",
       "4389 6000.00000   5.00000    6.00000           Bungalow House   \n",
       "4390  550.00000   2.00000    1.00000        Service Residence   \n",
       "\n",
       "               furnishing     tenure      state      district  \\\n",
       "id                                                              \n",
       "1     Partially Furnished  Leasehold   Selangor  Kuala Langat   \n",
       "2             Unfurnished  Leasehold   Selangor       Puchong   \n",
       "3     Partially Furnished  Leasehold   Selangor        Ampang   \n",
       "4             Unfurnished   Freehold   Selangor         Klang   \n",
       "5             Unfurnished  Leasehold   Selangor         Bangi   \n",
       "...                   ...        ...        ...           ...   \n",
       "4386          Unfurnished   Freehold   Selangor      Semenyih   \n",
       "4387  Partially Furnished  Leasehold   Selangor     Damansara   \n",
       "4388          Unfurnished  Leasehold   Selangor        Ampang   \n",
       "4389          Unfurnished   Freehold   Selangor  Sungai Buloh   \n",
       "4390  Partially Furnished  Leasehold   Selangor     Damansara   \n",
       "\n",
       "     landed_vs_high_rise   pool  fitness  balcony  \n",
       "id                                                 \n",
       "1                 landed   True     True     True  \n",
       "2                 landed   True    False     True  \n",
       "3              high-rise  False    False     True  \n",
       "4                 landed  False    False    False  \n",
       "5                 landed   True    False    False  \n",
       "...                  ...    ...      ...      ...  \n",
       "4386              landed   True     True    False  \n",
       "4387           high-rise   True     True    False  \n",
       "4388              landed   True     True    False  \n",
       "4389              landed  False    False    False  \n",
       "4390           high-rise   True     True    False  \n",
       "\n",
       "[4288 rows x 12 columns]"
      ]
     },
     "execution_count": 81,
     "metadata": {},
     "output_type": "execute_result"
    }
   ],
   "source": [
    "X = df.drop(columns=['price','log_price','price_div'])\n",
    "X"
   ]
  },
  {
   "cell_type": "code",
   "execution_count": 82,
   "id": "c332c4ba",
   "metadata": {},
   "outputs": [],
   "source": [
    "enc_ls = [\n",
    " 'listing_tags',\n",
    " 'furnishing',\n",
    " 'tenure',\n",
    " 'district',\n",
    " 'landed_vs_high_rise',\n",
    " 'pool',\n",
    " 'fitness',\n",
    " 'balcony']\n",
    "\n",
    "enc = OrdinalEncoder()\n",
    "X[enc_ls] = enc.fit_transform(X[enc_ls])\n",
    "\n",
    "rf = RandomForestRegressor(\n",
    "        n_estimators=500, max_depth=25, random_state=42, n_jobs=-1)\n",
    "\n",
    "rf_pipe = make_pipeline(MinMaxScaler(), rf)"
   ]
  },
  {
   "cell_type": "code",
   "execution_count": 83,
   "id": "884cc94e",
   "metadata": {},
   "outputs": [
    {
     "data": {
      "text/html": [
       "<div>\n",
       "<style scoped>\n",
       "    .dataframe tbody tr th:only-of-type {\n",
       "        vertical-align: middle;\n",
       "    }\n",
       "\n",
       "    .dataframe tbody tr th {\n",
       "        vertical-align: top;\n",
       "    }\n",
       "\n",
       "    .dataframe thead th {\n",
       "        text-align: right;\n",
       "    }\n",
       "</style>\n",
       "<table border=\"1\" class=\"dataframe\">\n",
       "  <thead>\n",
       "    <tr style=\"text-align: right;\">\n",
       "      <th></th>\n",
       "      <th>sqft</th>\n",
       "      <th>bedrooms</th>\n",
       "      <th>bathrooms</th>\n",
       "      <th>listing_tags</th>\n",
       "      <th>furnishing</th>\n",
       "      <th>tenure</th>\n",
       "      <th>state</th>\n",
       "      <th>district</th>\n",
       "      <th>landed_vs_high_rise</th>\n",
       "      <th>pool</th>\n",
       "      <th>fitness</th>\n",
       "      <th>balcony</th>\n",
       "    </tr>\n",
       "    <tr>\n",
       "      <th>id</th>\n",
       "      <th></th>\n",
       "      <th></th>\n",
       "      <th></th>\n",
       "      <th></th>\n",
       "      <th></th>\n",
       "      <th></th>\n",
       "      <th></th>\n",
       "      <th></th>\n",
       "      <th></th>\n",
       "      <th></th>\n",
       "      <th></th>\n",
       "      <th></th>\n",
       "    </tr>\n",
       "  </thead>\n",
       "  <tbody>\n",
       "    <tr>\n",
       "      <th>1</th>\n",
       "      <td>2622.00000</td>\n",
       "      <td>5.00000</td>\n",
       "      <td>5.00000</td>\n",
       "      <td>2.00000</td>\n",
       "      <td>1.00000</td>\n",
       "      <td>3.00000</td>\n",
       "      <td>Selangor</td>\n",
       "      <td>12.00000</td>\n",
       "      <td>1.00000</td>\n",
       "      <td>1.00000</td>\n",
       "      <td>1.00000</td>\n",
       "      <td>1.00000</td>\n",
       "    </tr>\n",
       "    <tr>\n",
       "      <th>2</th>\n",
       "      <td>1847.00000</td>\n",
       "      <td>5.00000</td>\n",
       "      <td>5.00000</td>\n",
       "      <td>4.00000</td>\n",
       "      <td>2.00000</td>\n",
       "      <td>3.00000</td>\n",
       "      <td>Selangor</td>\n",
       "      <td>16.00000</td>\n",
       "      <td>1.00000</td>\n",
       "      <td>1.00000</td>\n",
       "      <td>0.00000</td>\n",
       "      <td>1.00000</td>\n",
       "    </tr>\n",
       "    <tr>\n",
       "      <th>3</th>\n",
       "      <td>1100.00000</td>\n",
       "      <td>3.00000</td>\n",
       "      <td>2.00000</td>\n",
       "      <td>9.00000</td>\n",
       "      <td>1.00000</td>\n",
       "      <td>3.00000</td>\n",
       "      <td>Selangor</td>\n",
       "      <td>0.00000</td>\n",
       "      <td>0.00000</td>\n",
       "      <td>0.00000</td>\n",
       "      <td>0.00000</td>\n",
       "      <td>1.00000</td>\n",
       "    </tr>\n",
       "    <tr>\n",
       "      <th>4</th>\n",
       "      <td>1535.00000</td>\n",
       "      <td>4.00000</td>\n",
       "      <td>3.00000</td>\n",
       "      <td>2.00000</td>\n",
       "      <td>2.00000</td>\n",
       "      <td>2.00000</td>\n",
       "      <td>Selangor</td>\n",
       "      <td>11.00000</td>\n",
       "      <td>1.00000</td>\n",
       "      <td>0.00000</td>\n",
       "      <td>0.00000</td>\n",
       "      <td>0.00000</td>\n",
       "    </tr>\n",
       "    <tr>\n",
       "      <th>5</th>\n",
       "      <td>1900.00000</td>\n",
       "      <td>4.00000</td>\n",
       "      <td>3.00000</td>\n",
       "      <td>2.00000</td>\n",
       "      <td>2.00000</td>\n",
       "      <td>3.00000</td>\n",
       "      <td>Selangor</td>\n",
       "      <td>1.00000</td>\n",
       "      <td>1.00000</td>\n",
       "      <td>1.00000</td>\n",
       "      <td>0.00000</td>\n",
       "      <td>0.00000</td>\n",
       "    </tr>\n",
       "    <tr>\n",
       "      <th>...</th>\n",
       "      <td>...</td>\n",
       "      <td>...</td>\n",
       "      <td>...</td>\n",
       "      <td>...</td>\n",
       "      <td>...</td>\n",
       "      <td>...</td>\n",
       "      <td>...</td>\n",
       "      <td>...</td>\n",
       "      <td>...</td>\n",
       "      <td>...</td>\n",
       "      <td>...</td>\n",
       "      <td>...</td>\n",
       "    </tr>\n",
       "    <tr>\n",
       "      <th>4386</th>\n",
       "      <td>2750.00000</td>\n",
       "      <td>5.00000</td>\n",
       "      <td>5.00000</td>\n",
       "      <td>8.00000</td>\n",
       "      <td>2.00000</td>\n",
       "      <td>2.00000</td>\n",
       "      <td>Selangor</td>\n",
       "      <td>20.00000</td>\n",
       "      <td>1.00000</td>\n",
       "      <td>1.00000</td>\n",
       "      <td>1.00000</td>\n",
       "      <td>0.00000</td>\n",
       "    </tr>\n",
       "    <tr>\n",
       "      <th>4387</th>\n",
       "      <td>1084.00000</td>\n",
       "      <td>3.00000</td>\n",
       "      <td>2.00000</td>\n",
       "      <td>15.00000</td>\n",
       "      <td>1.00000</td>\n",
       "      <td>3.00000</td>\n",
       "      <td>Selangor</td>\n",
       "      <td>5.00000</td>\n",
       "      <td>0.00000</td>\n",
       "      <td>1.00000</td>\n",
       "      <td>1.00000</td>\n",
       "      <td>0.00000</td>\n",
       "    </tr>\n",
       "    <tr>\n",
       "      <th>4388</th>\n",
       "      <td>3530.00000</td>\n",
       "      <td>6.00000</td>\n",
       "      <td>5.00000</td>\n",
       "      <td>14.00000</td>\n",
       "      <td>2.00000</td>\n",
       "      <td>3.00000</td>\n",
       "      <td>Selangor</td>\n",
       "      <td>0.00000</td>\n",
       "      <td>1.00000</td>\n",
       "      <td>1.00000</td>\n",
       "      <td>1.00000</td>\n",
       "      <td>0.00000</td>\n",
       "    </tr>\n",
       "    <tr>\n",
       "      <th>4389</th>\n",
       "      <td>6000.00000</td>\n",
       "      <td>5.00000</td>\n",
       "      <td>6.00000</td>\n",
       "      <td>7.00000</td>\n",
       "      <td>2.00000</td>\n",
       "      <td>2.00000</td>\n",
       "      <td>Selangor</td>\n",
       "      <td>26.00000</td>\n",
       "      <td>1.00000</td>\n",
       "      <td>0.00000</td>\n",
       "      <td>0.00000</td>\n",
       "      <td>0.00000</td>\n",
       "    </tr>\n",
       "    <tr>\n",
       "      <th>4390</th>\n",
       "      <td>550.00000</td>\n",
       "      <td>2.00000</td>\n",
       "      <td>1.00000</td>\n",
       "      <td>15.00000</td>\n",
       "      <td>1.00000</td>\n",
       "      <td>3.00000</td>\n",
       "      <td>Selangor</td>\n",
       "      <td>5.00000</td>\n",
       "      <td>0.00000</td>\n",
       "      <td>1.00000</td>\n",
       "      <td>1.00000</td>\n",
       "      <td>0.00000</td>\n",
       "    </tr>\n",
       "  </tbody>\n",
       "</table>\n",
       "<p>4288 rows × 12 columns</p>\n",
       "</div>"
      ],
      "text/plain": [
       "           sqft  bedrooms  bathrooms  listing_tags  furnishing  tenure  \\\n",
       "id                                                                       \n",
       "1    2622.00000   5.00000    5.00000       2.00000     1.00000 3.00000   \n",
       "2    1847.00000   5.00000    5.00000       4.00000     2.00000 3.00000   \n",
       "3    1100.00000   3.00000    2.00000       9.00000     1.00000 3.00000   \n",
       "4    1535.00000   4.00000    3.00000       2.00000     2.00000 2.00000   \n",
       "5    1900.00000   4.00000    3.00000       2.00000     2.00000 3.00000   \n",
       "...         ...       ...        ...           ...         ...     ...   \n",
       "4386 2750.00000   5.00000    5.00000       8.00000     2.00000 2.00000   \n",
       "4387 1084.00000   3.00000    2.00000      15.00000     1.00000 3.00000   \n",
       "4388 3530.00000   6.00000    5.00000      14.00000     2.00000 3.00000   \n",
       "4389 6000.00000   5.00000    6.00000       7.00000     2.00000 2.00000   \n",
       "4390  550.00000   2.00000    1.00000      15.00000     1.00000 3.00000   \n",
       "\n",
       "          state  district  landed_vs_high_rise    pool  fitness  balcony  \n",
       "id                                                                        \n",
       "1      Selangor  12.00000              1.00000 1.00000  1.00000  1.00000  \n",
       "2      Selangor  16.00000              1.00000 1.00000  0.00000  1.00000  \n",
       "3      Selangor   0.00000              0.00000 0.00000  0.00000  1.00000  \n",
       "4      Selangor  11.00000              1.00000 0.00000  0.00000  0.00000  \n",
       "5      Selangor   1.00000              1.00000 1.00000  0.00000  0.00000  \n",
       "...         ...       ...                  ...     ...      ...      ...  \n",
       "4386   Selangor  20.00000              1.00000 1.00000  1.00000  0.00000  \n",
       "4387   Selangor   5.00000              0.00000 1.00000  1.00000  0.00000  \n",
       "4388   Selangor   0.00000              1.00000 1.00000  1.00000  0.00000  \n",
       "4389   Selangor  26.00000              1.00000 0.00000  0.00000  0.00000  \n",
       "4390   Selangor   5.00000              0.00000 1.00000  1.00000  0.00000  \n",
       "\n",
       "[4288 rows x 12 columns]"
      ]
     },
     "execution_count": 83,
     "metadata": {},
     "output_type": "execute_result"
    }
   ],
   "source": [
    "X"
   ]
  },
  {
   "cell_type": "code",
   "execution_count": 71,
   "id": "58b8b172",
   "metadata": {},
   "outputs": [],
   "source": [
    "encoded_cat = {}\n",
    "obj_cat = ['listing_tags', 'furnishing','tenure','district','landed_vs_high_rise','pool','fitness','balcony']\n",
    "\n",
    "for obj in obj_cat:\n",
    "    json_out = {}\n",
    "    for i, val in enumerate(sorted(df[obj].unique().tolist())):\n",
    "        json_out[val] =  i\n",
    "    encoded_cat[obj] = json_out"
   ]
  },
  {
   "cell_type": "code",
   "execution_count": 99,
   "id": "2e1478ef",
   "metadata": {},
   "outputs": [
    {
     "data": {
      "text/plain": [
       "array(['Condominium', 'Apartment', 'Service Residence', 'Townhouse',\n",
       "       'Duplex', 'Studio', 'Flat', 'Penthouse'], dtype=object)"
      ]
     },
     "execution_count": 99,
     "metadata": {},
     "output_type": "execute_result"
    }
   ],
   "source": [
    "df[df['landed_vs_high_rise'] == 'high-rise']['listing_tags'].unique()"
   ]
  },
  {
   "cell_type": "code",
   "execution_count": 72,
   "id": "d33e1716",
   "metadata": {},
   "outputs": [
    {
     "data": {
      "text/plain": [
       "{'listing_tags': {'1-storey Terraced House': 0,\n",
       "  '1.5-storey Terraced House': 1,\n",
       "  '2-storey Terraced House': 2,\n",
       "  '2.5-storey Terraced House': 3,\n",
       "  '3-storey Terraced House': 4,\n",
       "  '4.5-storey Terraced House': 5,\n",
       "  'Apartment': 6,\n",
       "  'Bungalow House': 7,\n",
       "  'Cluster House': 8,\n",
       "  'Condominium': 9,\n",
       "  'Duplex': 10,\n",
       "  'Flat': 11,\n",
       "  'Link Bungalow': 12,\n",
       "  'Penthouse': 13,\n",
       "  'Semi-Detached House': 14,\n",
       "  'Service Residence': 15,\n",
       "  'Studio': 16,\n",
       "  'Terraced House': 17,\n",
       "  'Townhouse': 18,\n",
       "  'Villa': 19,\n",
       "  'Zero-Lot Bungalow': 20},\n",
       " 'furnishing': {'Fully Furnished': 0,\n",
       "  'Partially Furnished': 1,\n",
       "  'Unfurnished': 2},\n",
       " 'tenure': {'99-year Leasehold': 0,\n",
       "  'Bumi Lot': 1,\n",
       "  'Freehold': 2,\n",
       "  'Leasehold': 3,\n",
       "  'Malay Reserved Land': 4},\n",
       " 'district': {'Ampang': 0,\n",
       "  'Bangi': 1,\n",
       "  'Beranang': 2,\n",
       "  'Cheras': 3,\n",
       "  'Cyberjaya': 4,\n",
       "  'Damansara': 5,\n",
       "  'Gombak': 6,\n",
       "  'Hulu Kelang': 7,\n",
       "  'Hulu Langat': 8,\n",
       "  'Hulu Selangor': 9,\n",
       "  'Kajang': 10,\n",
       "  'Klang': 11,\n",
       "  'Kuala Langat': 12,\n",
       "  'Kuala Selangor': 13,\n",
       "  'Nilai': 14,\n",
       "  'Petaling Jaya': 15,\n",
       "  'Puchong': 16,\n",
       "  'Putrajaya': 17,\n",
       "  'Rawang': 18,\n",
       "  'Sabak Bernam': 19,\n",
       "  'Semenyih': 20,\n",
       "  'Sepang': 21,\n",
       "  'Seri Kembangan': 22,\n",
       "  'Shah Alam': 23,\n",
       "  'Subang': 24,\n",
       "  'Subang Jaya': 25,\n",
       "  'Sungai Buloh': 26,\n",
       "  'Ulu Klang': 27},\n",
       " 'landed_vs_high_rise': {'high-rise': 0, 'landed': 1},\n",
       " 'pool': {False: 0, True: 1},\n",
       " 'fitness': {False: 0, True: 1},\n",
       " 'balcony': {False: 0, True: 1}}"
      ]
     },
     "execution_count": 72,
     "metadata": {},
     "output_type": "execute_result"
    }
   ],
   "source": [
    "encoded_cat"
   ]
  },
  {
   "cell_type": "code",
   "execution_count": 88,
   "id": "a372500d",
   "metadata": {},
   "outputs": [],
   "source": [
    "import json\n",
    "\n",
    "with open('encoded_cat.json', 'w') as fp:\n",
    "    json.dump(encoded_cat, fp)"
   ]
  },
  {
   "cell_type": "code",
   "execution_count": 93,
   "id": "4e51bd78",
   "metadata": {},
   "outputs": [
    {
     "data": {
      "text/plain": [
       "{'listing_tags': {'1-storey Terraced House': 0,\n",
       "  '1.5-storey Terraced House': 1,\n",
       "  '2-storey Terraced House': 2,\n",
       "  '2.5-storey Terraced House': 3,\n",
       "  '3-storey Terraced House': 4,\n",
       "  '4.5-storey Terraced House': 5,\n",
       "  'Apartment': 6,\n",
       "  'Bungalow House': 7,\n",
       "  'Cluster House': 8,\n",
       "  'Condominium': 9,\n",
       "  'Duplex': 10,\n",
       "  'Flat': 11,\n",
       "  'Link Bungalow': 12,\n",
       "  'Penthouse': 13,\n",
       "  'Semi-Detached House': 14,\n",
       "  'Service Residence': 15,\n",
       "  'Studio': 16,\n",
       "  'Terraced House': 17,\n",
       "  'Townhouse': 18,\n",
       "  'Villa': 19,\n",
       "  'Zero-Lot Bungalow': 20},\n",
       " 'furnishing': {'Fully Furnished': 0,\n",
       "  'Partially Furnished': 1,\n",
       "  'Unfurnished': 2},\n",
       " 'tenure': {'99-year Leasehold': 0,\n",
       "  'Bumi Lot': 1,\n",
       "  'Freehold': 2,\n",
       "  'Leasehold': 3,\n",
       "  'Malay Reserved Land': 4},\n",
       " 'district': {'Ampang': 0,\n",
       "  'Bangi': 1,\n",
       "  'Beranang': 2,\n",
       "  'Cheras': 3,\n",
       "  'Cyberjaya': 4,\n",
       "  'Damansara': 5,\n",
       "  'Gombak': 6,\n",
       "  'Hulu Kelang': 7,\n",
       "  'Hulu Langat': 8,\n",
       "  'Hulu Selangor': 9,\n",
       "  'Kajang': 10,\n",
       "  'Klang': 11,\n",
       "  'Kuala Langat': 12,\n",
       "  'Kuala Selangor': 13,\n",
       "  'Nilai': 14,\n",
       "  'Petaling Jaya': 15,\n",
       "  'Puchong': 16,\n",
       "  'Putrajaya': 17,\n",
       "  'Rawang': 18,\n",
       "  'Sabak Bernam': 19,\n",
       "  'Semenyih': 20,\n",
       "  'Sepang': 21,\n",
       "  'Seri Kembangan': 22,\n",
       "  'Shah Alam': 23,\n",
       "  'Subang': 24,\n",
       "  'Subang Jaya': 25,\n",
       "  'Sungai Buloh': 26,\n",
       "  'Ulu Klang': 27},\n",
       " 'landed_vs_high_rise': {'high-rise': 0, 'landed': 1},\n",
       " 'pool': {False: 0, True: 1},\n",
       " 'fitness': {False: 0, True: 1},\n",
       " 'balcony': {False: 0, True: 1}}"
      ]
     },
     "execution_count": 93,
     "metadata": {},
     "output_type": "execute_result"
    }
   ],
   "source": [
    "encoded_cat"
   ]
  },
  {
   "cell_type": "code",
   "execution_count": 92,
   "id": "d46677f6",
   "metadata": {},
   "outputs": [
    {
     "ename": "JSONDecodeError",
     "evalue": "Expecting value: line 1 column 1 (char 0)",
     "output_type": "error",
     "traceback": [
      "\u001b[0;31m---------------------------------------------------------------------------\u001b[0m",
      "\u001b[0;31mJSONDecodeError\u001b[0m                           Traceback (most recent call last)",
      "Input \u001b[0;32mIn [92]\u001b[0m, in \u001b[0;36m<cell line: 1>\u001b[0;34m()\u001b[0m\n\u001b[1;32m      1\u001b[0m \u001b[38;5;28;01mwith\u001b[39;00m \u001b[38;5;28mopen\u001b[39m(\u001b[38;5;124m'\u001b[39m\u001b[38;5;124mencoded_cat.json\u001b[39m\u001b[38;5;124m'\u001b[39m, \u001b[38;5;124m'\u001b[39m\u001b[38;5;124mr\u001b[39m\u001b[38;5;124m'\u001b[39m) \u001b[38;5;28;01mas\u001b[39;00m fp:\n\u001b[0;32m----> 2\u001b[0m     a \u001b[38;5;241m=\u001b[39m \u001b[43mjson\u001b[49m\u001b[38;5;241;43m.\u001b[39;49m\u001b[43mload\u001b[49m\u001b[43m(\u001b[49m\u001b[43mfp\u001b[49m\u001b[43m)\u001b[49m\n",
      "File \u001b[0;32m~/opt/anaconda3/envs/algo_trade/lib/python3.9/json/__init__.py:293\u001b[0m, in \u001b[0;36mload\u001b[0;34m(fp, cls, object_hook, parse_float, parse_int, parse_constant, object_pairs_hook, **kw)\u001b[0m\n\u001b[1;32m    274\u001b[0m \u001b[38;5;28;01mdef\u001b[39;00m \u001b[38;5;21mload\u001b[39m(fp, \u001b[38;5;241m*\u001b[39m, \u001b[38;5;28mcls\u001b[39m\u001b[38;5;241m=\u001b[39m\u001b[38;5;28;01mNone\u001b[39;00m, object_hook\u001b[38;5;241m=\u001b[39m\u001b[38;5;28;01mNone\u001b[39;00m, parse_float\u001b[38;5;241m=\u001b[39m\u001b[38;5;28;01mNone\u001b[39;00m,\n\u001b[1;32m    275\u001b[0m         parse_int\u001b[38;5;241m=\u001b[39m\u001b[38;5;28;01mNone\u001b[39;00m, parse_constant\u001b[38;5;241m=\u001b[39m\u001b[38;5;28;01mNone\u001b[39;00m, object_pairs_hook\u001b[38;5;241m=\u001b[39m\u001b[38;5;28;01mNone\u001b[39;00m, \u001b[38;5;241m*\u001b[39m\u001b[38;5;241m*\u001b[39mkw):\n\u001b[1;32m    276\u001b[0m     \u001b[38;5;124;03m\"\"\"Deserialize ``fp`` (a ``.read()``-supporting file-like object containing\u001b[39;00m\n\u001b[1;32m    277\u001b[0m \u001b[38;5;124;03m    a JSON document) to a Python object.\u001b[39;00m\n\u001b[1;32m    278\u001b[0m \n\u001b[0;32m   (...)\u001b[0m\n\u001b[1;32m    291\u001b[0m \u001b[38;5;124;03m    kwarg; otherwise ``JSONDecoder`` is used.\u001b[39;00m\n\u001b[1;32m    292\u001b[0m \u001b[38;5;124;03m    \"\"\"\u001b[39;00m\n\u001b[0;32m--> 293\u001b[0m     \u001b[38;5;28;01mreturn\u001b[39;00m \u001b[43mloads\u001b[49m\u001b[43m(\u001b[49m\u001b[43mfp\u001b[49m\u001b[38;5;241;43m.\u001b[39;49m\u001b[43mread\u001b[49m\u001b[43m(\u001b[49m\u001b[43m)\u001b[49m\u001b[43m,\u001b[49m\n\u001b[1;32m    294\u001b[0m \u001b[43m        \u001b[49m\u001b[38;5;28;43mcls\u001b[39;49m\u001b[38;5;241;43m=\u001b[39;49m\u001b[38;5;28;43mcls\u001b[39;49m\u001b[43m,\u001b[49m\u001b[43m \u001b[49m\u001b[43mobject_hook\u001b[49m\u001b[38;5;241;43m=\u001b[39;49m\u001b[43mobject_hook\u001b[49m\u001b[43m,\u001b[49m\n\u001b[1;32m    295\u001b[0m \u001b[43m        \u001b[49m\u001b[43mparse_float\u001b[49m\u001b[38;5;241;43m=\u001b[39;49m\u001b[43mparse_float\u001b[49m\u001b[43m,\u001b[49m\u001b[43m \u001b[49m\u001b[43mparse_int\u001b[49m\u001b[38;5;241;43m=\u001b[39;49m\u001b[43mparse_int\u001b[49m\u001b[43m,\u001b[49m\n\u001b[1;32m    296\u001b[0m \u001b[43m        \u001b[49m\u001b[43mparse_constant\u001b[49m\u001b[38;5;241;43m=\u001b[39;49m\u001b[43mparse_constant\u001b[49m\u001b[43m,\u001b[49m\u001b[43m \u001b[49m\u001b[43mobject_pairs_hook\u001b[49m\u001b[38;5;241;43m=\u001b[39;49m\u001b[43mobject_pairs_hook\u001b[49m\u001b[43m,\u001b[49m\u001b[43m \u001b[49m\u001b[38;5;241;43m*\u001b[39;49m\u001b[38;5;241;43m*\u001b[39;49m\u001b[43mkw\u001b[49m\u001b[43m)\u001b[49m\n",
      "File \u001b[0;32m~/opt/anaconda3/envs/algo_trade/lib/python3.9/json/__init__.py:346\u001b[0m, in \u001b[0;36mloads\u001b[0;34m(s, cls, object_hook, parse_float, parse_int, parse_constant, object_pairs_hook, **kw)\u001b[0m\n\u001b[1;32m    341\u001b[0m     s \u001b[38;5;241m=\u001b[39m s\u001b[38;5;241m.\u001b[39mdecode(detect_encoding(s), \u001b[38;5;124m'\u001b[39m\u001b[38;5;124msurrogatepass\u001b[39m\u001b[38;5;124m'\u001b[39m)\n\u001b[1;32m    343\u001b[0m \u001b[38;5;28;01mif\u001b[39;00m (\u001b[38;5;28mcls\u001b[39m \u001b[38;5;129;01mis\u001b[39;00m \u001b[38;5;28;01mNone\u001b[39;00m \u001b[38;5;129;01mand\u001b[39;00m object_hook \u001b[38;5;129;01mis\u001b[39;00m \u001b[38;5;28;01mNone\u001b[39;00m \u001b[38;5;129;01mand\u001b[39;00m\n\u001b[1;32m    344\u001b[0m         parse_int \u001b[38;5;129;01mis\u001b[39;00m \u001b[38;5;28;01mNone\u001b[39;00m \u001b[38;5;129;01mand\u001b[39;00m parse_float \u001b[38;5;129;01mis\u001b[39;00m \u001b[38;5;28;01mNone\u001b[39;00m \u001b[38;5;129;01mand\u001b[39;00m\n\u001b[1;32m    345\u001b[0m         parse_constant \u001b[38;5;129;01mis\u001b[39;00m \u001b[38;5;28;01mNone\u001b[39;00m \u001b[38;5;129;01mand\u001b[39;00m object_pairs_hook \u001b[38;5;129;01mis\u001b[39;00m \u001b[38;5;28;01mNone\u001b[39;00m \u001b[38;5;129;01mand\u001b[39;00m \u001b[38;5;129;01mnot\u001b[39;00m kw):\n\u001b[0;32m--> 346\u001b[0m     \u001b[38;5;28;01mreturn\u001b[39;00m \u001b[43m_default_decoder\u001b[49m\u001b[38;5;241;43m.\u001b[39;49m\u001b[43mdecode\u001b[49m\u001b[43m(\u001b[49m\u001b[43ms\u001b[49m\u001b[43m)\u001b[49m\n\u001b[1;32m    347\u001b[0m \u001b[38;5;28;01mif\u001b[39;00m \u001b[38;5;28mcls\u001b[39m \u001b[38;5;129;01mis\u001b[39;00m \u001b[38;5;28;01mNone\u001b[39;00m:\n\u001b[1;32m    348\u001b[0m     \u001b[38;5;28mcls\u001b[39m \u001b[38;5;241m=\u001b[39m JSONDecoder\n",
      "File \u001b[0;32m~/opt/anaconda3/envs/algo_trade/lib/python3.9/json/decoder.py:337\u001b[0m, in \u001b[0;36mJSONDecoder.decode\u001b[0;34m(self, s, _w)\u001b[0m\n\u001b[1;32m    332\u001b[0m \u001b[38;5;28;01mdef\u001b[39;00m \u001b[38;5;21mdecode\u001b[39m(\u001b[38;5;28mself\u001b[39m, s, _w\u001b[38;5;241m=\u001b[39mWHITESPACE\u001b[38;5;241m.\u001b[39mmatch):\n\u001b[1;32m    333\u001b[0m     \u001b[38;5;124;03m\"\"\"Return the Python representation of ``s`` (a ``str`` instance\u001b[39;00m\n\u001b[1;32m    334\u001b[0m \u001b[38;5;124;03m    containing a JSON document).\u001b[39;00m\n\u001b[1;32m    335\u001b[0m \n\u001b[1;32m    336\u001b[0m \u001b[38;5;124;03m    \"\"\"\u001b[39;00m\n\u001b[0;32m--> 337\u001b[0m     obj, end \u001b[38;5;241m=\u001b[39m \u001b[38;5;28;43mself\u001b[39;49m\u001b[38;5;241;43m.\u001b[39;49m\u001b[43mraw_decode\u001b[49m\u001b[43m(\u001b[49m\u001b[43ms\u001b[49m\u001b[43m,\u001b[49m\u001b[43m \u001b[49m\u001b[43midx\u001b[49m\u001b[38;5;241;43m=\u001b[39;49m\u001b[43m_w\u001b[49m\u001b[43m(\u001b[49m\u001b[43ms\u001b[49m\u001b[43m,\u001b[49m\u001b[43m \u001b[49m\u001b[38;5;241;43m0\u001b[39;49m\u001b[43m)\u001b[49m\u001b[38;5;241;43m.\u001b[39;49m\u001b[43mend\u001b[49m\u001b[43m(\u001b[49m\u001b[43m)\u001b[49m\u001b[43m)\u001b[49m\n\u001b[1;32m    338\u001b[0m     end \u001b[38;5;241m=\u001b[39m _w(s, end)\u001b[38;5;241m.\u001b[39mend()\n\u001b[1;32m    339\u001b[0m     \u001b[38;5;28;01mif\u001b[39;00m end \u001b[38;5;241m!=\u001b[39m \u001b[38;5;28mlen\u001b[39m(s):\n",
      "File \u001b[0;32m~/opt/anaconda3/envs/algo_trade/lib/python3.9/json/decoder.py:355\u001b[0m, in \u001b[0;36mJSONDecoder.raw_decode\u001b[0;34m(self, s, idx)\u001b[0m\n\u001b[1;32m    353\u001b[0m     obj, end \u001b[38;5;241m=\u001b[39m \u001b[38;5;28mself\u001b[39m\u001b[38;5;241m.\u001b[39mscan_once(s, idx)\n\u001b[1;32m    354\u001b[0m \u001b[38;5;28;01mexcept\u001b[39;00m \u001b[38;5;167;01mStopIteration\u001b[39;00m \u001b[38;5;28;01mas\u001b[39;00m err:\n\u001b[0;32m--> 355\u001b[0m     \u001b[38;5;28;01mraise\u001b[39;00m JSONDecodeError(\u001b[38;5;124m\"\u001b[39m\u001b[38;5;124mExpecting value\u001b[39m\u001b[38;5;124m\"\u001b[39m, s, err\u001b[38;5;241m.\u001b[39mvalue) \u001b[38;5;28;01mfrom\u001b[39;00m \u001b[38;5;28mNone\u001b[39m\n\u001b[1;32m    356\u001b[0m \u001b[38;5;28;01mreturn\u001b[39;00m obj, end\n",
      "\u001b[0;31mJSONDecodeError\u001b[0m: Expecting value: line 1 column 1 (char 0)"
     ]
    }
   ],
   "source": [
    "with open('encoded_cat.json', 'r') as fp:\n",
    "    a = json.load(fp)"
   ]
  },
  {
   "cell_type": "code",
   "execution_count": null,
   "id": "da6450d3",
   "metadata": {},
   "outputs": [],
   "source": []
  },
  {
   "cell_type": "code",
   "execution_count": 74,
   "id": "64360953",
   "metadata": {},
   "outputs": [
    {
     "data": {
      "text/plain": [
       "array([[537.,   5.,   5., ...,   1.,   1.,   1.],\n",
       "       [355.,   5.,   5., ...,   1.,   0.,   1.],\n",
       "       [180.,   3.,   2., ...,   0.,   0.,   1.],\n",
       "       ...,\n",
       "       [702.,   6.,   5., ...,   1.,   1.,   0.],\n",
       "       [839.,   5.,   6., ...,   0.,   0.,   0.],\n",
       "       [ 16.,   2.,   1., ...,   1.,   1.,   0.]])"
      ]
     },
     "execution_count": 74,
     "metadata": {},
     "output_type": "execute_result"
    }
   ],
   "source": [
    "X_ord"
   ]
  },
  {
   "cell_type": "code",
   "execution_count": 692,
   "id": "0a9dc19e",
   "metadata": {},
   "outputs": [
    {
     "data": {
      "text/plain": [
       "{'listing_tags': {'1-storey Terraced House': 0,\n",
       "  '1.5-storey Terraced House': 1,\n",
       "  '2-storey Terraced House': 2,\n",
       "  '2.5-storey Terraced House': 3,\n",
       "  '3-storey Terraced House': 4,\n",
       "  '4.5-storey Terraced House': 5,\n",
       "  'Apartment': 6,\n",
       "  'Bungalow House': 7,\n",
       "  'Cluster House': 8,\n",
       "  'Condominium': 9,\n",
       "  'Duplex': 10,\n",
       "  'Flat': 11,\n",
       "  'Link Bungalow': 12,\n",
       "  'Penthouse': 13,\n",
       "  'Semi-Detached House': 14,\n",
       "  'Service Residence': 15,\n",
       "  'Studio': 16,\n",
       "  'Terraced House': 17,\n",
       "  'Townhouse': 18,\n",
       "  'Villa': 19,\n",
       "  'Zero-Lot Bungalow': 20}}"
      ]
     },
     "execution_count": 692,
     "metadata": {},
     "output_type": "execute_result"
    }
   ],
   "source": [
    "encoded_cat = {}\n",
    "encoded_cat['listing_tags'] = json_out\n",
    "encoded_cat"
   ]
  },
  {
   "cell_type": "code",
   "execution_count": 682,
   "id": "494a882b",
   "metadata": {},
   "outputs": [
    {
     "data": {
      "text/plain": [
       "['1-storey Terraced House',\n",
       " '1.5-storey Terraced House',\n",
       " '2-storey Terraced House',\n",
       " '2.5-storey Terraced House',\n",
       " '3-storey Terraced House',\n",
       " '4.5-storey Terraced House',\n",
       " 'Apartment',\n",
       " 'Bungalow House',\n",
       " 'Cluster House',\n",
       " 'Condominium',\n",
       " 'Duplex',\n",
       " 'Flat',\n",
       " 'Link Bungalow',\n",
       " 'Penthouse',\n",
       " 'Semi-Detached House',\n",
       " 'Service Residence',\n",
       " 'Studio',\n",
       " 'Terraced House',\n",
       " 'Townhouse',\n",
       " 'Villa',\n",
       " 'Zero-Lot Bungalow']"
      ]
     },
     "execution_count": 682,
     "metadata": {},
     "output_type": "execute_result"
    }
   ],
   "source": [
    "sorted(df['listing_tags'].unique().tolist())"
   ]
  },
  {
   "cell_type": "code",
   "execution_count": 684,
   "id": "8d6b6067",
   "metadata": {},
   "outputs": [
    {
     "data": {
      "text/plain": [
       "['Ampang',\n",
       " 'Bangi',\n",
       " 'Beranang',\n",
       " 'Cheras',\n",
       " 'Cyberjaya',\n",
       " 'Damansara',\n",
       " 'Gombak',\n",
       " 'Hulu Kelang',\n",
       " 'Hulu Langat',\n",
       " 'Hulu Selangor',\n",
       " 'Kajang',\n",
       " 'Klang',\n",
       " 'Kuala Langat',\n",
       " 'Kuala Selangor',\n",
       " 'Nilai',\n",
       " 'Petaling Jaya',\n",
       " 'Puchong',\n",
       " 'Putrajaya',\n",
       " 'Rawang',\n",
       " 'Sabak Bernam',\n",
       " 'Semenyih',\n",
       " 'Sepang',\n",
       " 'Seri Kembangan',\n",
       " 'Shah Alam',\n",
       " 'Subang',\n",
       " 'Subang Jaya',\n",
       " 'Sungai Buloh',\n",
       " 'Ulu Klang']"
      ]
     },
     "execution_count": 684,
     "metadata": {},
     "output_type": "execute_result"
    }
   ],
   "source": [
    "sorted(df['district'].unique().tolist())"
   ]
  },
  {
   "cell_type": "code",
   "execution_count": 677,
   "id": "5694911a",
   "metadata": {},
   "outputs": [
    {
     "data": {
      "text/plain": [
       "[array([ 0.,  1.,  2.,  3.,  4.,  5.,  6.,  7.,  8.,  9., 10., 11., 12.,\n",
       "        13., 14., 15., 16., 17., 18., 19., 20.]),\n",
       " array([0., 1., 2.]),\n",
       " array([0., 1., 2., 3., 4.]),\n",
       " array([ 0.,  1.,  2.,  3.,  4.,  5.,  6.,  7.,  8.,  9., 10., 11., 12.,\n",
       "        13., 14., 15., 16., 17., 18., 19., 20., 21., 22., 23., 24., 25.,\n",
       "        26., 27.]),\n",
       " array([0., 1.]),\n",
       " array([0., 1.]),\n",
       " array([0., 1.]),\n",
       " array([0., 1.])]"
      ]
     },
     "execution_count": 677,
     "metadata": {},
     "output_type": "execute_result"
    }
   ],
   "source": [
    "enc.categories_"
   ]
  },
  {
   "cell_type": "code",
   "execution_count": 667,
   "id": "97cf0fff",
   "metadata": {},
   "outputs": [],
   "source": [
    "X_train, X_test, y_train, y_test = train_test_split(X, y, test_size=0.3, random_state = 42)"
   ]
  },
  {
   "cell_type": "code",
   "execution_count": 668,
   "id": "14d8be30",
   "metadata": {},
   "outputs": [
    {
     "data": {
      "text/html": [
       "<style>#sk-container-id-28 {color: black;background-color: white;}#sk-container-id-28 pre{padding: 0;}#sk-container-id-28 div.sk-toggleable {background-color: white;}#sk-container-id-28 label.sk-toggleable__label {cursor: pointer;display: block;width: 100%;margin-bottom: 0;padding: 0.3em;box-sizing: border-box;text-align: center;}#sk-container-id-28 label.sk-toggleable__label-arrow:before {content: \"▸\";float: left;margin-right: 0.25em;color: #696969;}#sk-container-id-28 label.sk-toggleable__label-arrow:hover:before {color: black;}#sk-container-id-28 div.sk-estimator:hover label.sk-toggleable__label-arrow:before {color: black;}#sk-container-id-28 div.sk-toggleable__content {max-height: 0;max-width: 0;overflow: hidden;text-align: left;background-color: #f0f8ff;}#sk-container-id-28 div.sk-toggleable__content pre {margin: 0.2em;color: black;border-radius: 0.25em;background-color: #f0f8ff;}#sk-container-id-28 input.sk-toggleable__control:checked~div.sk-toggleable__content {max-height: 200px;max-width: 100%;overflow: auto;}#sk-container-id-28 input.sk-toggleable__control:checked~label.sk-toggleable__label-arrow:before {content: \"▾\";}#sk-container-id-28 div.sk-estimator input.sk-toggleable__control:checked~label.sk-toggleable__label {background-color: #d4ebff;}#sk-container-id-28 div.sk-label input.sk-toggleable__control:checked~label.sk-toggleable__label {background-color: #d4ebff;}#sk-container-id-28 input.sk-hidden--visually {border: 0;clip: rect(1px 1px 1px 1px);clip: rect(1px, 1px, 1px, 1px);height: 1px;margin: -1px;overflow: hidden;padding: 0;position: absolute;width: 1px;}#sk-container-id-28 div.sk-estimator {font-family: monospace;background-color: #f0f8ff;border: 1px dotted black;border-radius: 0.25em;box-sizing: border-box;margin-bottom: 0.5em;}#sk-container-id-28 div.sk-estimator:hover {background-color: #d4ebff;}#sk-container-id-28 div.sk-parallel-item::after {content: \"\";width: 100%;border-bottom: 1px solid gray;flex-grow: 1;}#sk-container-id-28 div.sk-label:hover label.sk-toggleable__label {background-color: #d4ebff;}#sk-container-id-28 div.sk-serial::before {content: \"\";position: absolute;border-left: 1px solid gray;box-sizing: border-box;top: 0;bottom: 0;left: 50%;z-index: 0;}#sk-container-id-28 div.sk-serial {display: flex;flex-direction: column;align-items: center;background-color: white;padding-right: 0.2em;padding-left: 0.2em;position: relative;}#sk-container-id-28 div.sk-item {position: relative;z-index: 1;}#sk-container-id-28 div.sk-parallel {display: flex;align-items: stretch;justify-content: center;background-color: white;position: relative;}#sk-container-id-28 div.sk-item::before, #sk-container-id-28 div.sk-parallel-item::before {content: \"\";position: absolute;border-left: 1px solid gray;box-sizing: border-box;top: 0;bottom: 0;left: 50%;z-index: -1;}#sk-container-id-28 div.sk-parallel-item {display: flex;flex-direction: column;z-index: 1;position: relative;background-color: white;}#sk-container-id-28 div.sk-parallel-item:first-child::after {align-self: flex-end;width: 50%;}#sk-container-id-28 div.sk-parallel-item:last-child::after {align-self: flex-start;width: 50%;}#sk-container-id-28 div.sk-parallel-item:only-child::after {width: 0;}#sk-container-id-28 div.sk-dashed-wrapped {border: 1px dashed gray;margin: 0 0.4em 0.5em 0.4em;box-sizing: border-box;padding-bottom: 0.4em;background-color: white;}#sk-container-id-28 div.sk-label label {font-family: monospace;font-weight: bold;display: inline-block;line-height: 1.2em;}#sk-container-id-28 div.sk-label-container {text-align: center;}#sk-container-id-28 div.sk-container {/* jupyter's `normalize.less` sets `[hidden] { display: none; }` but bootstrap.min.css set `[hidden] { display: none !important; }` so we also need the `!important` here to be able to override the default hidden behavior on the sphinx rendered scikit-learn.org. See: https://github.com/scikit-learn/scikit-learn/issues/21755 */display: inline-block !important;position: relative;}#sk-container-id-28 div.sk-text-repr-fallback {display: none;}</style><div id=\"sk-container-id-28\" class=\"sk-top-container\"><div class=\"sk-text-repr-fallback\"><pre>Pipeline(steps=[(&#x27;minmaxscaler&#x27;, MinMaxScaler()),\n",
       "                (&#x27;randomforestregressor&#x27;,\n",
       "                 RandomForestRegressor(max_depth=25, n_estimators=500,\n",
       "                                       n_jobs=-1, random_state=42))])</pre><b>In a Jupyter environment, please rerun this cell to show the HTML representation or trust the notebook. <br />On GitHub, the HTML representation is unable to render, please try loading this page with nbviewer.org.</b></div><div class=\"sk-container\" hidden><div class=\"sk-item sk-dashed-wrapped\"><div class=\"sk-label-container\"><div class=\"sk-label sk-toggleable\"><input class=\"sk-toggleable__control sk-hidden--visually\" id=\"sk-estimator-id-96\" type=\"checkbox\" ><label for=\"sk-estimator-id-96\" class=\"sk-toggleable__label sk-toggleable__label-arrow\">Pipeline</label><div class=\"sk-toggleable__content\"><pre>Pipeline(steps=[(&#x27;minmaxscaler&#x27;, MinMaxScaler()),\n",
       "                (&#x27;randomforestregressor&#x27;,\n",
       "                 RandomForestRegressor(max_depth=25, n_estimators=500,\n",
       "                                       n_jobs=-1, random_state=42))])</pre></div></div></div><div class=\"sk-serial\"><div class=\"sk-item\"><div class=\"sk-estimator sk-toggleable\"><input class=\"sk-toggleable__control sk-hidden--visually\" id=\"sk-estimator-id-97\" type=\"checkbox\" ><label for=\"sk-estimator-id-97\" class=\"sk-toggleable__label sk-toggleable__label-arrow\">MinMaxScaler</label><div class=\"sk-toggleable__content\"><pre>MinMaxScaler()</pre></div></div></div><div class=\"sk-item\"><div class=\"sk-estimator sk-toggleable\"><input class=\"sk-toggleable__control sk-hidden--visually\" id=\"sk-estimator-id-98\" type=\"checkbox\" ><label for=\"sk-estimator-id-98\" class=\"sk-toggleable__label sk-toggleable__label-arrow\">RandomForestRegressor</label><div class=\"sk-toggleable__content\"><pre>RandomForestRegressor(max_depth=25, n_estimators=500, n_jobs=-1,\n",
       "                      random_state=42)</pre></div></div></div></div></div></div></div>"
      ],
      "text/plain": [
       "Pipeline(steps=[('minmaxscaler', MinMaxScaler()),\n",
       "                ('randomforestregressor',\n",
       "                 RandomForestRegressor(max_depth=25, n_estimators=500,\n",
       "                                       n_jobs=-1, random_state=42))])"
      ]
     },
     "execution_count": 668,
     "metadata": {},
     "output_type": "execute_result"
    }
   ],
   "source": [
    "rf_pipe.fit(X_train, y_train)"
   ]
  },
  {
   "cell_type": "code",
   "execution_count": 669,
   "id": "528a3457",
   "metadata": {},
   "outputs": [
    {
     "data": {
      "text/plain": [
       "['rf_pipeline_20221203.joblib']"
      ]
     },
     "execution_count": 669,
     "metadata": {},
     "output_type": "execute_result"
    }
   ],
   "source": [
    "joblib.dump(rf_pipe, 'rf_pipeline_20221203.joblib')"
   ]
  },
  {
   "cell_type": "code",
   "execution_count": 670,
   "id": "b533b8d8",
   "metadata": {},
   "outputs": [
    {
     "data": {
      "text/plain": [
       "array([14.03281742])"
      ]
     },
     "execution_count": 670,
     "metadata": {},
     "output_type": "execute_result"
    }
   ],
   "source": [
    "rd_pipe.predict(X_pred)"
   ]
  },
  {
   "cell_type": "code",
   "execution_count": 637,
   "id": "9ee40bc8",
   "metadata": {},
   "outputs": [],
   "source": [
    "b = np.array(a).reshape(1,-1)"
   ]
  },
  {
   "cell_type": "code",
   "execution_count": 652,
   "id": "68e3223f",
   "metadata": {},
   "outputs": [
    {
     "data": {
      "text/plain": [
       "['sqft',\n",
       " 'bedrooms',\n",
       " 'bathrooms',\n",
       " 'listing_tags',\n",
       " 'furnishing',\n",
       " 'tenure',\n",
       " 'district',\n",
       " 'landed_vs_high_rise',\n",
       " 'pool',\n",
       " 'fitness',\n",
       " 'balcony']"
      ]
     },
     "execution_count": 652,
     "metadata": {},
     "output_type": "execute_result"
    }
   ],
   "source": [
    "X.columns.tolist()"
   ]
  },
  {
   "cell_type": "code",
   "execution_count": null,
   "id": "4b40e32e",
   "metadata": {},
   "outputs": [],
   "source": [
    "enc_ls = [\n",
    " 'listing_tags',\n",
    " 'furnishing',\n",
    " 'tenure',\n",
    " 'district',\n",
    " 'landed_vs_high_rise',\n",
    " 'pool',\n",
    " 'fitness',\n",
    " 'balcony']"
   ]
  },
  {
   "cell_type": "code",
   "execution_count": 646,
   "id": "db7e6b10",
   "metadata": {},
   "outputs": [],
   "source": [
    "c = pd.DataFrame(b, columns = X.columns.tolist())\n",
    "c['sqft'] = c['sqft'].astype('float64')\n",
    "c['bedrooms'] = c['bedrooms'].astype('float64')\n",
    "c['bathrooms'] = c['bathrooms'].astype('float64')\n",
    "c['pool'] = c['pool'].astype('bool')\n",
    "c['fitness'] = c['fitness'].astype('bool')\n",
    "c['balcony'] = c['balcony'].astype('bool')"
   ]
  },
  {
   "cell_type": "code",
   "execution_count": 647,
   "id": "dd669a28",
   "metadata": {},
   "outputs": [
    {
     "name": "stdout",
     "output_type": "stream",
     "text": [
      "<class 'pandas.core.frame.DataFrame'>\n",
      "RangeIndex: 1 entries, 0 to 0\n",
      "Data columns (total 11 columns):\n",
      " #   Column               Non-Null Count  Dtype  \n",
      "---  ------               --------------  -----  \n",
      " 0   sqft                 1 non-null      float64\n",
      " 1   bedrooms             1 non-null      float64\n",
      " 2   bathrooms            1 non-null      float64\n",
      " 3   listing_tags         1 non-null      object \n",
      " 4   furnishing           1 non-null      object \n",
      " 5   tenure               1 non-null      object \n",
      " 6   district             1 non-null      object \n",
      " 7   landed_vs_high_rise  1 non-null      object \n",
      " 8   pool                 1 non-null      bool   \n",
      " 9   fitness              1 non-null      bool   \n",
      " 10  balcony              1 non-null      bool   \n",
      "dtypes: bool(3), float64(3), object(5)\n",
      "memory usage: 195.0+ bytes\n"
     ]
    }
   ],
   "source": [
    "c.info()"
   ]
  },
  {
   "cell_type": "code",
   "execution_count": 648,
   "id": "df9fdc00",
   "metadata": {},
   "outputs": [
    {
     "data": {
      "text/plain": [
       "array([14.01766581])"
      ]
     },
     "execution_count": 648,
     "metadata": {},
     "output_type": "execute_result"
    }
   ],
   "source": [
    "rf_pipe.predict(c)"
   ]
  },
  {
   "cell_type": "code",
   "execution_count": 651,
   "id": "8b13429a",
   "metadata": {},
   "outputs": [
    {
     "name": "stderr",
     "output_type": "stream",
     "text": [
      "/Users/samuelwong/opt/anaconda3/envs/algo_trade/lib/python3.9/site-packages/sklearn/base.py:443: UserWarning: X has feature names, but RandomForestRegressor was fitted without feature names\n",
      "  warnings.warn(\n"
     ]
    },
    {
     "ename": "ValueError",
     "evalue": "could not convert string to float: '2-storey Terraced House'",
     "output_type": "error",
     "traceback": [
      "\u001b[0;31m---------------------------------------------------------------------------\u001b[0m",
      "\u001b[0;31mValueError\u001b[0m                                Traceback (most recent call last)",
      "Input \u001b[0;32mIn [651]\u001b[0m, in \u001b[0;36m<cell line: 1>\u001b[0;34m()\u001b[0m\n\u001b[0;32m----> 1\u001b[0m \u001b[43mrf\u001b[49m\u001b[38;5;241;43m.\u001b[39;49m\u001b[43mpredict\u001b[49m\u001b[43m(\u001b[49m\u001b[43mX\u001b[49m\u001b[43m)\u001b[49m\n",
      "File \u001b[0;32m~/opt/anaconda3/envs/algo_trade/lib/python3.9/site-packages/sklearn/ensemble/_forest.py:991\u001b[0m, in \u001b[0;36mForestRegressor.predict\u001b[0;34m(self, X)\u001b[0m\n\u001b[1;32m    989\u001b[0m check_is_fitted(\u001b[38;5;28mself\u001b[39m)\n\u001b[1;32m    990\u001b[0m \u001b[38;5;66;03m# Check data\u001b[39;00m\n\u001b[0;32m--> 991\u001b[0m X \u001b[38;5;241m=\u001b[39m \u001b[38;5;28;43mself\u001b[39;49m\u001b[38;5;241;43m.\u001b[39;49m\u001b[43m_validate_X_predict\u001b[49m\u001b[43m(\u001b[49m\u001b[43mX\u001b[49m\u001b[43m)\u001b[49m\n\u001b[1;32m    993\u001b[0m \u001b[38;5;66;03m# Assign chunk of trees to jobs\u001b[39;00m\n\u001b[1;32m    994\u001b[0m n_jobs, _, _ \u001b[38;5;241m=\u001b[39m _partition_estimators(\u001b[38;5;28mself\u001b[39m\u001b[38;5;241m.\u001b[39mn_estimators, \u001b[38;5;28mself\u001b[39m\u001b[38;5;241m.\u001b[39mn_jobs)\n",
      "File \u001b[0;32m~/opt/anaconda3/envs/algo_trade/lib/python3.9/site-packages/sklearn/ensemble/_forest.py:605\u001b[0m, in \u001b[0;36mBaseForest._validate_X_predict\u001b[0;34m(self, X)\u001b[0m\n\u001b[1;32m    602\u001b[0m \u001b[38;5;124;03m\"\"\"\u001b[39;00m\n\u001b[1;32m    603\u001b[0m \u001b[38;5;124;03mValidate X whenever one tries to predict, apply, predict_proba.\"\"\"\u001b[39;00m\n\u001b[1;32m    604\u001b[0m check_is_fitted(\u001b[38;5;28mself\u001b[39m)\n\u001b[0;32m--> 605\u001b[0m X \u001b[38;5;241m=\u001b[39m \u001b[38;5;28;43mself\u001b[39;49m\u001b[38;5;241;43m.\u001b[39;49m\u001b[43m_validate_data\u001b[49m\u001b[43m(\u001b[49m\u001b[43mX\u001b[49m\u001b[43m,\u001b[49m\u001b[43m \u001b[49m\u001b[43mdtype\u001b[49m\u001b[38;5;241;43m=\u001b[39;49m\u001b[43mDTYPE\u001b[49m\u001b[43m,\u001b[49m\u001b[43m \u001b[49m\u001b[43maccept_sparse\u001b[49m\u001b[38;5;241;43m=\u001b[39;49m\u001b[38;5;124;43m\"\u001b[39;49m\u001b[38;5;124;43mcsr\u001b[39;49m\u001b[38;5;124;43m\"\u001b[39;49m\u001b[43m,\u001b[49m\u001b[43m \u001b[49m\u001b[43mreset\u001b[49m\u001b[38;5;241;43m=\u001b[39;49m\u001b[38;5;28;43;01mFalse\u001b[39;49;00m\u001b[43m)\u001b[49m\n\u001b[1;32m    606\u001b[0m \u001b[38;5;28;01mif\u001b[39;00m issparse(X) \u001b[38;5;129;01mand\u001b[39;00m (X\u001b[38;5;241m.\u001b[39mindices\u001b[38;5;241m.\u001b[39mdtype \u001b[38;5;241m!=\u001b[39m np\u001b[38;5;241m.\u001b[39mintc \u001b[38;5;129;01mor\u001b[39;00m X\u001b[38;5;241m.\u001b[39mindptr\u001b[38;5;241m.\u001b[39mdtype \u001b[38;5;241m!=\u001b[39m np\u001b[38;5;241m.\u001b[39mintc):\n\u001b[1;32m    607\u001b[0m     \u001b[38;5;28;01mraise\u001b[39;00m \u001b[38;5;167;01mValueError\u001b[39;00m(\u001b[38;5;124m\"\u001b[39m\u001b[38;5;124mNo support for np.int64 index based sparse matrices\u001b[39m\u001b[38;5;124m\"\u001b[39m)\n",
      "File \u001b[0;32m~/opt/anaconda3/envs/algo_trade/lib/python3.9/site-packages/sklearn/base.py:577\u001b[0m, in \u001b[0;36mBaseEstimator._validate_data\u001b[0;34m(self, X, y, reset, validate_separately, **check_params)\u001b[0m\n\u001b[1;32m    575\u001b[0m     \u001b[38;5;28;01mraise\u001b[39;00m \u001b[38;5;167;01mValueError\u001b[39;00m(\u001b[38;5;124m\"\u001b[39m\u001b[38;5;124mValidation should be done on X, y or both.\u001b[39m\u001b[38;5;124m\"\u001b[39m)\n\u001b[1;32m    576\u001b[0m \u001b[38;5;28;01melif\u001b[39;00m \u001b[38;5;129;01mnot\u001b[39;00m no_val_X \u001b[38;5;129;01mand\u001b[39;00m no_val_y:\n\u001b[0;32m--> 577\u001b[0m     X \u001b[38;5;241m=\u001b[39m \u001b[43mcheck_array\u001b[49m\u001b[43m(\u001b[49m\u001b[43mX\u001b[49m\u001b[43m,\u001b[49m\u001b[43m \u001b[49m\u001b[43minput_name\u001b[49m\u001b[38;5;241;43m=\u001b[39;49m\u001b[38;5;124;43m\"\u001b[39;49m\u001b[38;5;124;43mX\u001b[39;49m\u001b[38;5;124;43m\"\u001b[39;49m\u001b[43m,\u001b[49m\u001b[43m \u001b[49m\u001b[38;5;241;43m*\u001b[39;49m\u001b[38;5;241;43m*\u001b[39;49m\u001b[43mcheck_params\u001b[49m\u001b[43m)\u001b[49m\n\u001b[1;32m    578\u001b[0m     out \u001b[38;5;241m=\u001b[39m X\n\u001b[1;32m    579\u001b[0m \u001b[38;5;28;01melif\u001b[39;00m no_val_X \u001b[38;5;129;01mand\u001b[39;00m \u001b[38;5;129;01mnot\u001b[39;00m no_val_y:\n",
      "File \u001b[0;32m~/opt/anaconda3/envs/algo_trade/lib/python3.9/site-packages/sklearn/utils/validation.py:791\u001b[0m, in \u001b[0;36mcheck_array\u001b[0;34m(array, accept_sparse, accept_large_sparse, dtype, order, copy, force_all_finite, ensure_2d, allow_nd, ensure_min_samples, ensure_min_features, estimator, input_name)\u001b[0m\n\u001b[1;32m    786\u001b[0m \u001b[38;5;28;01mif\u001b[39;00m pandas_requires_conversion:\n\u001b[1;32m    787\u001b[0m     \u001b[38;5;66;03m# pandas dataframe requires conversion earlier to handle extension dtypes with\u001b[39;00m\n\u001b[1;32m    788\u001b[0m     \u001b[38;5;66;03m# nans\u001b[39;00m\n\u001b[1;32m    789\u001b[0m     \u001b[38;5;66;03m# Use the original dtype for conversion if dtype is None\u001b[39;00m\n\u001b[1;32m    790\u001b[0m     new_dtype \u001b[38;5;241m=\u001b[39m dtype_orig \u001b[38;5;28;01mif\u001b[39;00m dtype \u001b[38;5;129;01mis\u001b[39;00m \u001b[38;5;28;01mNone\u001b[39;00m \u001b[38;5;28;01melse\u001b[39;00m dtype\n\u001b[0;32m--> 791\u001b[0m     array \u001b[38;5;241m=\u001b[39m \u001b[43marray\u001b[49m\u001b[38;5;241;43m.\u001b[39;49m\u001b[43mastype\u001b[49m\u001b[43m(\u001b[49m\u001b[43mnew_dtype\u001b[49m\u001b[43m)\u001b[49m\n\u001b[1;32m    792\u001b[0m     \u001b[38;5;66;03m# Since we converted here, we do not need to convert again later\u001b[39;00m\n\u001b[1;32m    793\u001b[0m     dtype \u001b[38;5;241m=\u001b[39m \u001b[38;5;28;01mNone\u001b[39;00m\n",
      "File \u001b[0;32m~/opt/anaconda3/envs/algo_trade/lib/python3.9/site-packages/pandas/core/generic.py:5912\u001b[0m, in \u001b[0;36mNDFrame.astype\u001b[0;34m(self, dtype, copy, errors)\u001b[0m\n\u001b[1;32m   5905\u001b[0m     results \u001b[38;5;241m=\u001b[39m [\n\u001b[1;32m   5906\u001b[0m         \u001b[38;5;28mself\u001b[39m\u001b[38;5;241m.\u001b[39miloc[:, i]\u001b[38;5;241m.\u001b[39mastype(dtype, copy\u001b[38;5;241m=\u001b[39mcopy)\n\u001b[1;32m   5907\u001b[0m         \u001b[38;5;28;01mfor\u001b[39;00m i \u001b[38;5;129;01min\u001b[39;00m \u001b[38;5;28mrange\u001b[39m(\u001b[38;5;28mlen\u001b[39m(\u001b[38;5;28mself\u001b[39m\u001b[38;5;241m.\u001b[39mcolumns))\n\u001b[1;32m   5908\u001b[0m     ]\n\u001b[1;32m   5910\u001b[0m \u001b[38;5;28;01melse\u001b[39;00m:\n\u001b[1;32m   5911\u001b[0m     \u001b[38;5;66;03m# else, only a single dtype is given\u001b[39;00m\n\u001b[0;32m-> 5912\u001b[0m     new_data \u001b[38;5;241m=\u001b[39m \u001b[38;5;28;43mself\u001b[39;49m\u001b[38;5;241;43m.\u001b[39;49m\u001b[43m_mgr\u001b[49m\u001b[38;5;241;43m.\u001b[39;49m\u001b[43mastype\u001b[49m\u001b[43m(\u001b[49m\u001b[43mdtype\u001b[49m\u001b[38;5;241;43m=\u001b[39;49m\u001b[43mdtype\u001b[49m\u001b[43m,\u001b[49m\u001b[43m \u001b[49m\u001b[43mcopy\u001b[49m\u001b[38;5;241;43m=\u001b[39;49m\u001b[43mcopy\u001b[49m\u001b[43m,\u001b[49m\u001b[43m \u001b[49m\u001b[43merrors\u001b[49m\u001b[38;5;241;43m=\u001b[39;49m\u001b[43merrors\u001b[49m\u001b[43m)\u001b[49m\n\u001b[1;32m   5913\u001b[0m     \u001b[38;5;28;01mreturn\u001b[39;00m \u001b[38;5;28mself\u001b[39m\u001b[38;5;241m.\u001b[39m_constructor(new_data)\u001b[38;5;241m.\u001b[39m__finalize__(\u001b[38;5;28mself\u001b[39m, method\u001b[38;5;241m=\u001b[39m\u001b[38;5;124m\"\u001b[39m\u001b[38;5;124mastype\u001b[39m\u001b[38;5;124m\"\u001b[39m)\n\u001b[1;32m   5915\u001b[0m \u001b[38;5;66;03m# GH 33113: handle empty frame or series\u001b[39;00m\n",
      "File \u001b[0;32m~/opt/anaconda3/envs/algo_trade/lib/python3.9/site-packages/pandas/core/internals/managers.py:419\u001b[0m, in \u001b[0;36mBaseBlockManager.astype\u001b[0;34m(self, dtype, copy, errors)\u001b[0m\n\u001b[1;32m    418\u001b[0m \u001b[38;5;28;01mdef\u001b[39;00m \u001b[38;5;21mastype\u001b[39m(\u001b[38;5;28mself\u001b[39m: T, dtype, copy: \u001b[38;5;28mbool\u001b[39m \u001b[38;5;241m=\u001b[39m \u001b[38;5;28;01mFalse\u001b[39;00m, errors: \u001b[38;5;28mstr\u001b[39m \u001b[38;5;241m=\u001b[39m \u001b[38;5;124m\"\u001b[39m\u001b[38;5;124mraise\u001b[39m\u001b[38;5;124m\"\u001b[39m) \u001b[38;5;241m-\u001b[39m\u001b[38;5;241m>\u001b[39m T:\n\u001b[0;32m--> 419\u001b[0m     \u001b[38;5;28;01mreturn\u001b[39;00m \u001b[38;5;28;43mself\u001b[39;49m\u001b[38;5;241;43m.\u001b[39;49m\u001b[43mapply\u001b[49m\u001b[43m(\u001b[49m\u001b[38;5;124;43m\"\u001b[39;49m\u001b[38;5;124;43mastype\u001b[39;49m\u001b[38;5;124;43m\"\u001b[39;49m\u001b[43m,\u001b[49m\u001b[43m \u001b[49m\u001b[43mdtype\u001b[49m\u001b[38;5;241;43m=\u001b[39;49m\u001b[43mdtype\u001b[49m\u001b[43m,\u001b[49m\u001b[43m \u001b[49m\u001b[43mcopy\u001b[49m\u001b[38;5;241;43m=\u001b[39;49m\u001b[43mcopy\u001b[49m\u001b[43m,\u001b[49m\u001b[43m \u001b[49m\u001b[43merrors\u001b[49m\u001b[38;5;241;43m=\u001b[39;49m\u001b[43merrors\u001b[49m\u001b[43m)\u001b[49m\n",
      "File \u001b[0;32m~/opt/anaconda3/envs/algo_trade/lib/python3.9/site-packages/pandas/core/internals/managers.py:304\u001b[0m, in \u001b[0;36mBaseBlockManager.apply\u001b[0;34m(self, f, align_keys, ignore_failures, **kwargs)\u001b[0m\n\u001b[1;32m    302\u001b[0m         applied \u001b[38;5;241m=\u001b[39m b\u001b[38;5;241m.\u001b[39mapply(f, \u001b[38;5;241m*\u001b[39m\u001b[38;5;241m*\u001b[39mkwargs)\n\u001b[1;32m    303\u001b[0m     \u001b[38;5;28;01melse\u001b[39;00m:\n\u001b[0;32m--> 304\u001b[0m         applied \u001b[38;5;241m=\u001b[39m \u001b[38;5;28;43mgetattr\u001b[39;49m\u001b[43m(\u001b[49m\u001b[43mb\u001b[49m\u001b[43m,\u001b[49m\u001b[43m \u001b[49m\u001b[43mf\u001b[49m\u001b[43m)\u001b[49m\u001b[43m(\u001b[49m\u001b[38;5;241;43m*\u001b[39;49m\u001b[38;5;241;43m*\u001b[39;49m\u001b[43mkwargs\u001b[49m\u001b[43m)\u001b[49m\n\u001b[1;32m    305\u001b[0m \u001b[38;5;28;01mexcept\u001b[39;00m (\u001b[38;5;167;01mTypeError\u001b[39;00m, \u001b[38;5;167;01mNotImplementedError\u001b[39;00m):\n\u001b[1;32m    306\u001b[0m     \u001b[38;5;28;01mif\u001b[39;00m \u001b[38;5;129;01mnot\u001b[39;00m ignore_failures:\n",
      "File \u001b[0;32m~/opt/anaconda3/envs/algo_trade/lib/python3.9/site-packages/pandas/core/internals/blocks.py:580\u001b[0m, in \u001b[0;36mBlock.astype\u001b[0;34m(self, dtype, copy, errors)\u001b[0m\n\u001b[1;32m    562\u001b[0m \u001b[38;5;124;03m\"\"\"\u001b[39;00m\n\u001b[1;32m    563\u001b[0m \u001b[38;5;124;03mCoerce to the new dtype.\u001b[39;00m\n\u001b[1;32m    564\u001b[0m \n\u001b[0;32m   (...)\u001b[0m\n\u001b[1;32m    576\u001b[0m \u001b[38;5;124;03mBlock\u001b[39;00m\n\u001b[1;32m    577\u001b[0m \u001b[38;5;124;03m\"\"\"\u001b[39;00m\n\u001b[1;32m    578\u001b[0m values \u001b[38;5;241m=\u001b[39m \u001b[38;5;28mself\u001b[39m\u001b[38;5;241m.\u001b[39mvalues\n\u001b[0;32m--> 580\u001b[0m new_values \u001b[38;5;241m=\u001b[39m \u001b[43mastype_array_safe\u001b[49m\u001b[43m(\u001b[49m\u001b[43mvalues\u001b[49m\u001b[43m,\u001b[49m\u001b[43m \u001b[49m\u001b[43mdtype\u001b[49m\u001b[43m,\u001b[49m\u001b[43m \u001b[49m\u001b[43mcopy\u001b[49m\u001b[38;5;241;43m=\u001b[39;49m\u001b[43mcopy\u001b[49m\u001b[43m,\u001b[49m\u001b[43m \u001b[49m\u001b[43merrors\u001b[49m\u001b[38;5;241;43m=\u001b[39;49m\u001b[43merrors\u001b[49m\u001b[43m)\u001b[49m\n\u001b[1;32m    582\u001b[0m new_values \u001b[38;5;241m=\u001b[39m maybe_coerce_values(new_values)\n\u001b[1;32m    583\u001b[0m newb \u001b[38;5;241m=\u001b[39m \u001b[38;5;28mself\u001b[39m\u001b[38;5;241m.\u001b[39mmake_block(new_values)\n",
      "File \u001b[0;32m~/opt/anaconda3/envs/algo_trade/lib/python3.9/site-packages/pandas/core/dtypes/cast.py:1292\u001b[0m, in \u001b[0;36mastype_array_safe\u001b[0;34m(values, dtype, copy, errors)\u001b[0m\n\u001b[1;32m   1289\u001b[0m     dtype \u001b[38;5;241m=\u001b[39m dtype\u001b[38;5;241m.\u001b[39mnumpy_dtype\n\u001b[1;32m   1291\u001b[0m \u001b[38;5;28;01mtry\u001b[39;00m:\n\u001b[0;32m-> 1292\u001b[0m     new_values \u001b[38;5;241m=\u001b[39m \u001b[43mastype_array\u001b[49m\u001b[43m(\u001b[49m\u001b[43mvalues\u001b[49m\u001b[43m,\u001b[49m\u001b[43m \u001b[49m\u001b[43mdtype\u001b[49m\u001b[43m,\u001b[49m\u001b[43m \u001b[49m\u001b[43mcopy\u001b[49m\u001b[38;5;241;43m=\u001b[39;49m\u001b[43mcopy\u001b[49m\u001b[43m)\u001b[49m\n\u001b[1;32m   1293\u001b[0m \u001b[38;5;28;01mexcept\u001b[39;00m (\u001b[38;5;167;01mValueError\u001b[39;00m, \u001b[38;5;167;01mTypeError\u001b[39;00m):\n\u001b[1;32m   1294\u001b[0m     \u001b[38;5;66;03m# e.g. astype_nansafe can fail on object-dtype of strings\u001b[39;00m\n\u001b[1;32m   1295\u001b[0m     \u001b[38;5;66;03m#  trying to convert to float\u001b[39;00m\n\u001b[1;32m   1296\u001b[0m     \u001b[38;5;28;01mif\u001b[39;00m errors \u001b[38;5;241m==\u001b[39m \u001b[38;5;124m\"\u001b[39m\u001b[38;5;124mignore\u001b[39m\u001b[38;5;124m\"\u001b[39m:\n",
      "File \u001b[0;32m~/opt/anaconda3/envs/algo_trade/lib/python3.9/site-packages/pandas/core/dtypes/cast.py:1237\u001b[0m, in \u001b[0;36mastype_array\u001b[0;34m(values, dtype, copy)\u001b[0m\n\u001b[1;32m   1234\u001b[0m     values \u001b[38;5;241m=\u001b[39m values\u001b[38;5;241m.\u001b[39mastype(dtype, copy\u001b[38;5;241m=\u001b[39mcopy)\n\u001b[1;32m   1236\u001b[0m \u001b[38;5;28;01melse\u001b[39;00m:\n\u001b[0;32m-> 1237\u001b[0m     values \u001b[38;5;241m=\u001b[39m \u001b[43mastype_nansafe\u001b[49m\u001b[43m(\u001b[49m\u001b[43mvalues\u001b[49m\u001b[43m,\u001b[49m\u001b[43m \u001b[49m\u001b[43mdtype\u001b[49m\u001b[43m,\u001b[49m\u001b[43m \u001b[49m\u001b[43mcopy\u001b[49m\u001b[38;5;241;43m=\u001b[39;49m\u001b[43mcopy\u001b[49m\u001b[43m)\u001b[49m\n\u001b[1;32m   1239\u001b[0m \u001b[38;5;66;03m# in pandas we don't store numpy str dtypes, so convert to object\u001b[39;00m\n\u001b[1;32m   1240\u001b[0m \u001b[38;5;28;01mif\u001b[39;00m \u001b[38;5;28misinstance\u001b[39m(dtype, np\u001b[38;5;241m.\u001b[39mdtype) \u001b[38;5;129;01mand\u001b[39;00m \u001b[38;5;28missubclass\u001b[39m(values\u001b[38;5;241m.\u001b[39mdtype\u001b[38;5;241m.\u001b[39mtype, \u001b[38;5;28mstr\u001b[39m):\n",
      "File \u001b[0;32m~/opt/anaconda3/envs/algo_trade/lib/python3.9/site-packages/pandas/core/dtypes/cast.py:1098\u001b[0m, in \u001b[0;36mastype_nansafe\u001b[0;34m(arr, dtype, copy, skipna)\u001b[0m\n\u001b[1;32m   1096\u001b[0m \u001b[38;5;28;01mif\u001b[39;00m arr\u001b[38;5;241m.\u001b[39mndim \u001b[38;5;241m>\u001b[39m \u001b[38;5;241m1\u001b[39m:\n\u001b[1;32m   1097\u001b[0m     flat \u001b[38;5;241m=\u001b[39m arr\u001b[38;5;241m.\u001b[39mravel()\n\u001b[0;32m-> 1098\u001b[0m     result \u001b[38;5;241m=\u001b[39m \u001b[43mastype_nansafe\u001b[49m\u001b[43m(\u001b[49m\u001b[43mflat\u001b[49m\u001b[43m,\u001b[49m\u001b[43m \u001b[49m\u001b[43mdtype\u001b[49m\u001b[43m,\u001b[49m\u001b[43m \u001b[49m\u001b[43mcopy\u001b[49m\u001b[38;5;241;43m=\u001b[39;49m\u001b[43mcopy\u001b[49m\u001b[43m,\u001b[49m\u001b[43m \u001b[49m\u001b[43mskipna\u001b[49m\u001b[38;5;241;43m=\u001b[39;49m\u001b[43mskipna\u001b[49m\u001b[43m)\u001b[49m\n\u001b[1;32m   1099\u001b[0m     \u001b[38;5;66;03m# error: Item \"ExtensionArray\" of \"Union[ExtensionArray, ndarray]\" has no\u001b[39;00m\n\u001b[1;32m   1100\u001b[0m     \u001b[38;5;66;03m# attribute \"reshape\"\u001b[39;00m\n\u001b[1;32m   1101\u001b[0m     \u001b[38;5;28;01mreturn\u001b[39;00m result\u001b[38;5;241m.\u001b[39mreshape(arr\u001b[38;5;241m.\u001b[39mshape)  \u001b[38;5;66;03m# type: ignore[union-attr]\u001b[39;00m\n",
      "File \u001b[0;32m~/opt/anaconda3/envs/algo_trade/lib/python3.9/site-packages/pandas/core/dtypes/cast.py:1181\u001b[0m, in \u001b[0;36mastype_nansafe\u001b[0;34m(arr, dtype, copy, skipna)\u001b[0m\n\u001b[1;32m   1177\u001b[0m     \u001b[38;5;28;01mraise\u001b[39;00m \u001b[38;5;167;01mValueError\u001b[39;00m(msg)\n\u001b[1;32m   1179\u001b[0m \u001b[38;5;28;01mif\u001b[39;00m copy \u001b[38;5;129;01mor\u001b[39;00m is_object_dtype(arr\u001b[38;5;241m.\u001b[39mdtype) \u001b[38;5;129;01mor\u001b[39;00m is_object_dtype(dtype):\n\u001b[1;32m   1180\u001b[0m     \u001b[38;5;66;03m# Explicit copy, or required since NumPy can't view from / to object.\u001b[39;00m\n\u001b[0;32m-> 1181\u001b[0m     \u001b[38;5;28;01mreturn\u001b[39;00m \u001b[43marr\u001b[49m\u001b[38;5;241;43m.\u001b[39;49m\u001b[43mastype\u001b[49m\u001b[43m(\u001b[49m\u001b[43mdtype\u001b[49m\u001b[43m,\u001b[49m\u001b[43m \u001b[49m\u001b[43mcopy\u001b[49m\u001b[38;5;241;43m=\u001b[39;49m\u001b[38;5;28;43;01mTrue\u001b[39;49;00m\u001b[43m)\u001b[49m\n\u001b[1;32m   1183\u001b[0m \u001b[38;5;28;01mreturn\u001b[39;00m arr\u001b[38;5;241m.\u001b[39mastype(dtype, copy\u001b[38;5;241m=\u001b[39mcopy)\n",
      "\u001b[0;31mValueError\u001b[0m: could not convert string to float: '2-storey Terraced House'"
     ]
    }
   ],
   "source": [
    "rf.predict(X)"
   ]
  },
  {
   "cell_type": "code",
   "execution_count": null,
   "id": "10ab337a",
   "metadata": {},
   "outputs": [],
   "source": []
  }
 ],
 "metadata": {
  "kernelspec": {
   "display_name": "algo_trade",
   "language": "python",
   "name": "algo_trade"
  },
  "language_info": {
   "codemirror_mode": {
    "name": "ipython",
    "version": 3
   },
   "file_extension": ".py",
   "mimetype": "text/x-python",
   "name": "python",
   "nbconvert_exporter": "python",
   "pygments_lexer": "ipython3",
   "version": "3.9.12"
  }
 },
 "nbformat": 4,
 "nbformat_minor": 5
}
